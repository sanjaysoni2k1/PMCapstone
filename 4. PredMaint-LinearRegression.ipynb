{
  "nbformat": 4,
  "nbformat_minor": 0,
  "metadata": {
    "colab": {
      "name": "4. PredMaint -Linear Regression.ipynb",
      "version": "0.3.2",
      "provenance": [],
      "collapsed_sections": [
        "XEfKRi1lbudo"
      ]
    },
    "kernelspec": {
      "name": "python3",
      "display_name": "Python 3"
    }
  },
  "cells": [
    {
      "cell_type": "markdown",
      "metadata": {
        "id": "XEfKRi1lbudo",
        "colab_type": "text"
      },
      "source": [
        "#0. Load the Dataset from CSV Files"
      ]
    },
    {
      "cell_type": "code",
      "metadata": {
        "id": "PIvn-e9pVD2j",
        "colab_type": "code",
        "colab": {}
      },
      "source": [
        "import pandas as pd\n",
        "import numpy as np\n",
        "\n",
        "import matplotlib.pyplot as plt\n",
        "plt.style.use('ggplot')\n",
        "%matplotlib inline\n",
        "\n",
        "from sklearn import linear_model\n",
        "from sklearn.ensemble import RandomForestRegressor\n",
        "from sklearn import model_selection\n",
        "from sklearn.tree import DecisionTreeRegressor, DecisionTreeClassifier, export_graphviz\n",
        "from sklearn import metrics\n",
        "from sklearn.feature_selection import SelectFromModel, RFECV"
      ],
      "execution_count": 0,
      "outputs": []
    },
    {
      "cell_type": "code",
      "metadata": {
        "id": "YNieE_dUb4hA",
        "colab_type": "code",
        "outputId": "443a4087-5002-4977-cb7b-f789d9bfdffe",
        "colab": {
          "base_uri": "https://localhost:8080/",
          "height": 346
        }
      },
      "source": [
        "# Load processed training and test data\n",
        "!ls -al\n",
        "!mkdir prognostic\n",
        "\n",
        "from google.colab import drive\n",
        "drive.mount('/content/drive')\n",
        "\n",
        "! cp /content/drive/My\\ Drive/MLProjects/Prognostic/data/*.csv /content/prognostic\n",
        "! ls -al /content/prognostic"
      ],
      "execution_count": 2,
      "outputs": [
        {
          "output_type": "stream",
          "text": [
            "total 16\n",
            "drwxr-xr-x 1 root root 4096 Aug 27 16:17 .\n",
            "drwxr-xr-x 1 root root 4096 Sep  3 09:03 ..\n",
            "drwxr-xr-x 1 root root 4096 Aug 28 16:06 .config\n",
            "drwxr-xr-x 1 root root 4096 Aug 27 16:17 sample_data\n",
            "Go to this URL in a browser: https://accounts.google.com/o/oauth2/auth?client_id=947318989803-6bn6qk8qdgf4n4g3pfee6491hc0brc4i.apps.googleusercontent.com&redirect_uri=urn%3Aietf%3Awg%3Aoauth%3A2.0%3Aoob&scope=email%20https%3A%2F%2Fwww.googleapis.com%2Fauth%2Fdocs.test%20https%3A%2F%2Fwww.googleapis.com%2Fauth%2Fdrive%20https%3A%2F%2Fwww.googleapis.com%2Fauth%2Fdrive.photos.readonly%20https%3A%2F%2Fwww.googleapis.com%2Fauth%2Fpeopleapi.readonly&response_type=code\n",
            "\n",
            "Enter your authorization code:\n",
            "··········\n",
            "Mounted at /content/drive\n",
            "total 21116\n",
            "drwxr-xr-x 2 root root     4096 Sep  3 10:13 .\n",
            "drwxr-xr-x 1 root root     4096 Sep  3 10:13 ..\n",
            "-rw------- 1 root root  2153095 Sep  3 10:13 test.csv\n",
            "-rw------- 1 root root    78607 Sep  3 10:13 test_processed.csv\n",
            "-rw------- 1 root root  3395968 Sep  3 10:13 train.csv\n",
            "-rw------- 1 root root 15975945 Sep  3 10:13 train_processed.csv\n"
          ],
          "name": "stdout"
        }
      ]
    },
    {
      "cell_type": "code",
      "metadata": {
        "id": "8Be2gfOMb8iP",
        "colab_type": "code",
        "outputId": "25b54752-d795-442c-eed2-e6ea25fbc134",
        "colab": {
          "base_uri": "https://localhost:8080/",
          "height": 400
        }
      },
      "source": [
        "df_train=pd.read_csv('prognostic/train_processed.csv')\n",
        "df_test=pd.read_csv('prognostic/test_processed.csv')\n",
        "df_test_original = pd.read_csv('prognostic/test.csv')\n",
        "\n",
        "display(df_train.head(3), df_test.head(3), df_test_original.head(3))"
      ],
      "execution_count": 3,
      "outputs": [
        {
          "output_type": "display_data",
          "data": {
            "text/html": [
              "<div>\n",
              "<style scoped>\n",
              "    .dataframe tbody tr th:only-of-type {\n",
              "        vertical-align: middle;\n",
              "    }\n",
              "\n",
              "    .dataframe tbody tr th {\n",
              "        vertical-align: top;\n",
              "    }\n",
              "\n",
              "    .dataframe thead th {\n",
              "        text-align: right;\n",
              "    }\n",
              "</style>\n",
              "<table border=\"1\" class=\"dataframe\">\n",
              "  <thead>\n",
              "    <tr style=\"text-align: right;\">\n",
              "      <th></th>\n",
              "      <th>id</th>\n",
              "      <th>cycle</th>\n",
              "      <th>setting1</th>\n",
              "      <th>setting2</th>\n",
              "      <th>setting3</th>\n",
              "      <th>s1</th>\n",
              "      <th>s2</th>\n",
              "      <th>s3</th>\n",
              "      <th>s4</th>\n",
              "      <th>s5</th>\n",
              "      <th>s6</th>\n",
              "      <th>s7</th>\n",
              "      <th>s8</th>\n",
              "      <th>s9</th>\n",
              "      <th>s10</th>\n",
              "      <th>s11</th>\n",
              "      <th>s12</th>\n",
              "      <th>s13</th>\n",
              "      <th>s14</th>\n",
              "      <th>s15</th>\n",
              "      <th>s16</th>\n",
              "      <th>s17</th>\n",
              "      <th>s18</th>\n",
              "      <th>s19</th>\n",
              "      <th>s20</th>\n",
              "      <th>s21</th>\n",
              "      <th>s1_av</th>\n",
              "      <th>s2_av</th>\n",
              "      <th>s3_av</th>\n",
              "      <th>s4_av</th>\n",
              "      <th>s5_av</th>\n",
              "      <th>s6_av</th>\n",
              "      <th>s7_av</th>\n",
              "      <th>s8_av</th>\n",
              "      <th>s9_av</th>\n",
              "      <th>s10_av</th>\n",
              "      <th>s11_av</th>\n",
              "      <th>s12_av</th>\n",
              "      <th>s13_av</th>\n",
              "      <th>s14_av</th>\n",
              "      <th>s15_av</th>\n",
              "      <th>s16_av</th>\n",
              "      <th>s17_av</th>\n",
              "      <th>s18_av</th>\n",
              "      <th>s19_av</th>\n",
              "      <th>s20_av</th>\n",
              "      <th>s21_av</th>\n",
              "      <th>s1_std</th>\n",
              "      <th>s2_std</th>\n",
              "      <th>s3_std</th>\n",
              "      <th>s4_std</th>\n",
              "      <th>s5_std</th>\n",
              "      <th>s6_std</th>\n",
              "      <th>s7_std</th>\n",
              "      <th>s8_std</th>\n",
              "      <th>s9_std</th>\n",
              "      <th>s10_std</th>\n",
              "      <th>s11_std</th>\n",
              "      <th>s12_std</th>\n",
              "      <th>s13_std</th>\n",
              "      <th>s14_std</th>\n",
              "      <th>s15_std</th>\n",
              "      <th>s16_std</th>\n",
              "      <th>s17_std</th>\n",
              "      <th>s18_std</th>\n",
              "      <th>s19_std</th>\n",
              "      <th>s20_std</th>\n",
              "      <th>s21_std</th>\n",
              "      <th>rul</th>\n",
              "      <th>label_bnc</th>\n",
              "      <th>label_mcc</th>\n",
              "    </tr>\n",
              "  </thead>\n",
              "  <tbody>\n",
              "    <tr>\n",
              "      <th>0</th>\n",
              "      <td>1</td>\n",
              "      <td>1</td>\n",
              "      <td>-0.0007</td>\n",
              "      <td>-0.0004</td>\n",
              "      <td>100.0</td>\n",
              "      <td>518.67</td>\n",
              "      <td>641.82</td>\n",
              "      <td>1589.70</td>\n",
              "      <td>1400.60</td>\n",
              "      <td>14.62</td>\n",
              "      <td>21.61</td>\n",
              "      <td>554.36</td>\n",
              "      <td>2388.06</td>\n",
              "      <td>9046.19</td>\n",
              "      <td>1.3</td>\n",
              "      <td>47.47</td>\n",
              "      <td>521.66</td>\n",
              "      <td>2388.02</td>\n",
              "      <td>8138.62</td>\n",
              "      <td>8.4195</td>\n",
              "      <td>0.03</td>\n",
              "      <td>392</td>\n",
              "      <td>2388</td>\n",
              "      <td>100.0</td>\n",
              "      <td>39.06</td>\n",
              "      <td>23.4190</td>\n",
              "      <td>518.67</td>\n",
              "      <td>641.820000</td>\n",
              "      <td>1589.700000</td>\n",
              "      <td>1400.600000</td>\n",
              "      <td>14.62</td>\n",
              "      <td>21.61</td>\n",
              "      <td>554.360000</td>\n",
              "      <td>2388.06</td>\n",
              "      <td>9046.190000</td>\n",
              "      <td>1.3</td>\n",
              "      <td>47.47</td>\n",
              "      <td>521.66</td>\n",
              "      <td>2388.020</td>\n",
              "      <td>8138.620000</td>\n",
              "      <td>8.419500</td>\n",
              "      <td>0.03</td>\n",
              "      <td>392.000000</td>\n",
              "      <td>2388.0</td>\n",
              "      <td>100.0</td>\n",
              "      <td>39.060000</td>\n",
              "      <td>23.4190</td>\n",
              "      <td>0.0</td>\n",
              "      <td>0.000000</td>\n",
              "      <td>0.000000</td>\n",
              "      <td>0.000000</td>\n",
              "      <td>0.0</td>\n",
              "      <td>0.0</td>\n",
              "      <td>0.000000</td>\n",
              "      <td>0.000000</td>\n",
              "      <td>0.000000</td>\n",
              "      <td>0.0</td>\n",
              "      <td>0.000000</td>\n",
              "      <td>0.000000</td>\n",
              "      <td>0.000000</td>\n",
              "      <td>0.000000</td>\n",
              "      <td>0.000000</td>\n",
              "      <td>0.0</td>\n",
              "      <td>0.000000</td>\n",
              "      <td>0.0</td>\n",
              "      <td>0.0</td>\n",
              "      <td>0.000000</td>\n",
              "      <td>0.000000</td>\n",
              "      <td>191</td>\n",
              "      <td>0</td>\n",
              "      <td>0</td>\n",
              "    </tr>\n",
              "    <tr>\n",
              "      <th>1</th>\n",
              "      <td>1</td>\n",
              "      <td>2</td>\n",
              "      <td>0.0019</td>\n",
              "      <td>-0.0003</td>\n",
              "      <td>100.0</td>\n",
              "      <td>518.67</td>\n",
              "      <td>642.15</td>\n",
              "      <td>1591.82</td>\n",
              "      <td>1403.14</td>\n",
              "      <td>14.62</td>\n",
              "      <td>21.61</td>\n",
              "      <td>553.75</td>\n",
              "      <td>2388.04</td>\n",
              "      <td>9044.07</td>\n",
              "      <td>1.3</td>\n",
              "      <td>47.49</td>\n",
              "      <td>522.28</td>\n",
              "      <td>2388.07</td>\n",
              "      <td>8131.49</td>\n",
              "      <td>8.4318</td>\n",
              "      <td>0.03</td>\n",
              "      <td>392</td>\n",
              "      <td>2388</td>\n",
              "      <td>100.0</td>\n",
              "      <td>39.00</td>\n",
              "      <td>23.4236</td>\n",
              "      <td>518.67</td>\n",
              "      <td>641.985000</td>\n",
              "      <td>1590.760000</td>\n",
              "      <td>1401.870000</td>\n",
              "      <td>14.62</td>\n",
              "      <td>21.61</td>\n",
              "      <td>554.055000</td>\n",
              "      <td>2388.05</td>\n",
              "      <td>9045.130000</td>\n",
              "      <td>1.3</td>\n",
              "      <td>47.48</td>\n",
              "      <td>521.97</td>\n",
              "      <td>2388.045</td>\n",
              "      <td>8135.055000</td>\n",
              "      <td>8.425650</td>\n",
              "      <td>0.03</td>\n",
              "      <td>392.000000</td>\n",
              "      <td>2388.0</td>\n",
              "      <td>100.0</td>\n",
              "      <td>39.030000</td>\n",
              "      <td>23.4213</td>\n",
              "      <td>0.0</td>\n",
              "      <td>0.233345</td>\n",
              "      <td>1.499066</td>\n",
              "      <td>1.796051</td>\n",
              "      <td>0.0</td>\n",
              "      <td>0.0</td>\n",
              "      <td>0.431335</td>\n",
              "      <td>0.014142</td>\n",
              "      <td>1.499066</td>\n",
              "      <td>0.0</td>\n",
              "      <td>0.014142</td>\n",
              "      <td>0.438406</td>\n",
              "      <td>0.035355</td>\n",
              "      <td>5.041671</td>\n",
              "      <td>0.008697</td>\n",
              "      <td>0.0</td>\n",
              "      <td>0.000000</td>\n",
              "      <td>0.0</td>\n",
              "      <td>0.0</td>\n",
              "      <td>0.042426</td>\n",
              "      <td>0.003253</td>\n",
              "      <td>190</td>\n",
              "      <td>0</td>\n",
              "      <td>0</td>\n",
              "    </tr>\n",
              "    <tr>\n",
              "      <th>2</th>\n",
              "      <td>1</td>\n",
              "      <td>3</td>\n",
              "      <td>-0.0043</td>\n",
              "      <td>0.0003</td>\n",
              "      <td>100.0</td>\n",
              "      <td>518.67</td>\n",
              "      <td>642.35</td>\n",
              "      <td>1587.99</td>\n",
              "      <td>1404.20</td>\n",
              "      <td>14.62</td>\n",
              "      <td>21.61</td>\n",
              "      <td>554.26</td>\n",
              "      <td>2388.08</td>\n",
              "      <td>9052.94</td>\n",
              "      <td>1.3</td>\n",
              "      <td>47.27</td>\n",
              "      <td>522.42</td>\n",
              "      <td>2388.03</td>\n",
              "      <td>8133.23</td>\n",
              "      <td>8.4178</td>\n",
              "      <td>0.03</td>\n",
              "      <td>390</td>\n",
              "      <td>2388</td>\n",
              "      <td>100.0</td>\n",
              "      <td>38.95</td>\n",
              "      <td>23.3442</td>\n",
              "      <td>518.67</td>\n",
              "      <td>642.106667</td>\n",
              "      <td>1589.836667</td>\n",
              "      <td>1402.646667</td>\n",
              "      <td>14.62</td>\n",
              "      <td>21.61</td>\n",
              "      <td>554.123333</td>\n",
              "      <td>2388.06</td>\n",
              "      <td>9047.733333</td>\n",
              "      <td>1.3</td>\n",
              "      <td>47.41</td>\n",
              "      <td>522.12</td>\n",
              "      <td>2388.040</td>\n",
              "      <td>8134.446667</td>\n",
              "      <td>8.423033</td>\n",
              "      <td>0.03</td>\n",
              "      <td>391.333333</td>\n",
              "      <td>2388.0</td>\n",
              "      <td>100.0</td>\n",
              "      <td>39.003333</td>\n",
              "      <td>23.3956</td>\n",
              "      <td>0.0</td>\n",
              "      <td>0.267644</td>\n",
              "      <td>1.918654</td>\n",
              "      <td>1.850009</td>\n",
              "      <td>0.0</td>\n",
              "      <td>0.0</td>\n",
              "      <td>0.327159</td>\n",
              "      <td>0.020000</td>\n",
              "      <td>4.632023</td>\n",
              "      <td>0.0</td>\n",
              "      <td>0.121655</td>\n",
              "      <td>0.404475</td>\n",
              "      <td>0.026458</td>\n",
              "      <td>3.717450</td>\n",
              "      <td>0.007640</td>\n",
              "      <td>0.0</td>\n",
              "      <td>1.154701</td>\n",
              "      <td>0.0</td>\n",
              "      <td>0.0</td>\n",
              "      <td>0.055076</td>\n",
              "      <td>0.044573</td>\n",
              "      <td>189</td>\n",
              "      <td>0</td>\n",
              "      <td>0</td>\n",
              "    </tr>\n",
              "  </tbody>\n",
              "</table>\n",
              "</div>"
            ],
            "text/plain": [
              "   id  cycle  setting1  setting2  ...   s21_std  rul  label_bnc  label_mcc\n",
              "0   1      1   -0.0007   -0.0004  ...  0.000000  191          0          0\n",
              "1   1      2    0.0019   -0.0003  ...  0.003253  190          0          0\n",
              "2   1      3   -0.0043    0.0003  ...  0.044573  189          0          0\n",
              "\n",
              "[3 rows x 71 columns]"
            ]
          },
          "metadata": {
            "tags": []
          }
        },
        {
          "output_type": "display_data",
          "data": {
            "text/html": [
              "<div>\n",
              "<style scoped>\n",
              "    .dataframe tbody tr th:only-of-type {\n",
              "        vertical-align: middle;\n",
              "    }\n",
              "\n",
              "    .dataframe tbody tr th {\n",
              "        vertical-align: top;\n",
              "    }\n",
              "\n",
              "    .dataframe thead th {\n",
              "        text-align: right;\n",
              "    }\n",
              "</style>\n",
              "<table border=\"1\" class=\"dataframe\">\n",
              "  <thead>\n",
              "    <tr style=\"text-align: right;\">\n",
              "      <th></th>\n",
              "      <th>id</th>\n",
              "      <th>cycle</th>\n",
              "      <th>setting1</th>\n",
              "      <th>setting2</th>\n",
              "      <th>setting3</th>\n",
              "      <th>s1</th>\n",
              "      <th>s2</th>\n",
              "      <th>s3</th>\n",
              "      <th>s4</th>\n",
              "      <th>s5</th>\n",
              "      <th>s6</th>\n",
              "      <th>s7</th>\n",
              "      <th>s8</th>\n",
              "      <th>s9</th>\n",
              "      <th>s10</th>\n",
              "      <th>s11</th>\n",
              "      <th>s12</th>\n",
              "      <th>s13</th>\n",
              "      <th>s14</th>\n",
              "      <th>s15</th>\n",
              "      <th>s16</th>\n",
              "      <th>s17</th>\n",
              "      <th>s18</th>\n",
              "      <th>s19</th>\n",
              "      <th>s20</th>\n",
              "      <th>s21</th>\n",
              "      <th>s1_av</th>\n",
              "      <th>s2_av</th>\n",
              "      <th>s3_av</th>\n",
              "      <th>s4_av</th>\n",
              "      <th>s5_av</th>\n",
              "      <th>s6_av</th>\n",
              "      <th>s7_av</th>\n",
              "      <th>s8_av</th>\n",
              "      <th>s9_av</th>\n",
              "      <th>s10_av</th>\n",
              "      <th>s11_av</th>\n",
              "      <th>s12_av</th>\n",
              "      <th>s13_av</th>\n",
              "      <th>s14_av</th>\n",
              "      <th>s15_av</th>\n",
              "      <th>s16_av</th>\n",
              "      <th>s17_av</th>\n",
              "      <th>s18_av</th>\n",
              "      <th>s19_av</th>\n",
              "      <th>s20_av</th>\n",
              "      <th>s21_av</th>\n",
              "      <th>s1_std</th>\n",
              "      <th>s2_std</th>\n",
              "      <th>s3_std</th>\n",
              "      <th>s4_std</th>\n",
              "      <th>s5_std</th>\n",
              "      <th>s6_std</th>\n",
              "      <th>s7_std</th>\n",
              "      <th>s8_std</th>\n",
              "      <th>s9_std</th>\n",
              "      <th>s10_std</th>\n",
              "      <th>s11_std</th>\n",
              "      <th>s12_std</th>\n",
              "      <th>s13_std</th>\n",
              "      <th>s14_std</th>\n",
              "      <th>s15_std</th>\n",
              "      <th>s16_std</th>\n",
              "      <th>s17_std</th>\n",
              "      <th>s18_std</th>\n",
              "      <th>s19_std</th>\n",
              "      <th>s20_std</th>\n",
              "      <th>s21_std</th>\n",
              "      <th>rul</th>\n",
              "      <th>label_bnc</th>\n",
              "      <th>label_mcc</th>\n",
              "    </tr>\n",
              "  </thead>\n",
              "  <tbody>\n",
              "    <tr>\n",
              "      <th>0</th>\n",
              "      <td>1</td>\n",
              "      <td>31</td>\n",
              "      <td>-0.0006</td>\n",
              "      <td>0.0004</td>\n",
              "      <td>100.0</td>\n",
              "      <td>518.67</td>\n",
              "      <td>642.58</td>\n",
              "      <td>1581.22</td>\n",
              "      <td>1398.91</td>\n",
              "      <td>14.62</td>\n",
              "      <td>21.61</td>\n",
              "      <td>554.42</td>\n",
              "      <td>2388.08</td>\n",
              "      <td>9056.40</td>\n",
              "      <td>1.3</td>\n",
              "      <td>47.23</td>\n",
              "      <td>521.79</td>\n",
              "      <td>2388.06</td>\n",
              "      <td>8130.11</td>\n",
              "      <td>8.4024</td>\n",
              "      <td>0.03</td>\n",
              "      <td>393</td>\n",
              "      <td>2388</td>\n",
              "      <td>100.0</td>\n",
              "      <td>38.81</td>\n",
              "      <td>23.3552</td>\n",
              "      <td>518.67</td>\n",
              "      <td>642.44</td>\n",
              "      <td>1584.696667</td>\n",
              "      <td>1399.330000</td>\n",
              "      <td>14.62</td>\n",
              "      <td>21.61</td>\n",
              "      <td>554.223333</td>\n",
              "      <td>2388.083333</td>\n",
              "      <td>9049.986667</td>\n",
              "      <td>1.3</td>\n",
              "      <td>47.350000</td>\n",
              "      <td>521.986667</td>\n",
              "      <td>2388.076667</td>\n",
              "      <td>8132.676667</td>\n",
              "      <td>8.411533</td>\n",
              "      <td>0.03</td>\n",
              "      <td>392.000000</td>\n",
              "      <td>2388.0</td>\n",
              "      <td>100.0</td>\n",
              "      <td>38.973333</td>\n",
              "      <td>23.374733</td>\n",
              "      <td>0.0</td>\n",
              "      <td>0.437150</td>\n",
              "      <td>3.094614</td>\n",
              "      <td>1.475534</td>\n",
              "      <td>0.0</td>\n",
              "      <td>0.0</td>\n",
              "      <td>0.172143</td>\n",
              "      <td>0.005774</td>\n",
              "      <td>5.594375</td>\n",
              "      <td>0.0</td>\n",
              "      <td>0.104403</td>\n",
              "      <td>0.349333</td>\n",
              "      <td>0.020817</td>\n",
              "      <td>2.372706</td>\n",
              "      <td>0.009411</td>\n",
              "      <td>0.0</td>\n",
              "      <td>1.00000</td>\n",
              "      <td>0.0</td>\n",
              "      <td>0.0</td>\n",
              "      <td>0.145717</td>\n",
              "      <td>0.028070</td>\n",
              "      <td>112</td>\n",
              "      <td>0</td>\n",
              "      <td>0</td>\n",
              "    </tr>\n",
              "    <tr>\n",
              "      <th>1</th>\n",
              "      <td>2</td>\n",
              "      <td>49</td>\n",
              "      <td>0.0018</td>\n",
              "      <td>-0.0001</td>\n",
              "      <td>100.0</td>\n",
              "      <td>518.67</td>\n",
              "      <td>642.55</td>\n",
              "      <td>1586.59</td>\n",
              "      <td>1410.83</td>\n",
              "      <td>14.62</td>\n",
              "      <td>21.61</td>\n",
              "      <td>553.52</td>\n",
              "      <td>2388.10</td>\n",
              "      <td>9044.77</td>\n",
              "      <td>1.3</td>\n",
              "      <td>47.67</td>\n",
              "      <td>521.74</td>\n",
              "      <td>2388.09</td>\n",
              "      <td>8126.90</td>\n",
              "      <td>8.4505</td>\n",
              "      <td>0.03</td>\n",
              "      <td>391</td>\n",
              "      <td>2388</td>\n",
              "      <td>100.0</td>\n",
              "      <td>38.81</td>\n",
              "      <td>23.2618</td>\n",
              "      <td>518.67</td>\n",
              "      <td>642.68</td>\n",
              "      <td>1587.293333</td>\n",
              "      <td>1408.673333</td>\n",
              "      <td>14.62</td>\n",
              "      <td>21.61</td>\n",
              "      <td>553.686667</td>\n",
              "      <td>2388.113333</td>\n",
              "      <td>9047.940000</td>\n",
              "      <td>1.3</td>\n",
              "      <td>47.536667</td>\n",
              "      <td>521.763333</td>\n",
              "      <td>2388.103333</td>\n",
              "      <td>8127.106667</td>\n",
              "      <td>8.439700</td>\n",
              "      <td>0.03</td>\n",
              "      <td>391.666667</td>\n",
              "      <td>2388.0</td>\n",
              "      <td>100.0</td>\n",
              "      <td>38.893333</td>\n",
              "      <td>23.283367</td>\n",
              "      <td>0.0</td>\n",
              "      <td>0.153948</td>\n",
              "      <td>0.612563</td>\n",
              "      <td>4.747803</td>\n",
              "      <td>0.0</td>\n",
              "      <td>0.0</td>\n",
              "      <td>0.491664</td>\n",
              "      <td>0.061101</td>\n",
              "      <td>3.917742</td>\n",
              "      <td>0.0</td>\n",
              "      <td>0.119304</td>\n",
              "      <td>0.455448</td>\n",
              "      <td>0.011547</td>\n",
              "      <td>1.570234</td>\n",
              "      <td>0.015373</td>\n",
              "      <td>0.0</td>\n",
              "      <td>0.57735</td>\n",
              "      <td>0.0</td>\n",
              "      <td>0.0</td>\n",
              "      <td>0.090738</td>\n",
              "      <td>0.018825</td>\n",
              "      <td>98</td>\n",
              "      <td>0</td>\n",
              "      <td>0</td>\n",
              "    </tr>\n",
              "    <tr>\n",
              "      <th>2</th>\n",
              "      <td>3</td>\n",
              "      <td>126</td>\n",
              "      <td>-0.0016</td>\n",
              "      <td>0.0004</td>\n",
              "      <td>100.0</td>\n",
              "      <td>518.67</td>\n",
              "      <td>642.88</td>\n",
              "      <td>1589.75</td>\n",
              "      <td>1418.89</td>\n",
              "      <td>14.62</td>\n",
              "      <td>21.61</td>\n",
              "      <td>552.59</td>\n",
              "      <td>2388.16</td>\n",
              "      <td>9049.26</td>\n",
              "      <td>1.3</td>\n",
              "      <td>47.88</td>\n",
              "      <td>520.83</td>\n",
              "      <td>2388.14</td>\n",
              "      <td>8131.46</td>\n",
              "      <td>8.4119</td>\n",
              "      <td>0.03</td>\n",
              "      <td>395</td>\n",
              "      <td>2388</td>\n",
              "      <td>100.0</td>\n",
              "      <td>38.93</td>\n",
              "      <td>23.2740</td>\n",
              "      <td>518.67</td>\n",
              "      <td>643.06</td>\n",
              "      <td>1589.626667</td>\n",
              "      <td>1414.756667</td>\n",
              "      <td>14.62</td>\n",
              "      <td>21.61</td>\n",
              "      <td>552.663333</td>\n",
              "      <td>2388.160000</td>\n",
              "      <td>9048.406667</td>\n",
              "      <td>1.3</td>\n",
              "      <td>47.703333</td>\n",
              "      <td>520.610000</td>\n",
              "      <td>2388.170000</td>\n",
              "      <td>8131.030000</td>\n",
              "      <td>8.442600</td>\n",
              "      <td>0.03</td>\n",
              "      <td>394.666667</td>\n",
              "      <td>2388.0</td>\n",
              "      <td>100.0</td>\n",
              "      <td>38.723333</td>\n",
              "      <td>23.245433</td>\n",
              "      <td>0.0</td>\n",
              "      <td>0.180000</td>\n",
              "      <td>0.931146</td>\n",
              "      <td>3.580703</td>\n",
              "      <td>0.0</td>\n",
              "      <td>0.0</td>\n",
              "      <td>0.405010</td>\n",
              "      <td>0.030000</td>\n",
              "      <td>0.752152</td>\n",
              "      <td>0.0</td>\n",
              "      <td>0.153080</td>\n",
              "      <td>0.416173</td>\n",
              "      <td>0.036056</td>\n",
              "      <td>2.819699</td>\n",
              "      <td>0.026739</td>\n",
              "      <td>0.0</td>\n",
              "      <td>0.57735</td>\n",
              "      <td>0.0</td>\n",
              "      <td>0.0</td>\n",
              "      <td>0.188768</td>\n",
              "      <td>0.025085</td>\n",
              "      <td>69</td>\n",
              "      <td>0</td>\n",
              "      <td>0</td>\n",
              "    </tr>\n",
              "  </tbody>\n",
              "</table>\n",
              "</div>"
            ],
            "text/plain": [
              "   id  cycle  setting1  setting2  ...   s21_std  rul  label_bnc  label_mcc\n",
              "0   1     31   -0.0006    0.0004  ...  0.028070  112          0          0\n",
              "1   2     49    0.0018   -0.0001  ...  0.018825   98          0          0\n",
              "2   3    126   -0.0016    0.0004  ...  0.025085   69          0          0\n",
              "\n",
              "[3 rows x 71 columns]"
            ]
          },
          "metadata": {
            "tags": []
          }
        },
        {
          "output_type": "display_data",
          "data": {
            "text/html": [
              "<div>\n",
              "<style scoped>\n",
              "    .dataframe tbody tr th:only-of-type {\n",
              "        vertical-align: middle;\n",
              "    }\n",
              "\n",
              "    .dataframe tbody tr th {\n",
              "        vertical-align: top;\n",
              "    }\n",
              "\n",
              "    .dataframe thead th {\n",
              "        text-align: right;\n",
              "    }\n",
              "</style>\n",
              "<table border=\"1\" class=\"dataframe\">\n",
              "  <thead>\n",
              "    <tr style=\"text-align: right;\">\n",
              "      <th></th>\n",
              "      <th>id</th>\n",
              "      <th>cycle</th>\n",
              "      <th>setting1</th>\n",
              "      <th>setting2</th>\n",
              "      <th>setting3</th>\n",
              "      <th>s1</th>\n",
              "      <th>s2</th>\n",
              "      <th>s3</th>\n",
              "      <th>s4</th>\n",
              "      <th>s5</th>\n",
              "      <th>s6</th>\n",
              "      <th>s7</th>\n",
              "      <th>s8</th>\n",
              "      <th>s9</th>\n",
              "      <th>s10</th>\n",
              "      <th>s11</th>\n",
              "      <th>s12</th>\n",
              "      <th>s13</th>\n",
              "      <th>s14</th>\n",
              "      <th>s15</th>\n",
              "      <th>s16</th>\n",
              "      <th>s17</th>\n",
              "      <th>s18</th>\n",
              "      <th>s19</th>\n",
              "      <th>s20</th>\n",
              "      <th>s21</th>\n",
              "    </tr>\n",
              "  </thead>\n",
              "  <tbody>\n",
              "    <tr>\n",
              "      <th>0</th>\n",
              "      <td>1</td>\n",
              "      <td>1</td>\n",
              "      <td>0.0023</td>\n",
              "      <td>0.0003</td>\n",
              "      <td>100.0</td>\n",
              "      <td>518.67</td>\n",
              "      <td>643.02</td>\n",
              "      <td>1585.29</td>\n",
              "      <td>1398.21</td>\n",
              "      <td>14.62</td>\n",
              "      <td>21.61</td>\n",
              "      <td>553.90</td>\n",
              "      <td>2388.04</td>\n",
              "      <td>9050.17</td>\n",
              "      <td>1.3</td>\n",
              "      <td>47.2</td>\n",
              "      <td>521.72</td>\n",
              "      <td>2388.03</td>\n",
              "      <td>8125.55</td>\n",
              "      <td>8.4052</td>\n",
              "      <td>0.03</td>\n",
              "      <td>392</td>\n",
              "      <td>2388</td>\n",
              "      <td>100.0</td>\n",
              "      <td>38.86</td>\n",
              "      <td>23.3735</td>\n",
              "    </tr>\n",
              "    <tr>\n",
              "      <th>1</th>\n",
              "      <td>1</td>\n",
              "      <td>2</td>\n",
              "      <td>-0.0027</td>\n",
              "      <td>-0.0003</td>\n",
              "      <td>100.0</td>\n",
              "      <td>518.67</td>\n",
              "      <td>641.71</td>\n",
              "      <td>1588.45</td>\n",
              "      <td>1395.42</td>\n",
              "      <td>14.62</td>\n",
              "      <td>21.61</td>\n",
              "      <td>554.85</td>\n",
              "      <td>2388.01</td>\n",
              "      <td>9054.42</td>\n",
              "      <td>1.3</td>\n",
              "      <td>47.5</td>\n",
              "      <td>522.16</td>\n",
              "      <td>2388.06</td>\n",
              "      <td>8139.62</td>\n",
              "      <td>8.3803</td>\n",
              "      <td>0.03</td>\n",
              "      <td>393</td>\n",
              "      <td>2388</td>\n",
              "      <td>100.0</td>\n",
              "      <td>39.02</td>\n",
              "      <td>23.3916</td>\n",
              "    </tr>\n",
              "    <tr>\n",
              "      <th>2</th>\n",
              "      <td>1</td>\n",
              "      <td>3</td>\n",
              "      <td>0.0003</td>\n",
              "      <td>0.0001</td>\n",
              "      <td>100.0</td>\n",
              "      <td>518.67</td>\n",
              "      <td>642.46</td>\n",
              "      <td>1586.94</td>\n",
              "      <td>1401.34</td>\n",
              "      <td>14.62</td>\n",
              "      <td>21.61</td>\n",
              "      <td>554.11</td>\n",
              "      <td>2388.05</td>\n",
              "      <td>9056.96</td>\n",
              "      <td>1.3</td>\n",
              "      <td>47.5</td>\n",
              "      <td>521.97</td>\n",
              "      <td>2388.03</td>\n",
              "      <td>8130.10</td>\n",
              "      <td>8.4441</td>\n",
              "      <td>0.03</td>\n",
              "      <td>393</td>\n",
              "      <td>2388</td>\n",
              "      <td>100.0</td>\n",
              "      <td>39.08</td>\n",
              "      <td>23.4166</td>\n",
              "    </tr>\n",
              "  </tbody>\n",
              "</table>\n",
              "</div>"
            ],
            "text/plain": [
              "   id  cycle  setting1  setting2  setting3  ...  s17   s18    s19    s20      s21\n",
              "0   1      1    0.0023    0.0003     100.0  ...  392  2388  100.0  38.86  23.3735\n",
              "1   1      2   -0.0027   -0.0003     100.0  ...  393  2388  100.0  39.02  23.3916\n",
              "2   1      3    0.0003    0.0001     100.0  ...  393  2388  100.0  39.08  23.4166\n",
              "\n",
              "[3 rows x 26 columns]"
            ]
          },
          "metadata": {
            "tags": []
          }
        }
      ]
    },
    {
      "cell_type": "markdown",
      "metadata": {
        "id": "f_l6YirMbiaq",
        "colab_type": "text"
      },
      "source": [
        "# 1. Regression Modelling"
      ]
    },
    {
      "cell_type": "markdown",
      "metadata": {
        "id": "huzwBF3ICvKj",
        "colab_type": "text"
      },
      "source": [
        "## Regression Modelling\n",
        "\n",
        "We will segment the Test and Training dataset into features dataframe and labels series\n",
        "\n",
        "To make it easy to train models on different set of features, a variable to hold the set of features required was used to subset the original dataframe "
      ]
    },
    {
      "cell_type": "code",
      "metadata": {
        "id": "QPX5zmOfDBk4",
        "colab_type": "code",
        "colab": {}
      },
      "source": [
        "#original features\n",
        "features_orig = ['setting1','setting2','setting3','s1','s2','s3','s4','s5','s6','s7','s8','s9','s10','s11','s12','s13','s14','s15','s16','s17','s18','s19','s20','s21']\n",
        "\n",
        "#original + extracted features\n",
        "features_adxf = ['setting1', 'setting2', 'setting3', 's1', 's2', 's3', 's4', 's5', 's6', 's7', 's8', 's9', 's10', 's11', 's12', 's13', 's14', 's15', 's16', 's17', 's18',\n",
        "                 's19', 's20', 's21', 'av1', 'av2', 'av3', 'av4', 'av5', 'av6', 'av7', 'av8', 'av9', 'av10', 'av11', 'av12', 'av13', 'av14', 'av15', 'av16', 'av17', 'av18',\n",
        "                 'av19', 'av20', 'av21', 'sd1', 'sd2', 'sd3', 'sd4', 'sd5', 'sd6', 'sd7', 'sd8', 'sd9', 'sd10', 'sd11', 'sd12', 'sd13', 'sd14', 'sd15', 'sd16', 'sd17', 'sd18',\n",
        "                 'sd19', 'sd20', 'sd21']\n",
        "\n",
        "#features with low or no correlation with regression label\n",
        "features_lowcr = ['setting3', 's1', 's10', 's18','s19','s16','s5', 'setting1', 'setting2']\n",
        "\n",
        "#features that have correlation with the regression label\n",
        "features_corrl = ['s2', 's3', 's4', 's6', 's7', 's8', 's9', 's11', 's12', 's13', 's14', 's15', 's17', 's20','s21']\n",
        "\n",
        "#a variable to hold the set of features to experiment with\n",
        "features = features_orig\n",
        "\n",
        "X_train = df_train[features]\n",
        "y_train = df_train['rul']\n",
        "\n",
        "X_test = df_test[features]\n",
        "y_test = df_test['rul']"
      ],
      "execution_count": 0,
      "outputs": []
    },
    {
      "cell_type": "code",
      "metadata": {
        "id": "5dHBJQ2zDYkt",
        "colab_type": "code",
        "colab": {}
      },
      "source": [
        "#Create helper class to calculate Regression Metrics\n",
        "def get_regression_metrics(model, actual, predicted):\n",
        "  \"\"\"\n",
        "  Args:\n",
        "    model(str) - the model name identifier\n",
        "    actual (serie) - contains the test value labels\n",
        "    predicted(series) - contains the predicted value labels\n",
        "  \n",
        "  Returns:\n",
        "    datafram: The combined metrics in single dataframe\n",
        "  \"\"\"\n",
        "  regr_metrics = {\n",
        "                        'Root Mean Squared Error' : metrics.mean_squared_error(actual, predicted)**0.5,\n",
        "                        'Mean Absolute Error' : metrics.mean_absolute_error(actual, predicted),\n",
        "                        'R^2' : metrics.r2_score(actual, predicted),\n",
        "                        'Explained Variance' : metrics.explained_variance_score(actual, predicted)\n",
        "                 }\n",
        "  \n",
        "  #return reg_metrics\n",
        "  df_reg_metrics = pd.DataFrame.from_dict(regr_metrics, orient = 'index')\n",
        "  df_reg_metrics.columns = [model]\n",
        "  return df_reg_metrics\n"
      ],
      "execution_count": 0,
      "outputs": []
    },
    {
      "cell_type": "code",
      "metadata": {
        "id": "EybPWYSSFbKc",
        "colab_type": "code",
        "colab": {}
      },
      "source": [
        "#Create a helper function to plot the coefficients weight or feature importance\n",
        "def plot_features_weights(model, weights, feature_names, weights_type='c'):\n",
        "  \"\"\"\n",
        "  Plot regression coefficients weights or feature importance\n",
        "  \n",
        "  Args:\n",
        "    model(str): The model name identifier\n",
        "    weights(array): Contains the regression coefficients weights or feature importance\n",
        "    feature_names(list): Contains the corresponding feature names\n",
        "    weight_type(str): 'c' for coefficients weight, otherwise is feature importance\n",
        "    \n",
        "  Returns:\n",
        "    plot of either the regression coefficient weights or feature importance\n",
        " \n",
        "  \"\"\"\n",
        "  \n",
        "  (px, py) = (8,10) if len(weights)>30 else (8,5)\n",
        "  W = pd.DataFrame({'Weights':weights}, feature_names)\n",
        "  W.sort_values(by='Weights', ascending=True).plot(kind='barh', color='r', figsize=(px,py))\n",
        "  label = 'Coefficients' if weights_type == 'c' else 'Features Importance'\n",
        "  \n",
        "  plt.xlabel(model+label)\n",
        "  plt.gca().legend_ = None"
      ],
      "execution_count": 0,
      "outputs": []
    },
    {
      "cell_type": "code",
      "metadata": {
        "id": "d-hUi-DGGvIR",
        "colab_type": "code",
        "colab": {}
      },
      "source": [
        "#Create a helper function to plot the regression residuals\n",
        "\n",
        "def plot_residual(model, y_train, y_train_pred, y_test, y_test_pred):\n",
        "  \"\"\"\n",
        "  Print the Regression Residuals\n",
        "  \n",
        "  Args:\n",
        "    model(str): the model name identifier\n",
        "    y_train(series): the training labels\n",
        "    y_train_pred(series): the predictions on training data\n",
        "    y_test(series): the test labels\n",
        "    y_test_pred(series): the predictions on the the test data\n",
        "    \n",
        "  Returns:\n",
        "    Plot of the Regression Residuals\n",
        "  \"\"\"\n",
        "  \n",
        "  plt.scatter(y_train_pred, y_train_pred-y_train, c='blue', marker='o', label='Training Data')\n",
        "  plt.scatter(y_test_pred, y_test_pred-y_test, c='lightgreen', marker='s', label='Test Data')\n",
        "  \n",
        "  plt.xlabel('Predicted Value')\n",
        "  plt.ylabel('Residuals')\n",
        "  plt.legend(loc= 'upper left')\n",
        "  plt.hlines(y=0, xmin=-50, xmax=400, color='red', lw=2)\n",
        "  plt.title(model+' Residuals')\n",
        "  plt.show()"
      ],
      "execution_count": 0,
      "outputs": []
    },
    {
      "cell_type": "markdown",
      "metadata": {
        "id": "_lV7o4FVnvzu",
        "colab_type": "text"
      },
      "source": [
        "## Base Model - Linear Regression"
      ]
    },
    {
      "cell_type": "code",
      "metadata": {
        "id": "ck1ej6ihnuer",
        "colab_type": "code",
        "colab": {
          "base_uri": "https://localhost:8080/",
          "height": 186
        },
        "outputId": "06752377-f8da-4977-d802-8e1420fe9526"
      },
      "source": [
        "# Base Linear Regression\n",
        "linear = linear_model.LinearRegression()\n",
        "linear.fit(X_train, y_train)\n",
        "\n",
        "y_test_predict = linear.predict(X_test)\n",
        "y_train_predict = linear.predict(X_train)\n",
        "\n",
        "print('R^2 training: %.3f, R^2 test: %.3f' % (\n",
        "      (metrics.r2_score(y_train, y_train_predict)), \n",
        "      (metrics.r2_score(y_test, y_test_predict))))\n",
        "\n",
        "linreg_metrics = get_regression_metrics('Linear Reg', y_test, y_test_predict)\n",
        "linreg_metrics"
      ],
      "execution_count": 9,
      "outputs": [
        {
          "output_type": "stream",
          "text": [
            "R^2 training: 0.580, R^2 test: 0.405\n"
          ],
          "name": "stdout"
        },
        {
          "output_type": "execute_result",
          "data": {
            "text/html": [
              "<div>\n",
              "<style scoped>\n",
              "    .dataframe tbody tr th:only-of-type {\n",
              "        vertical-align: middle;\n",
              "    }\n",
              "\n",
              "    .dataframe tbody tr th {\n",
              "        vertical-align: top;\n",
              "    }\n",
              "\n",
              "    .dataframe thead th {\n",
              "        text-align: right;\n",
              "    }\n",
              "</style>\n",
              "<table border=\"1\" class=\"dataframe\">\n",
              "  <thead>\n",
              "    <tr style=\"text-align: right;\">\n",
              "      <th></th>\n",
              "      <th>Linear Reg</th>\n",
              "    </tr>\n",
              "  </thead>\n",
              "  <tbody>\n",
              "    <tr>\n",
              "      <th>Root Mean Squared Error</th>\n",
              "      <td>32.041095</td>\n",
              "    </tr>\n",
              "    <tr>\n",
              "      <th>Mean Absolute Error</th>\n",
              "      <td>25.591780</td>\n",
              "    </tr>\n",
              "    <tr>\n",
              "      <th>R^2</th>\n",
              "      <td>0.405495</td>\n",
              "    </tr>\n",
              "    <tr>\n",
              "      <th>Explained Variance</th>\n",
              "      <td>0.665297</td>\n",
              "    </tr>\n",
              "  </tbody>\n",
              "</table>\n",
              "</div>"
            ],
            "text/plain": [
              "                         Linear Reg\n",
              "Root Mean Squared Error   32.041095\n",
              "Mean Absolute Error       25.591780\n",
              "R^2                        0.405495\n",
              "Explained Variance         0.665297"
            ]
          },
          "metadata": {
            "tags": []
          },
          "execution_count": 9
        }
      ]
    },
    {
      "cell_type": "markdown",
      "metadata": {
        "id": "PO_peX6oodhW",
        "colab_type": "text"
      },
      "source": [
        "## Test Other Regression Algorithms"
      ]
    },
    {
      "cell_type": "code",
      "metadata": {
        "id": "IoAWSp9EIPsT",
        "colab_type": "code",
        "outputId": "99084a78-91d7-4034-fb06-a5c43526b146",
        "colab": {
          "base_uri": "https://localhost:8080/",
          "height": 186
        }
      },
      "source": [
        "#Try Lasso\n",
        "lasso = linear_model.Lasso(alpha=0.001)\n",
        "lasso.fit(X_train, y_train)\n",
        "\n",
        "y_test_predict = lasso.predict(X_test)\n",
        "y_train_predict = lasso.predict(X_train)\n",
        "\n",
        "print('R^2 training: %.3f, R^2 test: %.3f' % (\n",
        "      (metrics.r2_score(y_train, y_train_predict)), \n",
        "      (metrics.r2_score(y_test, y_test_predict))))\n",
        "\n",
        "lasso_metrics = get_regression_metrics('LASSO', y_test, y_test_predict)\n",
        "lasso_metrics"
      ],
      "execution_count": 10,
      "outputs": [
        {
          "output_type": "stream",
          "text": [
            "R^2 training: 0.579, R^2 test: 0.408\n"
          ],
          "name": "stdout"
        },
        {
          "output_type": "execute_result",
          "data": {
            "text/html": [
              "<div>\n",
              "<style scoped>\n",
              "    .dataframe tbody tr th:only-of-type {\n",
              "        vertical-align: middle;\n",
              "    }\n",
              "\n",
              "    .dataframe tbody tr th {\n",
              "        vertical-align: top;\n",
              "    }\n",
              "\n",
              "    .dataframe thead th {\n",
              "        text-align: right;\n",
              "    }\n",
              "</style>\n",
              "<table border=\"1\" class=\"dataframe\">\n",
              "  <thead>\n",
              "    <tr style=\"text-align: right;\">\n",
              "      <th></th>\n",
              "      <th>LASSO</th>\n",
              "    </tr>\n",
              "  </thead>\n",
              "  <tbody>\n",
              "    <tr>\n",
              "      <th>Root Mean Squared Error</th>\n",
              "      <td>31.966099</td>\n",
              "    </tr>\n",
              "    <tr>\n",
              "      <th>Mean Absolute Error</th>\n",
              "      <td>25.551808</td>\n",
              "    </tr>\n",
              "    <tr>\n",
              "      <th>R^2</th>\n",
              "      <td>0.408275</td>\n",
              "    </tr>\n",
              "    <tr>\n",
              "      <th>Explained Variance</th>\n",
              "      <td>0.668206</td>\n",
              "    </tr>\n",
              "  </tbody>\n",
              "</table>\n",
              "</div>"
            ],
            "text/plain": [
              "                             LASSO\n",
              "Root Mean Squared Error  31.966099\n",
              "Mean Absolute Error      25.551808\n",
              "R^2                       0.408275\n",
              "Explained Variance        0.668206"
            ]
          },
          "metadata": {
            "tags": []
          },
          "execution_count": 10
        }
      ]
    },
    {
      "cell_type": "code",
      "metadata": {
        "id": "m51sddg8Jd7M",
        "colab_type": "code",
        "outputId": "04d9b336-9bb9-47fb-a710-1b680a91b9a1",
        "colab": {
          "base_uri": "https://localhost:8080/",
          "height": 340
        }
      },
      "source": [
        "plot_features_weights('LASSO', lasso.coef_, X_train.columns, 'c')"
      ],
      "execution_count": 12,
      "outputs": [
        {
          "output_type": "display_data",
          "data": {
            "image/png": "[encoded data removed]",
            "text/plain": [
              "<Figure size 576x360 with 1 Axes>"
            ]
          },
          "metadata": {
            "tags": []
          }
        }
      ]
    },
    {
      "cell_type": "code",
      "metadata": {
        "id": "5qzpD3wOKAf3",
        "colab_type": "code",
        "outputId": "814442c1-cb91-4920-bcc2-a0a79b95d9f9",
        "colab": {
          "base_uri": "https://localhost:8080/",
          "height": 299
        }
      },
      "source": [
        "plot_residual('LASSO', y_train_predict, y_train, y_test_predict, y_test)"
      ],
      "execution_count": 13,
      "outputs": [
        {
          "output_type": "display_data",
          "data": {
            "image/png": "[encoded data removed]",
            "text/plain": [
              "<Figure size 432x288 with 1 Axes>"
            ]
          },
          "metadata": {
            "tags": []
          }
        }
      ]
    },
    {
      "cell_type": "code",
      "metadata": {
        "id": "JLmYTpt8dYjs",
        "colab_type": "code",
        "outputId": "bfffbffe-3850-416b-c64c-af5a3cbeb1f9",
        "colab": {
          "base_uri": "https://localhost:8080/",
          "height": 186
        }
      },
      "source": [
        "#try ridge\n",
        "\n",
        "rdg = linear_model.Ridge(alpha=0.01)\n",
        "rdg.fit(X_train, y_train)\n",
        "\n",
        "y_test_predict = rdg.predict(X_test)\n",
        "y_train_predict= rdg.predict(X_train)\n",
        "\n",
        "\n",
        "print('R^2 training: %.3f, R^2 test: %.3f' % (\n",
        "      (metrics.r2_score(y_train, y_train_predict)), \n",
        "      (metrics.r2_score(y_test, y_test_predict))))\n",
        "\n",
        "rdg_metrics = get_regression_metrics('Ridge Regression', y_test, y_test_predict)\n",
        "rdg_metrics\n"
      ],
      "execution_count": 20,
      "outputs": [
        {
          "output_type": "stream",
          "text": [
            "R^2 training: 0.580, R^2 test: 0.408\n"
          ],
          "name": "stdout"
        },
        {
          "output_type": "execute_result",
          "data": {
            "text/html": [
              "<div>\n",
              "<style scoped>\n",
              "    .dataframe tbody tr th:only-of-type {\n",
              "        vertical-align: middle;\n",
              "    }\n",
              "\n",
              "    .dataframe tbody tr th {\n",
              "        vertical-align: top;\n",
              "    }\n",
              "\n",
              "    .dataframe thead th {\n",
              "        text-align: right;\n",
              "    }\n",
              "</style>\n",
              "<table border=\"1\" class=\"dataframe\">\n",
              "  <thead>\n",
              "    <tr style=\"text-align: right;\">\n",
              "      <th></th>\n",
              "      <th>Ridge Regression</th>\n",
              "    </tr>\n",
              "  </thead>\n",
              "  <tbody>\n",
              "    <tr>\n",
              "      <th>Root Mean Squared Error</th>\n",
              "      <td>31.965740</td>\n",
              "    </tr>\n",
              "    <tr>\n",
              "      <th>Mean Absolute Error</th>\n",
              "      <td>25.544620</td>\n",
              "    </tr>\n",
              "    <tr>\n",
              "      <th>R^2</th>\n",
              "      <td>0.408289</td>\n",
              "    </tr>\n",
              "    <tr>\n",
              "      <th>Explained Variance</th>\n",
              "      <td>0.667607</td>\n",
              "    </tr>\n",
              "  </tbody>\n",
              "</table>\n",
              "</div>"
            ],
            "text/plain": [
              "                         Ridge Regression\n",
              "Root Mean Squared Error         31.965740\n",
              "Mean Absolute Error             25.544620\n",
              "R^2                              0.408289\n",
              "Explained Variance               0.667607"
            ]
          },
          "metadata": {
            "tags": []
          },
          "execution_count": 20
        }
      ]
    },
    {
      "cell_type": "code",
      "metadata": {
        "id": "vFERywQId82i",
        "colab_type": "code",
        "outputId": "c157e7f3-f6a2-4ba4-82cc-1d88fe2643be",
        "colab": {
          "base_uri": "https://localhost:8080/",
          "height": 340
        }
      },
      "source": [
        "plot_features_weights('Ridge Regression', rdg.coef_, X_train.columns, 'c')"
      ],
      "execution_count": 21,
      "outputs": [
        {
          "output_type": "display_data",
          "data": {
            "image/png": "[encoded data removed]",
            "text/plain": [
              "<Figure size 576x360 with 1 Axes>"
            ]
          },
          "metadata": {
            "tags": []
          }
        }
      ]
    },
    {
      "cell_type": "code",
      "metadata": {
        "id": "0eXHa8tyeJk1",
        "colab_type": "code",
        "outputId": "952232cf-b34e-4375-ce77-452f5cd8c244",
        "colab": {
          "base_uri": "https://localhost:8080/",
          "height": 299
        }
      },
      "source": [
        "plot_residual('Ridge Regression', y_train_predict, y_train, y_test_predict, y_test)"
      ],
      "execution_count": 22,
      "outputs": [
        {
          "output_type": "display_data",
          "data": {
            "image/png": "[encoded data removed]",
            "text/plain": [
              "<Figure size 432x288 with 1 Axes>"
            ]
          },
          "metadata": {
            "tags": []
          }
        }
      ]
    },
    {
      "cell_type": "code",
      "metadata": {
        "id": "K7wLnPJJeTe9",
        "colab_type": "code",
        "outputId": "762ec06d-3dfd-44b4-b87d-83e84367ca43",
        "colab": {
          "base_uri": "https://localhost:8080/",
          "height": 186
        }
      },
      "source": [
        "#try Polynomial Regression\n",
        "\n",
        "from sklearn.preprocessing import PolynomialFeatures\n",
        "\n",
        "poly = PolynomialFeatures(degree=2)\n",
        "X_train_poly = poly.fit_transform(X_train)\n",
        "X_test_poly = poly.fit_transform(X_test)\n",
        "\n",
        "polyreg = linear_model.LinearRegression()\n",
        "polyreg.fit(X_train_poly, y_train)\n",
        "\n",
        "y_test_predict = polyreg.predict(X_test_poly)\n",
        "y_train_predict= polyreg.predict(X_train_poly)\n",
        "\n",
        "print('R^2 training: %.3f, R^2 test: %.3f' % (\n",
        "      (metrics.r2_score(y_train, y_train_predict)), \n",
        "      (metrics.r2_score(y_test, y_test_predict))))\n",
        "\n",
        "polyreg_metrics = get_regression_metrics('Polynomial Regression', y_test, y_test_predict)\n",
        "polyreg_metrics"
      ],
      "execution_count": 23,
      "outputs": [
        {
          "output_type": "stream",
          "text": [
            "R^2 training: 0.627, R^2 test: 0.387\n"
          ],
          "name": "stdout"
        },
        {
          "output_type": "execute_result",
          "data": {
            "text/html": [
              "<div>\n",
              "<style scoped>\n",
              "    .dataframe tbody tr th:only-of-type {\n",
              "        vertical-align: middle;\n",
              "    }\n",
              "\n",
              "    .dataframe tbody tr th {\n",
              "        vertical-align: top;\n",
              "    }\n",
              "\n",
              "    .dataframe thead th {\n",
              "        text-align: right;\n",
              "    }\n",
              "</style>\n",
              "<table border=\"1\" class=\"dataframe\">\n",
              "  <thead>\n",
              "    <tr style=\"text-align: right;\">\n",
              "      <th></th>\n",
              "      <th>Polynomial Regression</th>\n",
              "    </tr>\n",
              "  </thead>\n",
              "  <tbody>\n",
              "    <tr>\n",
              "      <th>Root Mean Squared Error</th>\n",
              "      <td>32.530030</td>\n",
              "    </tr>\n",
              "    <tr>\n",
              "      <th>Mean Absolute Error</th>\n",
              "      <td>24.944453</td>\n",
              "    </tr>\n",
              "    <tr>\n",
              "      <th>R^2</th>\n",
              "      <td>0.387213</td>\n",
              "    </tr>\n",
              "    <tr>\n",
              "      <th>Explained Variance</th>\n",
              "      <td>0.633327</td>\n",
              "    </tr>\n",
              "  </tbody>\n",
              "</table>\n",
              "</div>"
            ],
            "text/plain": [
              "                         Polynomial Regression\n",
              "Root Mean Squared Error              32.530030\n",
              "Mean Absolute Error                  24.944453\n",
              "R^2                                   0.387213\n",
              "Explained Variance                    0.633327"
            ]
          },
          "metadata": {
            "tags": []
          },
          "execution_count": 23
        }
      ]
    },
    {
      "cell_type": "code",
      "metadata": {
        "id": "D6A1MsQnfF6S",
        "colab_type": "code",
        "outputId": "196eb514-ec4c-4824-e21c-4c5c070d88c2",
        "colab": {
          "base_uri": "https://localhost:8080/",
          "height": 299
        }
      },
      "source": [
        "plot_residual('Polynomial Regression', y_train_predict, y_train, y_test_predict, y_test)"
      ],
      "execution_count": 24,
      "outputs": [
        {
          "output_type": "display_data",
          "data": {
            "image/png": "[encoded data removed]",
            "text/plain": [
              "<Figure size 432x288 with 1 Axes>"
            ]
          },
          "metadata": {
            "tags": []
          }
        }
      ]
    },
    {
      "cell_type": "markdown",
      "metadata": {
        "id": "wPH-5jZ6fbrZ",
        "colab_type": "text"
      },
      "source": [
        "As is expected Polynomial Regression has fared better than the linear regression model"
      ]
    },
    {
      "cell_type": "code",
      "metadata": {
        "id": "E-5NCDXDfV9x",
        "colab_type": "code",
        "outputId": "296fa46e-32a3-46c3-b169-d9b8d9d5354e",
        "colab": {
          "base_uri": "https://localhost:8080/",
          "height": 186
        }
      },
      "source": [
        "#try Decision Tree regressor\n",
        "\n",
        "#dtrg = DecisionTreeRegressor(max_depth=8, max_features=5, random_state=123) # selected features\n",
        "dtrg = DecisionTreeRegressor(max_depth=7, random_state=123)\n",
        "dtrg.fit(X_train, y_train)\n",
        "\n",
        "y_test_predict = dtrg.predict(X_test)\n",
        "y_train_predict = dtrg.predict(X_train)\n",
        "\n",
        "print('R^2 training: %.3f, R^2 test: %.3f' % (\n",
        "      (metrics.r2_score(y_train, y_train_predict)), \n",
        "      (metrics.r2_score(y_test, y_test_predict))))\n",
        "\n",
        "dtrg_metrics = get_regression_metrics('Decision Tree Regression', y_test, y_test_predict)\n",
        "dtrg_metrics"
      ],
      "execution_count": 25,
      "outputs": [
        {
          "output_type": "stream",
          "text": [
            "R^2 training: 0.625, R^2 test: 0.403\n"
          ],
          "name": "stdout"
        },
        {
          "output_type": "execute_result",
          "data": {
            "text/html": [
              "<div>\n",
              "<style scoped>\n",
              "    .dataframe tbody tr th:only-of-type {\n",
              "        vertical-align: middle;\n",
              "    }\n",
              "\n",
              "    .dataframe tbody tr th {\n",
              "        vertical-align: top;\n",
              "    }\n",
              "\n",
              "    .dataframe thead th {\n",
              "        text-align: right;\n",
              "    }\n",
              "</style>\n",
              "<table border=\"1\" class=\"dataframe\">\n",
              "  <thead>\n",
              "    <tr style=\"text-align: right;\">\n",
              "      <th></th>\n",
              "      <th>Decision Tree Regression</th>\n",
              "    </tr>\n",
              "  </thead>\n",
              "  <tbody>\n",
              "    <tr>\n",
              "      <th>Root Mean Squared Error</th>\n",
              "      <td>32.095349</td>\n",
              "    </tr>\n",
              "    <tr>\n",
              "      <th>Mean Absolute Error</th>\n",
              "      <td>24.319068</td>\n",
              "    </tr>\n",
              "    <tr>\n",
              "      <th>R^2</th>\n",
              "      <td>0.403480</td>\n",
              "    </tr>\n",
              "    <tr>\n",
              "      <th>Explained Variance</th>\n",
              "      <td>0.632767</td>\n",
              "    </tr>\n",
              "  </tbody>\n",
              "</table>\n",
              "</div>"
            ],
            "text/plain": [
              "                         Decision Tree Regression\n",
              "Root Mean Squared Error                 32.095349\n",
              "Mean Absolute Error                     24.319068\n",
              "R^2                                      0.403480\n",
              "Explained Variance                       0.632767"
            ]
          },
          "metadata": {
            "tags": []
          },
          "execution_count": 25
        }
      ]
    },
    {
      "cell_type": "code",
      "metadata": {
        "id": "cMuY5CBkfvQi",
        "colab_type": "code",
        "outputId": "0259fa1f-9e8f-499e-a2e9-5c17d13169b2",
        "colab": {
          "base_uri": "https://localhost:8080/",
          "height": 340
        }
      },
      "source": [
        "plot_features_weights('Decision Tree Regressor', dtrg.feature_importances_, X_train.columns, 't' )"
      ],
      "execution_count": 26,
      "outputs": [
        {
          "output_type": "display_data",
          "data": {
            "image/png": "[encoded data removed]",
            "text/plain": [
              "<Figure size 576x360 with 1 Axes>"
            ]
          },
          "metadata": {
            "tags": []
          }
        }
      ]
    },
    {
      "cell_type": "code",
      "metadata": {
        "id": "eNPyttPWfz-A",
        "colab_type": "code",
        "outputId": "52e5fa38-9491-4646-ba6b-8505a9686e91",
        "colab": {
          "base_uri": "https://localhost:8080/",
          "height": 299
        }
      },
      "source": [
        "plot_residual('Decision Tree Regression', y_train_predict, y_train, y_test_predict, y_test)"
      ],
      "execution_count": 27,
      "outputs": [
        {
          "output_type": "display_data",
          "data": {
            "image/png": "[encoded data removed]",
            "text/plain": [
              "<Figure size 432x288 with 1 Axes>"
            ]
          },
          "metadata": {
            "tags": []
          }
        }
      ]
    },
    {
      "cell_type": "code",
      "metadata": {
        "id": "Fgvp3-tSg1Qa",
        "colab_type": "code",
        "outputId": "779b318a-c2a6-4af2-b556-96832f2c2bbf",
        "colab": {
          "base_uri": "https://localhost:8080/",
          "height": 323
        }
      },
      "source": [
        "#try recursive feature elimination\n",
        "\n",
        "kfold = model_selection.KFold(n_splits=5, random_state=10)\n",
        "\n",
        "dtrg = DecisionTreeRegressor(max_depth=7)\n",
        "\n",
        "rfecv = RFECV(estimator=dtrg, step=1, cv=kfold, scoring='neg_mean_squared_error', n_jobs=-1)\n",
        "rfecv.fit(X_train, y_train)\n",
        "\n",
        "print(\"Optimal number of features : %d\" % rfecv.n_features_)\n",
        "\n",
        "sel_features = [f for f,s in zip(X_train.columns, rfecv.support_) if s]\n",
        "print('The selected features are: {}'.format(sel_features))\n",
        "\n",
        "# Plot number of features VS. cross-validation scores\n",
        "plt.figure()\n",
        "plt.xlabel(\"Number of features selected (RFE)\")\n",
        "plt.ylabel(\"Cross validation score (mse)\")\n",
        "plt.plot(range(1, len(rfecv.grid_scores_) + 1), rfecv.grid_scores_)\n",
        "plt.show()"
      ],
      "execution_count": 28,
      "outputs": [
        {
          "output_type": "stream",
          "text": [
            "Optimal number of features : 5\n",
            "The selected features are: ['s4', 's7', 's9', 's11', 's12']\n"
          ],
          "name": "stdout"
        },
        {
          "output_type": "display_data",
          "data": {
            "image/png": "[encoded data removed]",
            "text/plain": [
              "<Figure size 432x288 with 1 Axes>"
            ]
          },
          "metadata": {
            "tags": []
          }
        }
      ]
    },
    {
      "cell_type": "code",
      "metadata": {
        "id": "hL9_yWqqdhGv",
        "colab_type": "code",
        "outputId": "06f07d4a-21bd-4901-affc-a7ee9ede4962",
        "colab": {
          "base_uri": "https://localhost:8080/",
          "height": 186
        }
      },
      "source": [
        "# Decition Tree with selected features\n",
        "\n",
        "#trnsform train and test data\n",
        "X_train_trn = rfecv.transform(X_train)\n",
        "X_test_trn = rfecv.transform(X_test)\n",
        "\n",
        "print(X_train.shape)\n",
        "\n",
        "dtrg = DecisionTreeRegressor(max_depth=7)\n",
        "\n",
        "dtrg.fit(X_train_trn, y_train)\n",
        "\n",
        "y_test_predict = dtrg.predict(X_test_trn)\n",
        "\n",
        "dtrg_fs_metrics = get_regression_metrics('Decision Tree: Selected Features', y_test, y_test_predict)\n",
        "\n",
        "#combine decision tree results: All features and selected features\n",
        "dtr_metrics = pd.concat([dtrg_fs_metrics,dtrg_metrics], axis=1)\n",
        "\n",
        "dtr_metrics"
      ],
      "execution_count": 29,
      "outputs": [
        {
          "output_type": "stream",
          "text": [
            "(20631, 24)\n"
          ],
          "name": "stdout"
        },
        {
          "output_type": "execute_result",
          "data": {
            "text/html": [
              "<div>\n",
              "<style scoped>\n",
              "    .dataframe tbody tr th:only-of-type {\n",
              "        vertical-align: middle;\n",
              "    }\n",
              "\n",
              "    .dataframe tbody tr th {\n",
              "        vertical-align: top;\n",
              "    }\n",
              "\n",
              "    .dataframe thead th {\n",
              "        text-align: right;\n",
              "    }\n",
              "</style>\n",
              "<table border=\"1\" class=\"dataframe\">\n",
              "  <thead>\n",
              "    <tr style=\"text-align: right;\">\n",
              "      <th></th>\n",
              "      <th>Decision Tree: Selected Features</th>\n",
              "      <th>Decision Tree Regression</th>\n",
              "    </tr>\n",
              "  </thead>\n",
              "  <tbody>\n",
              "    <tr>\n",
              "      <th>Root Mean Squared Error</th>\n",
              "      <td>34.212392</td>\n",
              "      <td>32.095349</td>\n",
              "    </tr>\n",
              "    <tr>\n",
              "      <th>Mean Absolute Error</th>\n",
              "      <td>25.866117</td>\n",
              "      <td>24.319068</td>\n",
              "    </tr>\n",
              "    <tr>\n",
              "      <th>R^2</th>\n",
              "      <td>0.322191</td>\n",
              "      <td>0.403480</td>\n",
              "    </tr>\n",
              "    <tr>\n",
              "      <th>Explained Variance</th>\n",
              "      <td>0.593892</td>\n",
              "      <td>0.632767</td>\n",
              "    </tr>\n",
              "  </tbody>\n",
              "</table>\n",
              "</div>"
            ],
            "text/plain": [
              "                         Decision Tree: Selected Features  Decision Tree Regression\n",
              "Root Mean Squared Error                         34.212392                 32.095349\n",
              "Mean Absolute Error                             25.866117                 24.319068\n",
              "R^2                                              0.322191                  0.403480\n",
              "Explained Variance                               0.593892                  0.632767"
            ]
          },
          "metadata": {
            "tags": []
          },
          "execution_count": 29
        }
      ]
    },
    {
      "cell_type": "markdown",
      "metadata": {
        "id": "m0cRIyfnds77",
        "colab_type": "text"
      },
      "source": [
        "Model performance using only 5 top important features is comparable to using all 24 features.\n",
        "\n",
        "Lets have a look at the percentage importance of these features"
      ]
    },
    {
      "cell_type": "code",
      "metadata": {
        "id": "JtLzfX_Odpkl",
        "colab_type": "code",
        "outputId": "e5ded1c3-29fb-4ece-971f-d56c06dc2eae",
        "colab": {
          "base_uri": "https://localhost:8080/",
          "height": 198
        }
      },
      "source": [
        "feats = {} # a dict to hold feature_name: feature_importance\n",
        "for feature, importance in zip(sel_features, dtrg.feature_importances_):\n",
        "    feats[feature] = importance #add the name/value pair \n",
        "\n",
        "importances = pd.DataFrame.from_dict(feats, orient='index').rename(columns={0: 'Importance'})\n",
        "\n",
        "importances.sort_values(by='Importance', ascending=False)"
      ],
      "execution_count": 30,
      "outputs": [
        {
          "output_type": "execute_result",
          "data": {
            "text/html": [
              "<div>\n",
              "<style scoped>\n",
              "    .dataframe tbody tr th:only-of-type {\n",
              "        vertical-align: middle;\n",
              "    }\n",
              "\n",
              "    .dataframe tbody tr th {\n",
              "        vertical-align: top;\n",
              "    }\n",
              "\n",
              "    .dataframe thead th {\n",
              "        text-align: right;\n",
              "    }\n",
              "</style>\n",
              "<table border=\"1\" class=\"dataframe\">\n",
              "  <thead>\n",
              "    <tr style=\"text-align: right;\">\n",
              "      <th></th>\n",
              "      <th>Importance</th>\n",
              "    </tr>\n",
              "  </thead>\n",
              "  <tbody>\n",
              "    <tr>\n",
              "      <th>s11</th>\n",
              "      <td>0.682967</td>\n",
              "    </tr>\n",
              "    <tr>\n",
              "      <th>s9</th>\n",
              "      <td>0.168857</td>\n",
              "    </tr>\n",
              "    <tr>\n",
              "      <th>s4</th>\n",
              "      <td>0.091237</td>\n",
              "    </tr>\n",
              "    <tr>\n",
              "      <th>s12</th>\n",
              "      <td>0.033993</td>\n",
              "    </tr>\n",
              "    <tr>\n",
              "      <th>s7</th>\n",
              "      <td>0.022947</td>\n",
              "    </tr>\n",
              "  </tbody>\n",
              "</table>\n",
              "</div>"
            ],
            "text/plain": [
              "     Importance\n",
              "s11    0.682967\n",
              "s9     0.168857\n",
              "s4     0.091237\n",
              "s12    0.033993\n",
              "s7     0.022947"
            ]
          },
          "metadata": {
            "tags": []
          },
          "execution_count": 30
        }
      ]
    },
    {
      "cell_type": "code",
      "metadata": {
        "id": "CUDDN4kWdv4c",
        "colab_type": "code",
        "outputId": "49f3f869-95a1-4afd-f833-55fc339a7dcd",
        "colab": {
          "base_uri": "https://localhost:8080/",
          "height": 186
        }
      },
      "source": [
        "#try Random Forest\n",
        "\n",
        "#rf = RandomForestRegressor(n_estimators=100, max_features=2, max_depth=4, n_jobs=-1, random_state=1) # selected features\n",
        "rf = RandomForestRegressor(n_estimators=100, max_features=3, max_depth=4, n_jobs=-1, random_state=1) # original features\n",
        "#rf = RandomForestRegressor(n_estimators=100, max_features=3, max_depth=7, n_jobs=-1, random_state=1) # orig + extrcted \n",
        "\n",
        "rf.fit(X_train, y_train)\n",
        "\n",
        "y_test_predict = rf.predict(X_test)\n",
        "y_train_predict = rf.predict(X_train)\n",
        "\n",
        "print('R^2 training: %.3f, R^2 test: %.3f' % (\n",
        "      (metrics.r2_score(y_train, y_train_predict)), \n",
        "      (metrics.r2_score(y_test, y_test_predict))))\n",
        "\n",
        "rf_metrics = get_regression_metrics('Random Forest Regression', y_test, y_test_predict)\n",
        "rf_metrics"
      ],
      "execution_count": 31,
      "outputs": [
        {
          "output_type": "stream",
          "text": [
            "R^2 training: 0.594, R^2 test: 0.525\n"
          ],
          "name": "stdout"
        },
        {
          "output_type": "execute_result",
          "data": {
            "text/html": [
              "<div>\n",
              "<style scoped>\n",
              "    .dataframe tbody tr th:only-of-type {\n",
              "        vertical-align: middle;\n",
              "    }\n",
              "\n",
              "    .dataframe tbody tr th {\n",
              "        vertical-align: top;\n",
              "    }\n",
              "\n",
              "    .dataframe thead th {\n",
              "        text-align: right;\n",
              "    }\n",
              "</style>\n",
              "<table border=\"1\" class=\"dataframe\">\n",
              "  <thead>\n",
              "    <tr style=\"text-align: right;\">\n",
              "      <th></th>\n",
              "      <th>Random Forest Regression</th>\n",
              "    </tr>\n",
              "  </thead>\n",
              "  <tbody>\n",
              "    <tr>\n",
              "      <th>Root Mean Squared Error</th>\n",
              "      <td>28.634253</td>\n",
              "    </tr>\n",
              "    <tr>\n",
              "      <th>Mean Absolute Error</th>\n",
              "      <td>23.167130</td>\n",
              "    </tr>\n",
              "    <tr>\n",
              "      <th>R^2</th>\n",
              "      <td>0.525198</td>\n",
              "    </tr>\n",
              "    <tr>\n",
              "      <th>Explained Variance</th>\n",
              "      <td>0.767320</td>\n",
              "    </tr>\n",
              "  </tbody>\n",
              "</table>\n",
              "</div>"
            ],
            "text/plain": [
              "                         Random Forest Regression\n",
              "Root Mean Squared Error                 28.634253\n",
              "Mean Absolute Error                     23.167130\n",
              "R^2                                      0.525198\n",
              "Explained Variance                       0.767320"
            ]
          },
          "metadata": {
            "tags": []
          },
          "execution_count": 31
        }
      ]
    },
    {
      "cell_type": "code",
      "metadata": {
        "id": "GDCYYbj7dyad",
        "colab_type": "code",
        "outputId": "afd22234-f8aa-4bac-b42c-613822d70803",
        "colab": {
          "base_uri": "https://localhost:8080/",
          "height": 340
        }
      },
      "source": [
        "plot_features_weights('Random Forest Regressor', rf.feature_importances_, X_train.columns, 't' )"
      ],
      "execution_count": 32,
      "outputs": [
        {
          "output_type": "display_data",
          "data": {
            "image/png": "[encoded data removed]",
            "text/plain": [
              "<Figure size 576x360 with 1 Axes>"
            ]
          },
          "metadata": {
            "tags": []
          }
        }
      ]
    },
    {
      "cell_type": "code",
      "metadata": {
        "id": "u7AeW07Ed3_4",
        "colab_type": "code",
        "outputId": "38227771-2033-4c73-ebaa-e077f29d5157",
        "colab": {
          "base_uri": "https://localhost:8080/",
          "height": 299
        }
      },
      "source": [
        "plot_residual('Random Forest Regression', y_train_predict, y_train, y_test_predict, y_test)"
      ],
      "execution_count": 33,
      "outputs": [
        {
          "output_type": "display_data",
          "data": {
            "image/png": "[encoded data removed]",
            "text/plain": [
              "<Figure size 432x288 with 1 Axes>"
            ]
          },
          "metadata": {
            "tags": []
          }
        }
      ]
    },
    {
      "cell_type": "markdown",
      "metadata": {
        "id": "-Y9czpYRd6-j",
        "colab_type": "text"
      },
      "source": [
        "regression residuals were not randomly spread across the average value of the residuals. This could be improved by fixing the data (e.g. outliers, resampling) or model parameters tuning.\n",
        "\n",
        "Let us view predicted values"
      ]
    },
    {
      "cell_type": "code",
      "metadata": {
        "id": "z_b3kCMOd7a0",
        "colab_type": "code",
        "outputId": "9fbecce1-902f-4b2e-f125-d15e24957021",
        "colab": {
          "base_uri": "https://localhost:8080/",
          "height": 157
        }
      },
      "source": [
        "# view predictions vs actual\n",
        "\n",
        "rf_pred_dict = {\n",
        "                'Actual' : y_test,\n",
        "                'Prediction' : y_test_predict\n",
        "            }\n",
        "    \n",
        "rf_pred = pd.DataFrame.from_dict(rf_pred_dict).T\n",
        "rf_pred"
      ],
      "execution_count": 34,
      "outputs": [
        {
          "output_type": "execute_result",
          "data": {
            "text/html": [
              "<div>\n",
              "<style scoped>\n",
              "    .dataframe tbody tr th:only-of-type {\n",
              "        vertical-align: middle;\n",
              "    }\n",
              "\n",
              "    .dataframe tbody tr th {\n",
              "        vertical-align: top;\n",
              "    }\n",
              "\n",
              "    .dataframe thead th {\n",
              "        text-align: right;\n",
              "    }\n",
              "</style>\n",
              "<table border=\"1\" class=\"dataframe\">\n",
              "  <thead>\n",
              "    <tr style=\"text-align: right;\">\n",
              "      <th></th>\n",
              "      <th>0</th>\n",
              "      <th>1</th>\n",
              "      <th>2</th>\n",
              "      <th>3</th>\n",
              "      <th>4</th>\n",
              "      <th>5</th>\n",
              "      <th>6</th>\n",
              "      <th>7</th>\n",
              "      <th>8</th>\n",
              "      <th>9</th>\n",
              "      <th>10</th>\n",
              "      <th>11</th>\n",
              "      <th>12</th>\n",
              "      <th>13</th>\n",
              "      <th>14</th>\n",
              "      <th>15</th>\n",
              "      <th>16</th>\n",
              "      <th>17</th>\n",
              "      <th>18</th>\n",
              "      <th>19</th>\n",
              "      <th>20</th>\n",
              "      <th>21</th>\n",
              "      <th>22</th>\n",
              "      <th>23</th>\n",
              "      <th>24</th>\n",
              "      <th>25</th>\n",
              "      <th>26</th>\n",
              "      <th>27</th>\n",
              "      <th>28</th>\n",
              "      <th>29</th>\n",
              "      <th>30</th>\n",
              "      <th>31</th>\n",
              "      <th>32</th>\n",
              "      <th>33</th>\n",
              "      <th>34</th>\n",
              "      <th>35</th>\n",
              "      <th>36</th>\n",
              "      <th>37</th>\n",
              "      <th>38</th>\n",
              "      <th>39</th>\n",
              "      <th>...</th>\n",
              "      <th>60</th>\n",
              "      <th>61</th>\n",
              "      <th>62</th>\n",
              "      <th>63</th>\n",
              "      <th>64</th>\n",
              "      <th>65</th>\n",
              "      <th>66</th>\n",
              "      <th>67</th>\n",
              "      <th>68</th>\n",
              "      <th>69</th>\n",
              "      <th>70</th>\n",
              "      <th>71</th>\n",
              "      <th>72</th>\n",
              "      <th>73</th>\n",
              "      <th>74</th>\n",
              "      <th>75</th>\n",
              "      <th>76</th>\n",
              "      <th>77</th>\n",
              "      <th>78</th>\n",
              "      <th>79</th>\n",
              "      <th>80</th>\n",
              "      <th>81</th>\n",
              "      <th>82</th>\n",
              "      <th>83</th>\n",
              "      <th>84</th>\n",
              "      <th>85</th>\n",
              "      <th>86</th>\n",
              "      <th>87</th>\n",
              "      <th>88</th>\n",
              "      <th>89</th>\n",
              "      <th>90</th>\n",
              "      <th>91</th>\n",
              "      <th>92</th>\n",
              "      <th>93</th>\n",
              "      <th>94</th>\n",
              "      <th>95</th>\n",
              "      <th>96</th>\n",
              "      <th>97</th>\n",
              "      <th>98</th>\n",
              "      <th>99</th>\n",
              "    </tr>\n",
              "  </thead>\n",
              "  <tbody>\n",
              "    <tr>\n",
              "      <th>Actual</th>\n",
              "      <td>112.000000</td>\n",
              "      <td>98.000000</td>\n",
              "      <td>69.000000</td>\n",
              "      <td>82.000000</td>\n",
              "      <td>91.00000</td>\n",
              "      <td>93.000000</td>\n",
              "      <td>91.000000</td>\n",
              "      <td>95.000000</td>\n",
              "      <td>111.00000</td>\n",
              "      <td>96.000000</td>\n",
              "      <td>97.0000</td>\n",
              "      <td>124.000000</td>\n",
              "      <td>95.00000</td>\n",
              "      <td>107.000000</td>\n",
              "      <td>83.000000</td>\n",
              "      <td>84.000000</td>\n",
              "      <td>50.000000</td>\n",
              "      <td>28.000000</td>\n",
              "      <td>87.000000</td>\n",
              "      <td>16.000000</td>\n",
              "      <td>57.000000</td>\n",
              "      <td>111.00000</td>\n",
              "      <td>113.000000</td>\n",
              "      <td>20.000000</td>\n",
              "      <td>145.000000</td>\n",
              "      <td>119.000000</td>\n",
              "      <td>66.000000</td>\n",
              "      <td>97.00000</td>\n",
              "      <td>90.000000</td>\n",
              "      <td>115.000000</td>\n",
              "      <td>8.000000</td>\n",
              "      <td>48.000000</td>\n",
              "      <td>106.000000</td>\n",
              "      <td>7.000000</td>\n",
              "      <td>11.000000</td>\n",
              "      <td>19.000000</td>\n",
              "      <td>21.000000</td>\n",
              "      <td>50.000000</td>\n",
              "      <td>142.000000</td>\n",
              "      <td>28.000000</td>\n",
              "      <td>...</td>\n",
              "      <td>21.000000</td>\n",
              "      <td>54.000000</td>\n",
              "      <td>72.000000</td>\n",
              "      <td>28.000000</td>\n",
              "      <td>128.000000</td>\n",
              "      <td>14.000000</td>\n",
              "      <td>77.00000</td>\n",
              "      <td>8.00000</td>\n",
              "      <td>121.000000</td>\n",
              "      <td>94.000000</td>\n",
              "      <td>118.0000</td>\n",
              "      <td>50.000000</td>\n",
              "      <td>131.00000</td>\n",
              "      <td>126.000000</td>\n",
              "      <td>113.000000</td>\n",
              "      <td>10.000000</td>\n",
              "      <td>34.000000</td>\n",
              "      <td>107.000000</td>\n",
              "      <td>63.000000</td>\n",
              "      <td>90.00000</td>\n",
              "      <td>8.000000</td>\n",
              "      <td>9.000000</td>\n",
              "      <td>137.000000</td>\n",
              "      <td>58.000000</td>\n",
              "      <td>118.00000</td>\n",
              "      <td>89.00000</td>\n",
              "      <td>116.000000</td>\n",
              "      <td>115.000000</td>\n",
              "      <td>136.000000</td>\n",
              "      <td>28.000000</td>\n",
              "      <td>38.000000</td>\n",
              "      <td>20.000000</td>\n",
              "      <td>85.00000</td>\n",
              "      <td>55.000000</td>\n",
              "      <td>128.000000</td>\n",
              "      <td>137.000000</td>\n",
              "      <td>82.000000</td>\n",
              "      <td>59.000000</td>\n",
              "      <td>117.000000</td>\n",
              "      <td>20.00000</td>\n",
              "    </tr>\n",
              "    <tr>\n",
              "      <th>Prediction</th>\n",
              "      <td>151.578408</td>\n",
              "      <td>119.268513</td>\n",
              "      <td>74.415647</td>\n",
              "      <td>96.470907</td>\n",
              "      <td>112.59338</td>\n",
              "      <td>130.279445</td>\n",
              "      <td>128.114019</td>\n",
              "      <td>100.692144</td>\n",
              "      <td>116.11839</td>\n",
              "      <td>127.369752</td>\n",
              "      <td>74.3702</td>\n",
              "      <td>108.928126</td>\n",
              "      <td>111.97524</td>\n",
              "      <td>114.536493</td>\n",
              "      <td>156.282221</td>\n",
              "      <td>141.445157</td>\n",
              "      <td>76.112088</td>\n",
              "      <td>74.765506</td>\n",
              "      <td>133.969586</td>\n",
              "      <td>29.800027</td>\n",
              "      <td>99.080066</td>\n",
              "      <td>138.99969</td>\n",
              "      <td>151.577454</td>\n",
              "      <td>49.988723</td>\n",
              "      <td>139.165295</td>\n",
              "      <td>144.898254</td>\n",
              "      <td>129.894492</td>\n",
              "      <td>122.46679</td>\n",
              "      <td>124.485877</td>\n",
              "      <td>115.945569</td>\n",
              "      <td>23.600092</td>\n",
              "      <td>86.326373</td>\n",
              "      <td>106.700074</td>\n",
              "      <td>16.454064</td>\n",
              "      <td>16.121201</td>\n",
              "      <td>28.620101</td>\n",
              "      <td>65.573096</td>\n",
              "      <td>64.179198</td>\n",
              "      <td>156.255114</td>\n",
              "      <td>27.998811</td>\n",
              "      <td>...</td>\n",
              "      <td>45.917472</td>\n",
              "      <td>78.269108</td>\n",
              "      <td>81.969786</td>\n",
              "      <td>53.908666</td>\n",
              "      <td>162.578261</td>\n",
              "      <td>23.566936</td>\n",
              "      <td>135.59351</td>\n",
              "      <td>19.44597</td>\n",
              "      <td>130.790774</td>\n",
              "      <td>113.696268</td>\n",
              "      <td>147.1769</td>\n",
              "      <td>101.133369</td>\n",
              "      <td>150.15836</td>\n",
              "      <td>114.010495</td>\n",
              "      <td>143.063171</td>\n",
              "      <td>19.500564</td>\n",
              "      <td>45.845112</td>\n",
              "      <td>160.525567</td>\n",
              "      <td>114.390374</td>\n",
              "      <td>102.09728</td>\n",
              "      <td>16.713524</td>\n",
              "      <td>17.761367</td>\n",
              "      <td>132.373095</td>\n",
              "      <td>70.655231</td>\n",
              "      <td>118.51855</td>\n",
              "      <td>111.07483</td>\n",
              "      <td>147.694806</td>\n",
              "      <td>130.444925</td>\n",
              "      <td>124.612641</td>\n",
              "      <td>46.908398</td>\n",
              "      <td>40.976045</td>\n",
              "      <td>33.031218</td>\n",
              "      <td>51.39622</td>\n",
              "      <td>64.318328</td>\n",
              "      <td>143.657061</td>\n",
              "      <td>159.663783</td>\n",
              "      <td>100.027659</td>\n",
              "      <td>103.182456</td>\n",
              "      <td>157.063688</td>\n",
              "      <td>35.62655</td>\n",
              "    </tr>\n",
              "  </tbody>\n",
              "</table>\n",
              "<p>2 rows × 100 columns</p>\n",
              "</div>"
            ],
            "text/plain": [
              "                    0           1          2   ...          97          98        99\n",
              "Actual      112.000000   98.000000  69.000000  ...   59.000000  117.000000  20.00000\n",
              "Prediction  151.578408  119.268513  74.415647  ...  103.182456  157.063688  35.62655\n",
              "\n",
              "[2 rows x 100 columns]"
            ]
          },
          "metadata": {
            "tags": []
          },
          "execution_count": 34
        }
      ]
    },
    {
      "cell_type": "code",
      "metadata": {
        "id": "iTcQaMx5eAW8",
        "colab_type": "code",
        "outputId": "5feef39e-a399-4261-fa82-816ac9ab5aeb",
        "colab": {
          "base_uri": "https://localhost:8080/",
          "height": 168
        }
      },
      "source": [
        "#regression metrics comparison before feature engineering\n",
        "#linreg_metrics,\n",
        "reg_metrics_bfe = pd.concat([ linreg_metrics, lasso_metrics, rdg_metrics, dtrg_metrics, polyreg_metrics, rf_metrics], axis=1)\n",
        "reg_metrics_bfe"
      ],
      "execution_count": 36,
      "outputs": [
        {
          "output_type": "execute_result",
          "data": {
            "text/html": [
              "<div>\n",
              "<style scoped>\n",
              "    .dataframe tbody tr th:only-of-type {\n",
              "        vertical-align: middle;\n",
              "    }\n",
              "\n",
              "    .dataframe tbody tr th {\n",
              "        vertical-align: top;\n",
              "    }\n",
              "\n",
              "    .dataframe thead th {\n",
              "        text-align: right;\n",
              "    }\n",
              "</style>\n",
              "<table border=\"1\" class=\"dataframe\">\n",
              "  <thead>\n",
              "    <tr style=\"text-align: right;\">\n",
              "      <th></th>\n",
              "      <th>Linear Reg</th>\n",
              "      <th>LASSO</th>\n",
              "      <th>Ridge Regression</th>\n",
              "      <th>Decision Tree Regression</th>\n",
              "      <th>Polynomial Regression</th>\n",
              "      <th>Random Forest Regression</th>\n",
              "    </tr>\n",
              "  </thead>\n",
              "  <tbody>\n",
              "    <tr>\n",
              "      <th>Root Mean Squared Error</th>\n",
              "      <td>32.041095</td>\n",
              "      <td>31.966099</td>\n",
              "      <td>31.965740</td>\n",
              "      <td>32.095349</td>\n",
              "      <td>32.530030</td>\n",
              "      <td>28.634253</td>\n",
              "    </tr>\n",
              "    <tr>\n",
              "      <th>Mean Absolute Error</th>\n",
              "      <td>25.591780</td>\n",
              "      <td>25.551808</td>\n",
              "      <td>25.544620</td>\n",
              "      <td>24.319068</td>\n",
              "      <td>24.944453</td>\n",
              "      <td>23.167130</td>\n",
              "    </tr>\n",
              "    <tr>\n",
              "      <th>R^2</th>\n",
              "      <td>0.405495</td>\n",
              "      <td>0.408275</td>\n",
              "      <td>0.408289</td>\n",
              "      <td>0.403480</td>\n",
              "      <td>0.387213</td>\n",
              "      <td>0.525198</td>\n",
              "    </tr>\n",
              "    <tr>\n",
              "      <th>Explained Variance</th>\n",
              "      <td>0.665297</td>\n",
              "      <td>0.668206</td>\n",
              "      <td>0.667607</td>\n",
              "      <td>0.632767</td>\n",
              "      <td>0.633327</td>\n",
              "      <td>0.767320</td>\n",
              "    </tr>\n",
              "  </tbody>\n",
              "</table>\n",
              "</div>"
            ],
            "text/plain": [
              "                         Linear Reg  ...  Random Forest Regression\n",
              "Root Mean Squared Error   32.041095  ...                 28.634253\n",
              "Mean Absolute Error       25.591780  ...                 23.167130\n",
              "R^2                        0.405495  ...                  0.525198\n",
              "Explained Variance         0.665297  ...                  0.767320\n",
              "\n",
              "[4 rows x 6 columns]"
            ]
          },
          "metadata": {
            "tags": []
          },
          "execution_count": 36
        }
      ]
    },
    {
      "cell_type": "markdown",
      "metadata": {
        "id": "bCEytjxeeRxg",
        "colab_type": "text"
      },
      "source": [
        "**Regression Summary:**\n",
        "\n",
        "In accordance with our analysis in the data exploratory phase, non-linear regression models like Polynomial and Random Forest performed better than linear models like OLS, LASSO and Ridge regression. Random Forest clearly outperformed other models scoring RMSE of 28.63 cycles, i.e. the model predicts TTF within average error range of ±28.63 cycles.\n",
        "\n",
        "The hyper-parameter tuning for the Random Forest Regressor, LASSO, and Ridge models was done manually, but Grid Search or Random Search with Cross Validation could be used for better processing."
      ]
    }
  ]
}