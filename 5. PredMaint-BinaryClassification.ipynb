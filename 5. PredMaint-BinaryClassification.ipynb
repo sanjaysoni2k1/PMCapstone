{
  "nbformat": 4,
  "nbformat_minor": 0,
  "metadata": {
    "colab": {
      "name": "5. PredMaint-BinaryClassification.ipynb",
      "version": "0.3.2",
      "provenance": [],
      "collapsed_sections": [
        "QEc2_sS2Wu26",
        "CQFFs8oxX8Cs",
        "YMwbDv0DYW20",
        "REh3bvf_bAM0",
        "gi3Z38tPnwGT",
        "C6P7xV2kkswz",
        "qWzbc9rdkza3",
        "uKSM8kpKmJiR",
        "Z4SGEDdHgijb",
        "PHWDoUf1nHKy",
        "_HmhXhM-zOP8"
      ]
    },
    "kernelspec": {
      "name": "python3",
      "display_name": "Python 3"
    }
  },
  "cells": [
    {
      "cell_type": "markdown",
      "metadata": {
        "id": "QEc2_sS2Wu26",
        "colab_type": "text"
      },
      "source": [
        "## LOAD DATA"
      ]
    },
    {
      "cell_type": "code",
      "metadata": {
        "id": "I7VdRfWgS-Bd",
        "colab_type": "code",
        "colab": {}
      },
      "source": [
        "import pandas as pd\n",
        "import numpy as np\n",
        "\n",
        "\n",
        "import matplotlib.pyplot as plt\n",
        "%matplotlib inline  \n",
        "\n",
        "from sklearn import metrics\n",
        "from sklearn import model_selection\n",
        "\n",
        "from sklearn.model_selection import GridSearchCV\n",
        "\n",
        "from sklearn.metrics import confusion_matrix\n",
        "from sklearn.utils.multiclass import unique_labels\n",
        "\n",
        "from sklearn.linear_model import LogisticRegression\n",
        "from sklearn.ensemble import RandomForestClassifier\n",
        "from sklearn.svm import SVC, LinearSVC\n",
        "from sklearn.tree import DecisionTreeClassifier, export_graphviz\n",
        "from sklearn.neighbors import KNeighborsClassifier\n",
        "from sklearn.naive_bayes import GaussianNB"
      ],
      "execution_count": 0,
      "outputs": []
    },
    {
      "cell_type": "code",
      "metadata": {
        "id": "O-xJAsgCTG3V",
        "colab_type": "code",
        "outputId": "5f220a82-b2f6-4f03-ac26-ca43d6b78ddf",
        "colab": {
          "base_uri": "https://localhost:8080/",
          "height": 346
        }
      },
      "source": [
        "# Load processed training and test data\n",
        "!ls -al\n",
        "!mkdir prognostic\n",
        "\n",
        "from google.colab import drive\n",
        "drive.mount('/content/drive')\n",
        "\n",
        "! cp /content/drive/My\\ Drive/MLProjects/Prognostic/data/*.csv /content/prognostic\n",
        "! ls -al /content/prognostic"
      ],
      "execution_count": 2,
      "outputs": [
        {
          "output_type": "stream",
          "text": [
            "total 16\n",
            "drwxr-xr-x 1 root root 4096 Aug 27 16:17 .\n",
            "drwxr-xr-x 1 root root 4096 Sep  3 10:50 ..\n",
            "drwxr-xr-x 1 root root 4096 Aug 28 16:06 .config\n",
            "drwxr-xr-x 1 root root 4096 Aug 27 16:17 sample_data\n",
            "Go to this URL in a browser: https://accounts.google.com/o/oauth2/auth?client_id=947318989803-6bn6qk8qdgf4n4g3pfee6491hc0brc4i.apps.googleusercontent.com&redirect_uri=urn%3Aietf%3Awg%3Aoauth%3A2.0%3Aoob&scope=email%20https%3A%2F%2Fwww.googleapis.com%2Fauth%2Fdocs.test%20https%3A%2F%2Fwww.googleapis.com%2Fauth%2Fdrive%20https%3A%2F%2Fwww.googleapis.com%2Fauth%2Fdrive.photos.readonly%20https%3A%2F%2Fwww.googleapis.com%2Fauth%2Fpeopleapi.readonly&response_type=code\n",
            "\n",
            "Enter your authorization code:\n",
            "··········\n",
            "Mounted at /content/drive\n",
            "total 21116\n",
            "drwxr-xr-x 2 root root     4096 Sep  3 10:53 .\n",
            "drwxr-xr-x 1 root root     4096 Sep  3 10:53 ..\n",
            "-rw------- 1 root root  2153095 Sep  3 10:53 test.csv\n",
            "-rw------- 1 root root    78607 Sep  3 10:53 test_processed.csv\n",
            "-rw------- 1 root root  3395968 Sep  3 10:53 train.csv\n",
            "-rw------- 1 root root 15975945 Sep  3 10:53 train_processed.csv\n"
          ],
          "name": "stdout"
        }
      ]
    },
    {
      "cell_type": "code",
      "metadata": {
        "id": "nUstMzVZTXkh",
        "colab_type": "code",
        "outputId": "e1728a2d-cdb9-470c-f3b1-256c623a4fa5",
        "colab": {
          "base_uri": "https://localhost:8080/",
          "height": 279
        }
      },
      "source": [
        "df_train=pd.read_csv('prognostic/train_processed.csv')\n",
        "df_test=pd.read_csv('prognostic/test_processed.csv')\n",
        "\n",
        "display(df_train.head(3))\n",
        "display(df_test.head(3))"
      ],
      "execution_count": 3,
      "outputs": [
        {
          "output_type": "display_data",
          "data": {
            "text/html": [
              "<div>\n",
              "<style scoped>\n",
              "    .dataframe tbody tr th:only-of-type {\n",
              "        vertical-align: middle;\n",
              "    }\n",
              "\n",
              "    .dataframe tbody tr th {\n",
              "        vertical-align: top;\n",
              "    }\n",
              "\n",
              "    .dataframe thead th {\n",
              "        text-align: right;\n",
              "    }\n",
              "</style>\n",
              "<table border=\"1\" class=\"dataframe\">\n",
              "  <thead>\n",
              "    <tr style=\"text-align: right;\">\n",
              "      <th></th>\n",
              "      <th>id</th>\n",
              "      <th>cycle</th>\n",
              "      <th>setting1</th>\n",
              "      <th>setting2</th>\n",
              "      <th>setting3</th>\n",
              "      <th>s1</th>\n",
              "      <th>s2</th>\n",
              "      <th>s3</th>\n",
              "      <th>s4</th>\n",
              "      <th>s5</th>\n",
              "      <th>s6</th>\n",
              "      <th>s7</th>\n",
              "      <th>s8</th>\n",
              "      <th>s9</th>\n",
              "      <th>s10</th>\n",
              "      <th>s11</th>\n",
              "      <th>s12</th>\n",
              "      <th>s13</th>\n",
              "      <th>s14</th>\n",
              "      <th>s15</th>\n",
              "      <th>s16</th>\n",
              "      <th>s17</th>\n",
              "      <th>s18</th>\n",
              "      <th>s19</th>\n",
              "      <th>s20</th>\n",
              "      <th>s21</th>\n",
              "      <th>s1_av</th>\n",
              "      <th>s2_av</th>\n",
              "      <th>s3_av</th>\n",
              "      <th>s4_av</th>\n",
              "      <th>s5_av</th>\n",
              "      <th>s6_av</th>\n",
              "      <th>s7_av</th>\n",
              "      <th>s8_av</th>\n",
              "      <th>s9_av</th>\n",
              "      <th>s10_av</th>\n",
              "      <th>s11_av</th>\n",
              "      <th>s12_av</th>\n",
              "      <th>s13_av</th>\n",
              "      <th>s14_av</th>\n",
              "      <th>s15_av</th>\n",
              "      <th>s16_av</th>\n",
              "      <th>s17_av</th>\n",
              "      <th>s18_av</th>\n",
              "      <th>s19_av</th>\n",
              "      <th>s20_av</th>\n",
              "      <th>s21_av</th>\n",
              "      <th>s1_std</th>\n",
              "      <th>s2_std</th>\n",
              "      <th>s3_std</th>\n",
              "      <th>s4_std</th>\n",
              "      <th>s5_std</th>\n",
              "      <th>s6_std</th>\n",
              "      <th>s7_std</th>\n",
              "      <th>s8_std</th>\n",
              "      <th>s9_std</th>\n",
              "      <th>s10_std</th>\n",
              "      <th>s11_std</th>\n",
              "      <th>s12_std</th>\n",
              "      <th>s13_std</th>\n",
              "      <th>s14_std</th>\n",
              "      <th>s15_std</th>\n",
              "      <th>s16_std</th>\n",
              "      <th>s17_std</th>\n",
              "      <th>s18_std</th>\n",
              "      <th>s19_std</th>\n",
              "      <th>s20_std</th>\n",
              "      <th>s21_std</th>\n",
              "      <th>rul</th>\n",
              "      <th>label_bnc</th>\n",
              "      <th>label_mcc</th>\n",
              "    </tr>\n",
              "  </thead>\n",
              "  <tbody>\n",
              "    <tr>\n",
              "      <th>0</th>\n",
              "      <td>1</td>\n",
              "      <td>1</td>\n",
              "      <td>-0.0007</td>\n",
              "      <td>-0.0004</td>\n",
              "      <td>100.0</td>\n",
              "      <td>518.67</td>\n",
              "      <td>641.82</td>\n",
              "      <td>1589.70</td>\n",
              "      <td>1400.60</td>\n",
              "      <td>14.62</td>\n",
              "      <td>21.61</td>\n",
              "      <td>554.36</td>\n",
              "      <td>2388.06</td>\n",
              "      <td>9046.19</td>\n",
              "      <td>1.3</td>\n",
              "      <td>47.47</td>\n",
              "      <td>521.66</td>\n",
              "      <td>2388.02</td>\n",
              "      <td>8138.62</td>\n",
              "      <td>8.4195</td>\n",
              "      <td>0.03</td>\n",
              "      <td>392</td>\n",
              "      <td>2388</td>\n",
              "      <td>100.0</td>\n",
              "      <td>39.06</td>\n",
              "      <td>23.4190</td>\n",
              "      <td>518.67</td>\n",
              "      <td>641.820000</td>\n",
              "      <td>1589.700000</td>\n",
              "      <td>1400.600000</td>\n",
              "      <td>14.62</td>\n",
              "      <td>21.61</td>\n",
              "      <td>554.360000</td>\n",
              "      <td>2388.06</td>\n",
              "      <td>9046.190000</td>\n",
              "      <td>1.3</td>\n",
              "      <td>47.47</td>\n",
              "      <td>521.66</td>\n",
              "      <td>2388.020</td>\n",
              "      <td>8138.620000</td>\n",
              "      <td>8.419500</td>\n",
              "      <td>0.03</td>\n",
              "      <td>392.000000</td>\n",
              "      <td>2388.0</td>\n",
              "      <td>100.0</td>\n",
              "      <td>39.060000</td>\n",
              "      <td>23.4190</td>\n",
              "      <td>0.0</td>\n",
              "      <td>0.000000</td>\n",
              "      <td>0.000000</td>\n",
              "      <td>0.000000</td>\n",
              "      <td>0.0</td>\n",
              "      <td>0.0</td>\n",
              "      <td>0.000000</td>\n",
              "      <td>0.000000</td>\n",
              "      <td>0.000000</td>\n",
              "      <td>0.0</td>\n",
              "      <td>0.000000</td>\n",
              "      <td>0.000000</td>\n",
              "      <td>0.000000</td>\n",
              "      <td>0.000000</td>\n",
              "      <td>0.000000</td>\n",
              "      <td>0.0</td>\n",
              "      <td>0.000000</td>\n",
              "      <td>0.0</td>\n",
              "      <td>0.0</td>\n",
              "      <td>0.000000</td>\n",
              "      <td>0.000000</td>\n",
              "      <td>191</td>\n",
              "      <td>0</td>\n",
              "      <td>0</td>\n",
              "    </tr>\n",
              "    <tr>\n",
              "      <th>1</th>\n",
              "      <td>1</td>\n",
              "      <td>2</td>\n",
              "      <td>0.0019</td>\n",
              "      <td>-0.0003</td>\n",
              "      <td>100.0</td>\n",
              "      <td>518.67</td>\n",
              "      <td>642.15</td>\n",
              "      <td>1591.82</td>\n",
              "      <td>1403.14</td>\n",
              "      <td>14.62</td>\n",
              "      <td>21.61</td>\n",
              "      <td>553.75</td>\n",
              "      <td>2388.04</td>\n",
              "      <td>9044.07</td>\n",
              "      <td>1.3</td>\n",
              "      <td>47.49</td>\n",
              "      <td>522.28</td>\n",
              "      <td>2388.07</td>\n",
              "      <td>8131.49</td>\n",
              "      <td>8.4318</td>\n",
              "      <td>0.03</td>\n",
              "      <td>392</td>\n",
              "      <td>2388</td>\n",
              "      <td>100.0</td>\n",
              "      <td>39.00</td>\n",
              "      <td>23.4236</td>\n",
              "      <td>518.67</td>\n",
              "      <td>641.985000</td>\n",
              "      <td>1590.760000</td>\n",
              "      <td>1401.870000</td>\n",
              "      <td>14.62</td>\n",
              "      <td>21.61</td>\n",
              "      <td>554.055000</td>\n",
              "      <td>2388.05</td>\n",
              "      <td>9045.130000</td>\n",
              "      <td>1.3</td>\n",
              "      <td>47.48</td>\n",
              "      <td>521.97</td>\n",
              "      <td>2388.045</td>\n",
              "      <td>8135.055000</td>\n",
              "      <td>8.425650</td>\n",
              "      <td>0.03</td>\n",
              "      <td>392.000000</td>\n",
              "      <td>2388.0</td>\n",
              "      <td>100.0</td>\n",
              "      <td>39.030000</td>\n",
              "      <td>23.4213</td>\n",
              "      <td>0.0</td>\n",
              "      <td>0.233345</td>\n",
              "      <td>1.499066</td>\n",
              "      <td>1.796051</td>\n",
              "      <td>0.0</td>\n",
              "      <td>0.0</td>\n",
              "      <td>0.431335</td>\n",
              "      <td>0.014142</td>\n",
              "      <td>1.499066</td>\n",
              "      <td>0.0</td>\n",
              "      <td>0.014142</td>\n",
              "      <td>0.438406</td>\n",
              "      <td>0.035355</td>\n",
              "      <td>5.041671</td>\n",
              "      <td>0.008697</td>\n",
              "      <td>0.0</td>\n",
              "      <td>0.000000</td>\n",
              "      <td>0.0</td>\n",
              "      <td>0.0</td>\n",
              "      <td>0.042426</td>\n",
              "      <td>0.003253</td>\n",
              "      <td>190</td>\n",
              "      <td>0</td>\n",
              "      <td>0</td>\n",
              "    </tr>\n",
              "    <tr>\n",
              "      <th>2</th>\n",
              "      <td>1</td>\n",
              "      <td>3</td>\n",
              "      <td>-0.0043</td>\n",
              "      <td>0.0003</td>\n",
              "      <td>100.0</td>\n",
              "      <td>518.67</td>\n",
              "      <td>642.35</td>\n",
              "      <td>1587.99</td>\n",
              "      <td>1404.20</td>\n",
              "      <td>14.62</td>\n",
              "      <td>21.61</td>\n",
              "      <td>554.26</td>\n",
              "      <td>2388.08</td>\n",
              "      <td>9052.94</td>\n",
              "      <td>1.3</td>\n",
              "      <td>47.27</td>\n",
              "      <td>522.42</td>\n",
              "      <td>2388.03</td>\n",
              "      <td>8133.23</td>\n",
              "      <td>8.4178</td>\n",
              "      <td>0.03</td>\n",
              "      <td>390</td>\n",
              "      <td>2388</td>\n",
              "      <td>100.0</td>\n",
              "      <td>38.95</td>\n",
              "      <td>23.3442</td>\n",
              "      <td>518.67</td>\n",
              "      <td>642.106667</td>\n",
              "      <td>1589.836667</td>\n",
              "      <td>1402.646667</td>\n",
              "      <td>14.62</td>\n",
              "      <td>21.61</td>\n",
              "      <td>554.123333</td>\n",
              "      <td>2388.06</td>\n",
              "      <td>9047.733333</td>\n",
              "      <td>1.3</td>\n",
              "      <td>47.41</td>\n",
              "      <td>522.12</td>\n",
              "      <td>2388.040</td>\n",
              "      <td>8134.446667</td>\n",
              "      <td>8.423033</td>\n",
              "      <td>0.03</td>\n",
              "      <td>391.333333</td>\n",
              "      <td>2388.0</td>\n",
              "      <td>100.0</td>\n",
              "      <td>39.003333</td>\n",
              "      <td>23.3956</td>\n",
              "      <td>0.0</td>\n",
              "      <td>0.267644</td>\n",
              "      <td>1.918654</td>\n",
              "      <td>1.850009</td>\n",
              "      <td>0.0</td>\n",
              "      <td>0.0</td>\n",
              "      <td>0.327159</td>\n",
              "      <td>0.020000</td>\n",
              "      <td>4.632023</td>\n",
              "      <td>0.0</td>\n",
              "      <td>0.121655</td>\n",
              "      <td>0.404475</td>\n",
              "      <td>0.026458</td>\n",
              "      <td>3.717450</td>\n",
              "      <td>0.007640</td>\n",
              "      <td>0.0</td>\n",
              "      <td>1.154701</td>\n",
              "      <td>0.0</td>\n",
              "      <td>0.0</td>\n",
              "      <td>0.055076</td>\n",
              "      <td>0.044573</td>\n",
              "      <td>189</td>\n",
              "      <td>0</td>\n",
              "      <td>0</td>\n",
              "    </tr>\n",
              "  </tbody>\n",
              "</table>\n",
              "</div>"
            ],
            "text/plain": [
              "   id  cycle  setting1  setting2  ...   s21_std  rul  label_bnc  label_mcc\n",
              "0   1      1   -0.0007   -0.0004  ...  0.000000  191          0          0\n",
              "1   1      2    0.0019   -0.0003  ...  0.003253  190          0          0\n",
              "2   1      3   -0.0043    0.0003  ...  0.044573  189          0          0\n",
              "\n",
              "[3 rows x 71 columns]"
            ]
          },
          "metadata": {
            "tags": []
          }
        },
        {
          "output_type": "display_data",
          "data": {
            "text/html": [
              "<div>\n",
              "<style scoped>\n",
              "    .dataframe tbody tr th:only-of-type {\n",
              "        vertical-align: middle;\n",
              "    }\n",
              "\n",
              "    .dataframe tbody tr th {\n",
              "        vertical-align: top;\n",
              "    }\n",
              "\n",
              "    .dataframe thead th {\n",
              "        text-align: right;\n",
              "    }\n",
              "</style>\n",
              "<table border=\"1\" class=\"dataframe\">\n",
              "  <thead>\n",
              "    <tr style=\"text-align: right;\">\n",
              "      <th></th>\n",
              "      <th>id</th>\n",
              "      <th>cycle</th>\n",
              "      <th>setting1</th>\n",
              "      <th>setting2</th>\n",
              "      <th>setting3</th>\n",
              "      <th>s1</th>\n",
              "      <th>s2</th>\n",
              "      <th>s3</th>\n",
              "      <th>s4</th>\n",
              "      <th>s5</th>\n",
              "      <th>s6</th>\n",
              "      <th>s7</th>\n",
              "      <th>s8</th>\n",
              "      <th>s9</th>\n",
              "      <th>s10</th>\n",
              "      <th>s11</th>\n",
              "      <th>s12</th>\n",
              "      <th>s13</th>\n",
              "      <th>s14</th>\n",
              "      <th>s15</th>\n",
              "      <th>s16</th>\n",
              "      <th>s17</th>\n",
              "      <th>s18</th>\n",
              "      <th>s19</th>\n",
              "      <th>s20</th>\n",
              "      <th>s21</th>\n",
              "      <th>s1_av</th>\n",
              "      <th>s2_av</th>\n",
              "      <th>s3_av</th>\n",
              "      <th>s4_av</th>\n",
              "      <th>s5_av</th>\n",
              "      <th>s6_av</th>\n",
              "      <th>s7_av</th>\n",
              "      <th>s8_av</th>\n",
              "      <th>s9_av</th>\n",
              "      <th>s10_av</th>\n",
              "      <th>s11_av</th>\n",
              "      <th>s12_av</th>\n",
              "      <th>s13_av</th>\n",
              "      <th>s14_av</th>\n",
              "      <th>s15_av</th>\n",
              "      <th>s16_av</th>\n",
              "      <th>s17_av</th>\n",
              "      <th>s18_av</th>\n",
              "      <th>s19_av</th>\n",
              "      <th>s20_av</th>\n",
              "      <th>s21_av</th>\n",
              "      <th>s1_std</th>\n",
              "      <th>s2_std</th>\n",
              "      <th>s3_std</th>\n",
              "      <th>s4_std</th>\n",
              "      <th>s5_std</th>\n",
              "      <th>s6_std</th>\n",
              "      <th>s7_std</th>\n",
              "      <th>s8_std</th>\n",
              "      <th>s9_std</th>\n",
              "      <th>s10_std</th>\n",
              "      <th>s11_std</th>\n",
              "      <th>s12_std</th>\n",
              "      <th>s13_std</th>\n",
              "      <th>s14_std</th>\n",
              "      <th>s15_std</th>\n",
              "      <th>s16_std</th>\n",
              "      <th>s17_std</th>\n",
              "      <th>s18_std</th>\n",
              "      <th>s19_std</th>\n",
              "      <th>s20_std</th>\n",
              "      <th>s21_std</th>\n",
              "      <th>rul</th>\n",
              "      <th>label_bnc</th>\n",
              "      <th>label_mcc</th>\n",
              "    </tr>\n",
              "  </thead>\n",
              "  <tbody>\n",
              "    <tr>\n",
              "      <th>0</th>\n",
              "      <td>1</td>\n",
              "      <td>31</td>\n",
              "      <td>-0.0006</td>\n",
              "      <td>0.0004</td>\n",
              "      <td>100.0</td>\n",
              "      <td>518.67</td>\n",
              "      <td>642.58</td>\n",
              "      <td>1581.22</td>\n",
              "      <td>1398.91</td>\n",
              "      <td>14.62</td>\n",
              "      <td>21.61</td>\n",
              "      <td>554.42</td>\n",
              "      <td>2388.08</td>\n",
              "      <td>9056.40</td>\n",
              "      <td>1.3</td>\n",
              "      <td>47.23</td>\n",
              "      <td>521.79</td>\n",
              "      <td>2388.06</td>\n",
              "      <td>8130.11</td>\n",
              "      <td>8.4024</td>\n",
              "      <td>0.03</td>\n",
              "      <td>393</td>\n",
              "      <td>2388</td>\n",
              "      <td>100.0</td>\n",
              "      <td>38.81</td>\n",
              "      <td>23.3552</td>\n",
              "      <td>518.67</td>\n",
              "      <td>642.44</td>\n",
              "      <td>1584.696667</td>\n",
              "      <td>1399.330000</td>\n",
              "      <td>14.62</td>\n",
              "      <td>21.61</td>\n",
              "      <td>554.223333</td>\n",
              "      <td>2388.083333</td>\n",
              "      <td>9049.986667</td>\n",
              "      <td>1.3</td>\n",
              "      <td>47.350000</td>\n",
              "      <td>521.986667</td>\n",
              "      <td>2388.076667</td>\n",
              "      <td>8132.676667</td>\n",
              "      <td>8.411533</td>\n",
              "      <td>0.03</td>\n",
              "      <td>392.000000</td>\n",
              "      <td>2388.0</td>\n",
              "      <td>100.0</td>\n",
              "      <td>38.973333</td>\n",
              "      <td>23.374733</td>\n",
              "      <td>0.0</td>\n",
              "      <td>0.437150</td>\n",
              "      <td>3.094614</td>\n",
              "      <td>1.475534</td>\n",
              "      <td>0.0</td>\n",
              "      <td>0.0</td>\n",
              "      <td>0.172143</td>\n",
              "      <td>0.005774</td>\n",
              "      <td>5.594375</td>\n",
              "      <td>0.0</td>\n",
              "      <td>0.104403</td>\n",
              "      <td>0.349333</td>\n",
              "      <td>0.020817</td>\n",
              "      <td>2.372706</td>\n",
              "      <td>0.009411</td>\n",
              "      <td>0.0</td>\n",
              "      <td>1.00000</td>\n",
              "      <td>0.0</td>\n",
              "      <td>0.0</td>\n",
              "      <td>0.145717</td>\n",
              "      <td>0.028070</td>\n",
              "      <td>112</td>\n",
              "      <td>0</td>\n",
              "      <td>0</td>\n",
              "    </tr>\n",
              "    <tr>\n",
              "      <th>1</th>\n",
              "      <td>2</td>\n",
              "      <td>49</td>\n",
              "      <td>0.0018</td>\n",
              "      <td>-0.0001</td>\n",
              "      <td>100.0</td>\n",
              "      <td>518.67</td>\n",
              "      <td>642.55</td>\n",
              "      <td>1586.59</td>\n",
              "      <td>1410.83</td>\n",
              "      <td>14.62</td>\n",
              "      <td>21.61</td>\n",
              "      <td>553.52</td>\n",
              "      <td>2388.10</td>\n",
              "      <td>9044.77</td>\n",
              "      <td>1.3</td>\n",
              "      <td>47.67</td>\n",
              "      <td>521.74</td>\n",
              "      <td>2388.09</td>\n",
              "      <td>8126.90</td>\n",
              "      <td>8.4505</td>\n",
              "      <td>0.03</td>\n",
              "      <td>391</td>\n",
              "      <td>2388</td>\n",
              "      <td>100.0</td>\n",
              "      <td>38.81</td>\n",
              "      <td>23.2618</td>\n",
              "      <td>518.67</td>\n",
              "      <td>642.68</td>\n",
              "      <td>1587.293333</td>\n",
              "      <td>1408.673333</td>\n",
              "      <td>14.62</td>\n",
              "      <td>21.61</td>\n",
              "      <td>553.686667</td>\n",
              "      <td>2388.113333</td>\n",
              "      <td>9047.940000</td>\n",
              "      <td>1.3</td>\n",
              "      <td>47.536667</td>\n",
              "      <td>521.763333</td>\n",
              "      <td>2388.103333</td>\n",
              "      <td>8127.106667</td>\n",
              "      <td>8.439700</td>\n",
              "      <td>0.03</td>\n",
              "      <td>391.666667</td>\n",
              "      <td>2388.0</td>\n",
              "      <td>100.0</td>\n",
              "      <td>38.893333</td>\n",
              "      <td>23.283367</td>\n",
              "      <td>0.0</td>\n",
              "      <td>0.153948</td>\n",
              "      <td>0.612563</td>\n",
              "      <td>4.747803</td>\n",
              "      <td>0.0</td>\n",
              "      <td>0.0</td>\n",
              "      <td>0.491664</td>\n",
              "      <td>0.061101</td>\n",
              "      <td>3.917742</td>\n",
              "      <td>0.0</td>\n",
              "      <td>0.119304</td>\n",
              "      <td>0.455448</td>\n",
              "      <td>0.011547</td>\n",
              "      <td>1.570234</td>\n",
              "      <td>0.015373</td>\n",
              "      <td>0.0</td>\n",
              "      <td>0.57735</td>\n",
              "      <td>0.0</td>\n",
              "      <td>0.0</td>\n",
              "      <td>0.090738</td>\n",
              "      <td>0.018825</td>\n",
              "      <td>98</td>\n",
              "      <td>0</td>\n",
              "      <td>0</td>\n",
              "    </tr>\n",
              "    <tr>\n",
              "      <th>2</th>\n",
              "      <td>3</td>\n",
              "      <td>126</td>\n",
              "      <td>-0.0016</td>\n",
              "      <td>0.0004</td>\n",
              "      <td>100.0</td>\n",
              "      <td>518.67</td>\n",
              "      <td>642.88</td>\n",
              "      <td>1589.75</td>\n",
              "      <td>1418.89</td>\n",
              "      <td>14.62</td>\n",
              "      <td>21.61</td>\n",
              "      <td>552.59</td>\n",
              "      <td>2388.16</td>\n",
              "      <td>9049.26</td>\n",
              "      <td>1.3</td>\n",
              "      <td>47.88</td>\n",
              "      <td>520.83</td>\n",
              "      <td>2388.14</td>\n",
              "      <td>8131.46</td>\n",
              "      <td>8.4119</td>\n",
              "      <td>0.03</td>\n",
              "      <td>395</td>\n",
              "      <td>2388</td>\n",
              "      <td>100.0</td>\n",
              "      <td>38.93</td>\n",
              "      <td>23.2740</td>\n",
              "      <td>518.67</td>\n",
              "      <td>643.06</td>\n",
              "      <td>1589.626667</td>\n",
              "      <td>1414.756667</td>\n",
              "      <td>14.62</td>\n",
              "      <td>21.61</td>\n",
              "      <td>552.663333</td>\n",
              "      <td>2388.160000</td>\n",
              "      <td>9048.406667</td>\n",
              "      <td>1.3</td>\n",
              "      <td>47.703333</td>\n",
              "      <td>520.610000</td>\n",
              "      <td>2388.170000</td>\n",
              "      <td>8131.030000</td>\n",
              "      <td>8.442600</td>\n",
              "      <td>0.03</td>\n",
              "      <td>394.666667</td>\n",
              "      <td>2388.0</td>\n",
              "      <td>100.0</td>\n",
              "      <td>38.723333</td>\n",
              "      <td>23.245433</td>\n",
              "      <td>0.0</td>\n",
              "      <td>0.180000</td>\n",
              "      <td>0.931146</td>\n",
              "      <td>3.580703</td>\n",
              "      <td>0.0</td>\n",
              "      <td>0.0</td>\n",
              "      <td>0.405010</td>\n",
              "      <td>0.030000</td>\n",
              "      <td>0.752152</td>\n",
              "      <td>0.0</td>\n",
              "      <td>0.153080</td>\n",
              "      <td>0.416173</td>\n",
              "      <td>0.036056</td>\n",
              "      <td>2.819699</td>\n",
              "      <td>0.026739</td>\n",
              "      <td>0.0</td>\n",
              "      <td>0.57735</td>\n",
              "      <td>0.0</td>\n",
              "      <td>0.0</td>\n",
              "      <td>0.188768</td>\n",
              "      <td>0.025085</td>\n",
              "      <td>69</td>\n",
              "      <td>0</td>\n",
              "      <td>0</td>\n",
              "    </tr>\n",
              "  </tbody>\n",
              "</table>\n",
              "</div>"
            ],
            "text/plain": [
              "   id  cycle  setting1  setting2  ...   s21_std  rul  label_bnc  label_mcc\n",
              "0   1     31   -0.0006    0.0004  ...  0.028070  112          0          0\n",
              "1   2     49    0.0018   -0.0001  ...  0.018825   98          0          0\n",
              "2   3    126   -0.0016    0.0004  ...  0.025085   69          0          0\n",
              "\n",
              "[3 rows x 71 columns]"
            ]
          },
          "metadata": {
            "tags": []
          }
        }
      ]
    },
    {
      "cell_type": "code",
      "metadata": {
        "id": "fckrsFISUP01",
        "colab_type": "code",
        "colab": {}
      },
      "source": [
        "#Create Training and Test data label series and Create the list of Original Feature (-constant features) and List of Original+Added Feature (-constant features)\n",
        "original_sensor_features = ['setting1', 'setting2', 'setting3', 's1','s2','s3','s4','s5','s6','s7','s8','s9','s10','s11','s12','s13','s14','s15','s16','s17','s18','s19','s20', 's21']\n",
        "constant_sensor_features = ['setting3','s1', 's5' , 's6', 's10', 's16', 's18', 's19']\n",
        "\n",
        "\n",
        "variable_sensor_features = ['setting1', 'setting2', 's2','s3','s4','s7','s8','s9','s11','s12','s13','s14','s15','s17','s20', 's21']\n",
        "variable_sensor_features_fx= ['setting1', 'setting2', 's2', 's3', 's4',\n",
        "       's7', 's8', 's9', 's11', 's12', 's13', 's14', 's15', 's17', 's20',\n",
        "       's21', 's2_av', 's3_av', 's4_av', 's7_av', 's8_av', 's9_av', 's11_av',\n",
        "       's12_av', 's13_av', 's14_av', 's15_av', 's17_av', 's20_av', 's21_av',\n",
        "       's2_std', 's3_std', 's4_std', 's7_std', 's8_std', 's9_std', 's11_std',\n",
        "       's12_std', 's13_std', 's14_std', 's15_std', 's17_std', 's20_std',\n",
        "       's21_std']\n",
        "\n",
        "X_train = df_train[variable_sensor_features]\n",
        "X_train_fx = df_train[variable_sensor_features_fx]\n",
        "\n",
        "X_test = df_test[variable_sensor_features]\n",
        "X_test_fx = df_test[variable_sensor_features_fx]\n",
        "\n",
        "y_train = df_train['label_bnc']\n",
        "y_test = df_test['label_bnc']"
      ],
      "execution_count": 0,
      "outputs": []
    },
    {
      "cell_type": "code",
      "metadata": {
        "id": "pgd7HAmiWX7G",
        "colab_type": "code",
        "outputId": "1e701b8d-9825-4dd9-87b0-b5a12e200e04",
        "colab": {
          "base_uri": "https://localhost:8080/",
          "height": 126
        }
      },
      "source": [
        "##Binary Classification Label: label_bnc = if ttf is <= the parameter period then 1, else 0 (values = 0 and 1)\n",
        "##i.e. 0 mean  Will Not Fail / Dont Require Maintenance\n",
        "##and 1 means Will Fail / Require Maintenance \n",
        "print(y_train.value_counts())\n",
        "print(y_test.value_counts())"
      ],
      "execution_count": 5,
      "outputs": [
        {
          "output_type": "stream",
          "text": [
            "0    17531\n",
            "1     3100\n",
            "Name: label_bnc, dtype: int64\n",
            "0    75\n",
            "1    25\n",
            "Name: label_bnc, dtype: int64\n"
          ],
          "name": "stdout"
        }
      ]
    },
    {
      "cell_type": "markdown",
      "metadata": {
        "id": "re1dGBroW6bS",
        "colab_type": "text"
      },
      "source": [
        "TALK ABOUT imbalanced data and What Evaluation Metrics to use etc.....\n",
        "\n",
        "    Binary Classification Label: label_bnc = if ttf is <= the parameter period then 1, else 0 (values = 0 and 1)\n",
        "          bnc = 1 is POSITIVE PREDICTION -> predicting failure i.e., maintenance required\n",
        "          bnc = 0 is NEGATIVE PREDICTION-> predicting NO FAILURE i.e., maintenance not required"
      ]
    },
    {
      "cell_type": "markdown",
      "metadata": {
        "id": "CQFFs8oxX8Cs",
        "colab_type": "text"
      },
      "source": [
        "## HELPER FUNCTIONS\n"
      ]
    },
    {
      "cell_type": "code",
      "metadata": {
        "id": "nV0g0P6rX-DQ",
        "colab_type": "code",
        "colab": {}
      },
      "source": [
        "def plot_confusion_matrix(y_true, y_pred,classes,normalize=False,title=None,cmap=plt.cm.Blues):\n",
        "  \"\"\"\n",
        "  This function prints and plots the confusion matrix.\n",
        "  Normalization can be applied by setting normalize = True\n",
        "  \"\"\"\n",
        "  \n",
        "  if not title:\n",
        "    if normalize:\n",
        "      title = \"Normalzied Confusion Matrix\"\n",
        "    else:\n",
        "      title = \"Confusion Matrix, without Normalization\"\n",
        "      \n",
        "  \n",
        "  #Compute confusion matrix\n",
        "  cm = metrics.confusion_matrix(y_true, y_pred)\n",
        "  \n",
        "  #Only use the labels that appear in the data\n",
        "  classes = classes[unique_labels(y_true, y_pred)]\n",
        "  \n",
        "  if normalize:\n",
        "    cm = cm.astype('float') / cm.sum(axis=1)[:, np.newaxis]\n",
        "    print(\"Normalized confusion matrix\")\n",
        "  else:\n",
        "    print('Confusion matrix, without normalization')\n",
        "\n",
        "  fig, ax = plt.subplots()\n",
        "  im = ax.imshow(cm, interpolation='nearest', cmap=cmap)\n",
        "  ax.figure.colorbar(im, ax=ax)\n",
        "  \n",
        "  # We want to show all ticks...\n",
        "  ax.set(xticks=np.arange(cm.shape[1]),\n",
        "         yticks=np.arange(cm.shape[0]),\n",
        "         # ... and label them with the respective list entries\n",
        "         xticklabels=classes, yticklabels=classes,\n",
        "         title=title,\n",
        "         ylabel='True label',\n",
        "         xlabel='Predicted label')\n",
        "  # Rotate the tick labels and set their alignment.\n",
        "  \n",
        "  plt.setp(ax.get_xticklabels(), rotation=45, ha=\"right\",\n",
        "           rotation_mode=\"anchor\")\n",
        "  \n",
        "  # Loop over data dimensions and create text annotations.\n",
        "  fmt = '.2f' if normalize else 'd'\n",
        "  thresh = cm.max() / 2.\n",
        "  \n",
        "  for i in range(cm.shape[0]):\n",
        "    for j in range(cm.shape[1]):\n",
        "      ax.text(j, i, format(cm[i, j], fmt),\n",
        "              ha=\"center\", va=\"center\",\n",
        "              color=\"white\" if cm[i, j] > thresh else \"black\")\n",
        "    \n",
        "  fig.tight_layout()\n",
        "  return ax"
      ],
      "execution_count": 0,
      "outputs": []
    },
    {
      "cell_type": "code",
      "metadata": {
        "id": "qQjyKUmgYBnJ",
        "colab_type": "code",
        "colab": {}
      },
      "source": [
        "##########################################################################################\n",
        "def evaluate_classifier(model, clf, X_test, y_test):\n",
        "  \n",
        "  y_pred = clf.predict(X_test)\n",
        "  \n",
        "  if hasattr(clf, 'predict_proba'):\n",
        "    y_score = clf.predict_proba(X_test)[:,1]\n",
        "  elif hasattr(clf, 'decision_function'):\n",
        "    y_score = clf.decision_function(X_test)\n",
        "  else:\n",
        "    y_score = y_pred\n",
        "  \n",
        "  \n",
        "  binclass_metrics = {\n",
        "                        'Accuracy' : metrics.accuracy_score(y_test, y_pred),\n",
        "                        'Balanced Accuracy' : metrics.balanced_accuracy_score(y_test, y_pred),\n",
        "                        'Precision' : metrics.precision_score(y_test, y_pred),\n",
        "                        'Recall' : metrics.recall_score(y_test, y_pred),\n",
        "                        'F1 Score' : metrics.f1_score(y_test, y_pred),\n",
        "                        'ROC AUC' : metrics.roc_auc_score(y_test, y_score)\n",
        "                      }\n",
        "  \n",
        "  df_metrics = pd.DataFrame.from_dict(binclass_metrics, orient='index')\n",
        "  df_metrics.columns = [model]\n",
        "  \n",
        "  return df_metrics\n",
        "  \n",
        "##########################################################################################\n",
        "\n",
        "def grid_search_classifier(model, clf, X_train, X_test, y_train, y_test, params=None, score=None):\n",
        "      \n",
        "    \"\"\"Perfor Grid Search hyper parameter tuning on a classifier.\n",
        "    \n",
        "    Args:\n",
        "        model (str): The model name identifier\n",
        "        clf (clssifier object): The classifier to be tuned\n",
        "        X_train: the training set \n",
        "        X_test: the test set\n",
        "        y_train: the training set labels\n",
        "        y_test: the test set labels\n",
        "        \n",
        "        params (dict): Grid Search parameters\n",
        "        score (str): Grid Search score\n",
        "        \n",
        "    Returns:\n",
        "        Tuned Clssifier object\n",
        "        dataframe of model predictions and scores\n",
        "    \n",
        "    \"\"\"\n",
        "    grid_search = model_selection.GridSearchCV(estimator=clf, param_grid=params, cv=5, scoring=score, n_jobs=-1)\n",
        "    grid_search.fit(X_train, y_train)\n",
        "    y_pred = grid_search.predict(X_test)\n",
        "    \n",
        "    if hasattr(grid_search, 'predict_proba'):   \n",
        "        y_score = grid_search.predict_proba(X_test)[:,1]\n",
        "    elif hasattr(grid_search, 'decision_function'):\n",
        "        y_score = grid_search.decision_function(X_test)\n",
        "    else:\n",
        "        y_score = y_pred\n",
        "        \n",
        "    predictions = {'y_pred' : y_pred, 'y_score' : y_score}\n",
        "    df_predictions = pd.DataFrame.from_dict(predictions)\n",
        "    \n",
        "    return grid_search.best_estimator_, df_predictions"
      ],
      "execution_count": 0,
      "outputs": []
    },
    {
      "cell_type": "code",
      "metadata": {
        "id": "5BYvHJJBFDy5",
        "colab_type": "code",
        "colab": {}
      },
      "source": [
        "def bin_class_metrics(model, y_test, y_pred, y_score, print_out=True, plot_out=True):\n",
        "    \n",
        "    \"\"\"Calculate main binary classifcation metrics, plot AUC ROC and Precision-Recall curves.\n",
        "    \n",
        "    Args:\n",
        "        model (str): The model name identifier\n",
        "        y_test (series): Contains the test label values\n",
        "        y_pred (series): Contains the predicted values\n",
        "        y_score (series): Contains the predicted scores\n",
        "        print_out (bool): Print the classification metrics and thresholds values\n",
        "        plot_out (bool): Plot AUC ROC, Precision-Recall, and Threshold curves\n",
        "        \n",
        "    Returns:\n",
        "        dataframe: The combined metrics in single dataframe\n",
        "        dataframe: ROC thresholds\n",
        "        dataframe: Precision-Recall thresholds\n",
        "        Plot: AUC ROC\n",
        "        plot: Precision-Recall\n",
        "        plot: Precision-Recall threshold; also show the number of engines predicted for maintenace per period (queue).\n",
        "        plot: TPR-FPR threshold\n",
        "        \n",
        "    \"\"\"\n",
        "      \n",
        "    binclass_metrics = {\n",
        "                        'Accuracy' : metrics.accuracy_score(y_test, y_pred),\n",
        "                        'Precision' : metrics.precision_score(y_test, y_pred),\n",
        "                        'Recall' : metrics.recall_score(y_test, y_pred),\n",
        "                        'F1 Score' : metrics.f1_score(y_test, y_pred),\n",
        "                        'ROC AUC' : metrics.roc_auc_score(y_test, y_score)\n",
        "                       }\n",
        "\n",
        "    df_metrics = pd.DataFrame.from_dict(binclass_metrics, orient='index')\n",
        "    df_metrics.columns = [model]  \n",
        "\n",
        "\n",
        "    fpr, tpr, thresh_roc = metrics.roc_curve(y_test, y_score)\n",
        "    \n",
        "    roc_auc = metrics.auc(fpr, tpr)\n",
        "\n",
        "    engines_roc = []  \n",
        "    for thr in thresh_roc:  \n",
        "        engines_roc.append((y_score >= thr).mean())\n",
        "\n",
        "    engines_roc = np.array(engines_roc)\n",
        "\n",
        "    roc_thresh = {\n",
        "                    'Threshold' : thresh_roc,\n",
        "                    'TPR' : tpr,\n",
        "                    'FPR' : fpr,\n",
        "                    'Que' : engines_roc\n",
        "                 }\n",
        "    \n",
        "    df_roc_thresh = pd.DataFrame.from_dict(roc_thresh)\n",
        "    \n",
        "    #calculate other classification metrics: TP, FP, TN, FN, TNR, FNR\n",
        "    #from ground truth file, positive class = 25 => TP + FN = 25\n",
        "    #from ground truth file, negative class = 75 => TN + FP = 75\n",
        "    \n",
        "    df_roc_thresh['TP'] = (25*df_roc_thresh.TPR).astype(int)\n",
        "    df_roc_thresh['FP'] = (25 - (25*df_roc_thresh.TPR)).astype(int)\n",
        "    df_roc_thresh['TN'] = (75*(1 - df_roc_thresh.FPR)).astype(int)\n",
        "    df_roc_thresh['FN'] = (75 - (75*(1 - df_roc_thresh.FPR))).astype(int)\n",
        "    \n",
        "    df_roc_thresh['TNR'] = df_roc_thresh['TN']/(df_roc_thresh['TN'] + df_roc_thresh['FN'])\n",
        "    df_roc_thresh['FNR'] = df_roc_thresh['TN']/(df_roc_thresh['TN'] + df_roc_thresh['FP'])\n",
        "    \n",
        "    df_roc_thresh['Model'] = model\n",
        "\n",
        "    \n",
        "\n",
        "    precision, recall, thresh_prc = metrics.precision_recall_curve(y_test, y_score)\n",
        "\n",
        "    thresh_prc = np.append(thresh_prc,1)\n",
        "\n",
        "    engines_prc = []  \n",
        "    for thr in thresh_prc:  \n",
        "        engines_prc.append((y_score >= thr).mean())\n",
        "\n",
        "    engines_prc = np.array(engines_prc)\n",
        "\n",
        "    prc_thresh = {\n",
        "                    'Threshold' : thresh_prc,\n",
        "                    'Precision' : precision,\n",
        "                    'Recall' : recall,\n",
        "                    'Que' : engines_prc\n",
        "                 }\n",
        "\n",
        "    df_prc_thresh = pd.DataFrame.from_dict(prc_thresh)\n",
        "\n",
        "    if print_out:\n",
        "        print('-----------------------------------------------------------')\n",
        "        print(model, '\\n')\n",
        "        print('Confusion Matrix:')\n",
        "        print(metrics.confusion_matrix(y_test, y_pred))\n",
        "        print('\\nClassification Report:')\n",
        "        print(metrics.classification_report(y_test, y_pred))\n",
        "        print('\\nMetrics:')\n",
        "        print(df_metrics)\n",
        "\n",
        "        print('\\nROC Thresholds:\\n')\n",
        "        print(df_roc_thresh[['Threshold', 'TP', 'FP', 'TN', 'FN', 'TPR', 'FPR', 'TNR','FNR', 'Que']])\n",
        "\n",
        "        print('\\nPrecision-Recall Thresholds:\\n')\n",
        "        print(df_prc_thresh[['Threshold', 'Precision', 'Recall', 'Que']])\n",
        "\n",
        "    if plot_out:\n",
        "        fig, ((ax1, ax2), (ax3, ax4)) = plt.subplots(nrows=2, ncols=2, sharex=False, sharey=False )\n",
        "        fig.set_size_inches(10,10)\n",
        "\n",
        "        ax1.plot(fpr, tpr, color='darkorange', lw=2, label='AUC = %0.2f'% roc_auc)\n",
        "        ax1.plot([0, 1], [0, 1], color='navy', lw=2, linestyle='--')\n",
        "        ax1.set_xlim([-0.05, 1.0])\n",
        "        ax1.set_ylim([0.0, 1.05])\n",
        "        ax1.set_xlabel('False Positive Rate')\n",
        "        ax1.set_ylabel('True Positive Rate')\n",
        "        ax1.legend(loc=\"lower right\", fontsize='small')\n",
        "\n",
        "        ax2.plot(recall, precision, color='blue', lw=2, label='Precision-Recall curve')\n",
        "        ax2.set_xlim([0.0, 1.0])\n",
        "        ax2.set_ylim([0.0, 1.05])\n",
        "        ax2.set_xlabel('Recall')\n",
        "        ax2.set_ylabel('Precision')\n",
        "        ax2.legend(loc=\"lower left\", fontsize='small')\n",
        "\n",
        "        ax3.plot(thresh_roc, fpr, color='red', lw=2, label='FPR')  \n",
        "        ax3.plot(thresh_roc, tpr, color='green',label='TPR') \n",
        "        ax3.plot(thresh_roc, engines_roc, color='blue',label='Engines') \n",
        "        ax3.set_ylim([0.0, 1.05])\n",
        "        ax3.set_xlabel('Threshold')  \n",
        "        ax3.set_ylabel('%')\n",
        "        ax3.legend(loc='upper right', fontsize='small')\n",
        "\n",
        "        ax4.plot(thresh_prc, precision, color='red', lw=2, label='Precision')  \n",
        "        ax4.plot(thresh_prc, recall, color='green',label='Recall') \n",
        "        ax4.plot(thresh_prc, engines_prc, color='blue',label='Engines') \n",
        "        ax4.set_ylim([0.0, 1.05])\n",
        "        ax4.set_xlabel('Threshold')  \n",
        "        ax4.set_ylabel('%')\n",
        "        ax4.legend(loc='lower left', fontsize='small')\n",
        "\n",
        "    return  df_metrics, df_roc_thresh, df_prc_thresh"
      ],
      "execution_count": 0,
      "outputs": []
    },
    {
      "cell_type": "markdown",
      "metadata": {
        "id": "YMwbDv0DYW20",
        "colab_type": "text"
      },
      "source": [
        "## BASELINE CLASSIFICATION MODEL AND EVALUATION METRICS"
      ]
    },
    {
      "cell_type": "code",
      "metadata": {
        "id": "Bt2oEM4JYSXG",
        "colab_type": "code",
        "outputId": "8fe6da4d-62ea-44bc-fd88-ad06400607a1",
        "colab": {
          "base_uri": "https://localhost:8080/",
          "height": 545
        }
      },
      "source": [
        "lr = LogisticRegression(random_state=2, solver='liblinear', max_iter=1000)\n",
        "\n",
        "lr.fit(X_train, y_train)\n",
        "y_pred = lr.predict(X_test)\n",
        "lr_eval = evaluate_classifier(\"Baseline Logistic Reg\", lr, X_test, y_test)\n",
        "display(lr_eval)\n",
        "plot_confusion_matrix(y_test, y_pred, classes=np.array(['0-Will Not Fail', '1-Will Fail', ]),normalize=False,title=None,cmap=plt.cm.Blues)"
      ],
      "execution_count": 9,
      "outputs": [
        {
          "output_type": "display_data",
          "data": {
            "text/html": [
              "<div>\n",
              "<style scoped>\n",
              "    .dataframe tbody tr th:only-of-type {\n",
              "        vertical-align: middle;\n",
              "    }\n",
              "\n",
              "    .dataframe tbody tr th {\n",
              "        vertical-align: top;\n",
              "    }\n",
              "\n",
              "    .dataframe thead th {\n",
              "        text-align: right;\n",
              "    }\n",
              "</style>\n",
              "<table border=\"1\" class=\"dataframe\">\n",
              "  <thead>\n",
              "    <tr style=\"text-align: right;\">\n",
              "      <th></th>\n",
              "      <th>Baseline Logistic Reg</th>\n",
              "    </tr>\n",
              "  </thead>\n",
              "  <tbody>\n",
              "    <tr>\n",
              "      <th>Accuracy</th>\n",
              "      <td>0.880000</td>\n",
              "    </tr>\n",
              "    <tr>\n",
              "      <th>Balanced Accuracy</th>\n",
              "      <td>0.773333</td>\n",
              "    </tr>\n",
              "    <tr>\n",
              "      <th>Precision</th>\n",
              "      <td>0.933333</td>\n",
              "    </tr>\n",
              "    <tr>\n",
              "      <th>Recall</th>\n",
              "      <td>0.560000</td>\n",
              "    </tr>\n",
              "    <tr>\n",
              "      <th>F1 Score</th>\n",
              "      <td>0.700000</td>\n",
              "    </tr>\n",
              "    <tr>\n",
              "      <th>ROC AUC</th>\n",
              "      <td>0.976533</td>\n",
              "    </tr>\n",
              "  </tbody>\n",
              "</table>\n",
              "</div>"
            ],
            "text/plain": [
              "                   Baseline Logistic Reg\n",
              "Accuracy                        0.880000\n",
              "Balanced Accuracy               0.773333\n",
              "Precision                       0.933333\n",
              "Recall                          0.560000\n",
              "F1 Score                        0.700000\n",
              "ROC AUC                         0.976533"
            ]
          },
          "metadata": {
            "tags": []
          }
        },
        {
          "output_type": "stream",
          "text": [
            "Confusion matrix, without normalization\n"
          ],
          "name": "stdout"
        },
        {
          "output_type": "execute_result",
          "data": {
            "text/plain": [
              "<matplotlib.axes._subplots.AxesSubplot at 0x7f123702bd68>"
            ]
          },
          "metadata": {
            "tags": []
          },
          "execution_count": 9
        },
        {
          "output_type": "display_data",
          "data": {
            "image/png": "[encoded data removed]",
            "text/plain": [
              "<Figure size 432x288 with 2 Axes>"
            ]
          },
          "metadata": {
            "tags": []
          }
        }
      ]
    },
    {
      "cell_type": "markdown",
      "metadata": {
        "id": "ldz3-xksa1Lz",
        "colab_type": "text"
      },
      "source": [
        "We will now create a test harness using following classification algorithms and evaluate them using the helper functions which we have defined above\n",
        "\n",
        "Logistic Regression\n",
        "SVM\n",
        "Linear SVC\n",
        "Gaussian NB\n",
        "KNN\n",
        "Random Forest\n",
        "Additional for each of these algorithms we will use two variants\n",
        "\n",
        "_A -> means model with original features\n",
        "_B -> means model with addtional engineered features included\n",
        "For each of these models we will apply GridSearch using various parameters and we will evalute against the roc_auc score to select best set of parameters"
      ]
    },
    {
      "cell_type": "markdown",
      "metadata": {
        "id": "esMgHdpda4tM",
        "colab_type": "text"
      },
      "source": [
        "## CLASSIFICATION MODEL HARNESS and EVALUATION METRICES"
      ]
    },
    {
      "cell_type": "markdown",
      "metadata": {
        "id": "REh3bvf_bAM0",
        "colab_type": "text"
      },
      "source": [
        "### Logistic Regressions"
      ]
    },
    {
      "cell_type": "code",
      "metadata": {
        "id": "T7ja0WkmYnsV",
        "colab_type": "code",
        "outputId": "2a920a23-e970-47d8-c873-e473d1fba5e7",
        "colab": {
          "base_uri": "https://localhost:8080/",
          "height": 228
        }
      },
      "source": [
        "gs_params = {'C': [.01, 0.1, 1.0, 10], 'solver': ['liblinear', 'lbfgs']}\n",
        "gs_score = 'roc_auc'\n",
        "\n",
        "\n",
        "model_A = 'Logistic Regression A'\n",
        "clf_lr_A = LogisticRegression(random_state=2, max_iter=1000)\n",
        "model_B = 'Logistic Regression B'\n",
        "clf_lr_B = LogisticRegression(random_state=2, max_iter=1000)\n",
        "\n",
        "#grid_search_classifier(model, clf, X_train, X_test, y_train, y_test, params=None, score=None):\n",
        "\n",
        "gs_clf_lr_A, pred_clf_lr_A = grid_search_classifier(model_A, clf_lr_A, X_train, X_test, y_train, y_test, params=gs_params, score=gs_score)\n",
        "gs_clf_lr_B, pred_clf_lr_B = grid_search_classifier(model_B, clf_lr_B, X_train_fx, X_test_fx, y_train, y_test, params=gs_params, score=gs_score)\n",
        "\n",
        "eval_lr_A = evaluate_classifier('Logistic Regression A', gs_clf_lr_A, X_test, y_test)\n",
        "eval_lr_B = evaluate_classifier('Logistic Regression B', gs_clf_lr_B, X_test_fx, y_test)\n",
        "\n",
        "metrics_lr = pd.concat([eval_lr_A, eval_lr_B], axis=1)\n",
        "display(metrics_lr)\n",
        "\n"
      ],
      "execution_count": 10,
      "outputs": [
        {
          "output_type": "display_data",
          "data": {
            "text/html": [
              "<div>\n",
              "<style scoped>\n",
              "    .dataframe tbody tr th:only-of-type {\n",
              "        vertical-align: middle;\n",
              "    }\n",
              "\n",
              "    .dataframe tbody tr th {\n",
              "        vertical-align: top;\n",
              "    }\n",
              "\n",
              "    .dataframe thead th {\n",
              "        text-align: right;\n",
              "    }\n",
              "</style>\n",
              "<table border=\"1\" class=\"dataframe\">\n",
              "  <thead>\n",
              "    <tr style=\"text-align: right;\">\n",
              "      <th></th>\n",
              "      <th>Logistic Regression A</th>\n",
              "      <th>Logistic Regression B</th>\n",
              "    </tr>\n",
              "  </thead>\n",
              "  <tbody>\n",
              "    <tr>\n",
              "      <th>Accuracy</th>\n",
              "      <td>0.910000</td>\n",
              "      <td>0.920000</td>\n",
              "    </tr>\n",
              "    <tr>\n",
              "      <th>Balanced Accuracy</th>\n",
              "      <td>0.820000</td>\n",
              "      <td>0.853333</td>\n",
              "    </tr>\n",
              "    <tr>\n",
              "      <th>Precision</th>\n",
              "      <td>1.000000</td>\n",
              "      <td>0.947368</td>\n",
              "    </tr>\n",
              "    <tr>\n",
              "      <th>Recall</th>\n",
              "      <td>0.640000</td>\n",
              "      <td>0.720000</td>\n",
              "    </tr>\n",
              "    <tr>\n",
              "      <th>F1 Score</th>\n",
              "      <td>0.780488</td>\n",
              "      <td>0.818182</td>\n",
              "    </tr>\n",
              "    <tr>\n",
              "      <th>ROC AUC</th>\n",
              "      <td>0.980267</td>\n",
              "      <td>0.979200</td>\n",
              "    </tr>\n",
              "  </tbody>\n",
              "</table>\n",
              "</div>"
            ],
            "text/plain": [
              "                   Logistic Regression A  Logistic Regression B\n",
              "Accuracy                        0.910000               0.920000\n",
              "Balanced Accuracy               0.820000               0.853333\n",
              "Precision                       1.000000               0.947368\n",
              "Recall                          0.640000               0.720000\n",
              "F1 Score                        0.780488               0.818182\n",
              "ROC AUC                         0.980267               0.979200"
            ]
          },
          "metadata": {
            "tags": []
          }
        }
      ]
    },
    {
      "cell_type": "code",
      "metadata": {
        "id": "MffkTX4cNwUW",
        "colab_type": "code",
        "outputId": "5cdc6007-1865-4dda-c5f7-ed0cae91f3c5",
        "colab": {
          "base_uri": "https://localhost:8080/",
          "height": 791
        }
      },
      "source": [
        "display(gs_clf_lr_A, gs_clf_lr_B)\n",
        "metrics_clf_lr_A, roc_clf_lr_A, prc_clf_lr_A = bin_class_metrics(model_A, y_test, pred_clf_lr_A.y_pred, pred_clf_lr_A.y_score, print_out=False, plot_out=True)\n",
        "metrics_clf_lr_B, roc_clf_lr_B, prc_clf_lr_B = bin_class_metrics(model_B, y_test, pred_clf_lr_B.y_pred, pred_clf_lr_B.y_score, print_out=False, plot_out=False)"
      ],
      "execution_count": 11,
      "outputs": [
        {
          "output_type": "display_data",
          "data": {
            "text/plain": [
              "LogisticRegression(C=10, class_weight=None, dual=False, fit_intercept=True,\n",
              "                   intercept_scaling=1, l1_ratio=None, max_iter=1000,\n",
              "                   multi_class='warn', n_jobs=None, penalty='l2',\n",
              "                   random_state=2, solver='lbfgs', tol=0.0001, verbose=0,\n",
              "                   warm_start=False)"
            ]
          },
          "metadata": {
            "tags": []
          }
        },
        {
          "output_type": "display_data",
          "data": {
            "text/plain": [
              "LogisticRegression(C=10, class_weight=None, dual=False, fit_intercept=True,\n",
              "                   intercept_scaling=1, l1_ratio=None, max_iter=1000,\n",
              "                   multi_class='warn', n_jobs=None, penalty='l2',\n",
              "                   random_state=2, solver='lbfgs', tol=0.0001, verbose=0,\n",
              "                   warm_start=False)"
            ]
          },
          "metadata": {
            "tags": []
          }
        },
        {
          "output_type": "display_data",
          "data": {
            "image/png": "[encoded data removed]",
            "text/plain": [
              "<Figure size 720x720 with 4 Axes>"
            ]
          },
          "metadata": {
            "tags": []
          }
        }
      ]
    },
    {
      "cell_type": "markdown",
      "metadata": {
        "id": "gi3Z38tPnwGT",
        "colab_type": "text"
      },
      "source": [
        "### Linear SVC\n"
      ]
    },
    {
      "cell_type": "code",
      "metadata": {
        "id": "YrpR2P9QnvK8",
        "colab_type": "code",
        "outputId": "47cd02f6-2631-4133-9ca9-78d5ad468cf2",
        "colab": {
          "base_uri": "https://localhost:8080/",
          "height": 301
        }
      },
      "source": [
        "gs_params = {'C': [.001, .01 ,.1 ]}\n",
        "gs_score = 'roc_auc'\n",
        "\n",
        "model_A = 'Linear SVC A'\n",
        "clf_LSVC_A = LinearSVC(random_state=123, max_iter=1000)\n",
        "model_B = 'Linear SVC B'\n",
        "clf_LSVC_B = LinearSVC(random_state=123, max_iter=1000)\n",
        "\n",
        "\n",
        "gs_clf_LSVC_A, pred_clf_LSVC_A = grid_search_classifier(model_A, clf_LSVC_A, X_train, X_test, y_train, y_test, params=gs_params, score=gs_score)\n",
        "gs_clf_LSVC_B, pred_clf_LSVC_B = grid_search_classifier(model_B, clf_LSVC_B, X_train_fx, X_test_fx, y_train, y_test, params=gs_params, score=gs_score)\n",
        "\n",
        "eval_LSVC_A = evaluate_classifier(model_A, gs_clf_LSVC_A, X_test, y_test)\n",
        "eval_LSVC_B = evaluate_classifier(model_B, gs_clf_LSVC_B, X_test_fx, y_test)\n",
        "\n",
        "metrics_LSVC = pd.concat([eval_LSVC_A, eval_LSVC_B], axis=1)\n",
        "display(metrics_LSVC)"
      ],
      "execution_count": 12,
      "outputs": [
        {
          "output_type": "stream",
          "text": [
            "/usr/local/lib/python3.6/dist-packages/sklearn/svm/base.py:929: ConvergenceWarning: Liblinear failed to converge, increase the number of iterations.\n",
            "  \"the number of iterations.\", ConvergenceWarning)\n",
            "/usr/local/lib/python3.6/dist-packages/sklearn/svm/base.py:929: ConvergenceWarning: Liblinear failed to converge, increase the number of iterations.\n",
            "  \"the number of iterations.\", ConvergenceWarning)\n"
          ],
          "name": "stderr"
        },
        {
          "output_type": "display_data",
          "data": {
            "text/html": [
              "<div>\n",
              "<style scoped>\n",
              "    .dataframe tbody tr th:only-of-type {\n",
              "        vertical-align: middle;\n",
              "    }\n",
              "\n",
              "    .dataframe tbody tr th {\n",
              "        vertical-align: top;\n",
              "    }\n",
              "\n",
              "    .dataframe thead th {\n",
              "        text-align: right;\n",
              "    }\n",
              "</style>\n",
              "<table border=\"1\" class=\"dataframe\">\n",
              "  <thead>\n",
              "    <tr style=\"text-align: right;\">\n",
              "      <th></th>\n",
              "      <th>Linear SVC A</th>\n",
              "      <th>Linear SVC B</th>\n",
              "    </tr>\n",
              "  </thead>\n",
              "  <tbody>\n",
              "    <tr>\n",
              "      <th>Accuracy</th>\n",
              "      <td>0.880000</td>\n",
              "      <td>0.940000</td>\n",
              "    </tr>\n",
              "    <tr>\n",
              "      <th>Balanced Accuracy</th>\n",
              "      <td>0.773333</td>\n",
              "      <td>0.933333</td>\n",
              "    </tr>\n",
              "    <tr>\n",
              "      <th>Precision</th>\n",
              "      <td>0.933333</td>\n",
              "      <td>0.851852</td>\n",
              "    </tr>\n",
              "    <tr>\n",
              "      <th>Recall</th>\n",
              "      <td>0.560000</td>\n",
              "      <td>0.920000</td>\n",
              "    </tr>\n",
              "    <tr>\n",
              "      <th>F1 Score</th>\n",
              "      <td>0.700000</td>\n",
              "      <td>0.884615</td>\n",
              "    </tr>\n",
              "    <tr>\n",
              "      <th>ROC AUC</th>\n",
              "      <td>0.972800</td>\n",
              "      <td>0.977600</td>\n",
              "    </tr>\n",
              "  </tbody>\n",
              "</table>\n",
              "</div>"
            ],
            "text/plain": [
              "                   Linear SVC A  Linear SVC B\n",
              "Accuracy               0.880000      0.940000\n",
              "Balanced Accuracy      0.773333      0.933333\n",
              "Precision              0.933333      0.851852\n",
              "Recall                 0.560000      0.920000\n",
              "F1 Score               0.700000      0.884615\n",
              "ROC AUC                0.972800      0.977600"
            ]
          },
          "metadata": {
            "tags": []
          }
        }
      ]
    },
    {
      "cell_type": "code",
      "metadata": {
        "id": "VeRb9UldPdLT",
        "colab_type": "code",
        "outputId": "98c7620f-5896-4366-8b3d-18baf4dac13d",
        "colab": {
          "base_uri": "https://localhost:8080/",
          "height": 755
        }
      },
      "source": [
        "display(gs_clf_LSVC_A, gs_clf_LSVC_B)\n",
        "metrics_clf_LSVC_A, roc_LSVC_A, prc_LSVC_A = bin_class_metrics(model_A, y_test, pred_clf_LSVC_A.y_pred, pred_clf_LSVC_A.y_score, print_out=False, plot_out=True)\n",
        "metrics_clf_LSVC_B, roc_LSVC_B, prc_LSVC_B = bin_class_metrics(model_B, y_test, pred_clf_LSVC_B.y_pred, pred_clf_LSVC_B.y_score, print_out=False, plot_out=False)"
      ],
      "execution_count": 13,
      "outputs": [
        {
          "output_type": "display_data",
          "data": {
            "text/plain": [
              "LinearSVC(C=0.001, class_weight=None, dual=True, fit_intercept=True,\n",
              "          intercept_scaling=1, loss='squared_hinge', max_iter=1000,\n",
              "          multi_class='ovr', penalty='l2', random_state=123, tol=0.0001,\n",
              "          verbose=0)"
            ]
          },
          "metadata": {
            "tags": []
          }
        },
        {
          "output_type": "display_data",
          "data": {
            "text/plain": [
              "LinearSVC(C=0.1, class_weight=None, dual=True, fit_intercept=True,\n",
              "          intercept_scaling=1, loss='squared_hinge', max_iter=1000,\n",
              "          multi_class='ovr', penalty='l2', random_state=123, tol=0.0001,\n",
              "          verbose=0)"
            ]
          },
          "metadata": {
            "tags": []
          }
        },
        {
          "output_type": "display_data",
          "data": {
            "image/png": "[encoded data removed]",
            "text/plain": [
              "<Figure size 720x720 with 4 Axes>"
            ]
          },
          "metadata": {
            "tags": []
          }
        }
      ]
    },
    {
      "cell_type": "markdown",
      "metadata": {
        "id": "C6P7xV2kkswz",
        "colab_type": "text"
      },
      "source": [
        "### Gaussian Naive Bayes"
      ]
    },
    {
      "cell_type": "code",
      "metadata": {
        "id": "fp7Cs6GfiHZA",
        "colab_type": "code",
        "outputId": "0353e366-6ff5-435f-d1da-ecebf5ed00b8",
        "colab": {
          "base_uri": "https://localhost:8080/",
          "height": 228
        }
      },
      "source": [
        "gs_params = {}\n",
        "gs_score = 'roc_auc'\n",
        "\n",
        "\n",
        "model_A = 'Gaussian NB A'\n",
        "clf_gnb_A = GaussianNB()\n",
        "model_B = 'Gaussian NB B'\n",
        "clf_gnb_B = GaussianNB()\n",
        "\n",
        "gs_clf_gnb_A, pred_clf_gnb_A = grid_search_classifier(model_A, clf_gnb_A, X_train, X_test, y_train, y_test, params=gs_params, score=gs_score)\n",
        "gs_clf_gnb_B,  pred_clf_gnb_B = grid_search_classifier(model_B, clf_gnb_B, X_train_fx, X_test_fx, y_train, y_test, params=gs_params, score=gs_score)\n",
        "\n",
        "eval_gnb_A = evaluate_classifier(model_A, gs_clf_gnb_A, X_test, y_test)\n",
        "eval_gnb_B = evaluate_classifier(model_B, gs_clf_gnb_B, X_test_fx, y_test)\n",
        "\n",
        "metrics_gnb = pd.concat([eval_gnb_A, eval_gnb_B], axis=1)\n",
        "display(metrics_gnb)"
      ],
      "execution_count": 14,
      "outputs": [
        {
          "output_type": "display_data",
          "data": {
            "text/html": [
              "<div>\n",
              "<style scoped>\n",
              "    .dataframe tbody tr th:only-of-type {\n",
              "        vertical-align: middle;\n",
              "    }\n",
              "\n",
              "    .dataframe tbody tr th {\n",
              "        vertical-align: top;\n",
              "    }\n",
              "\n",
              "    .dataframe thead th {\n",
              "        text-align: right;\n",
              "    }\n",
              "</style>\n",
              "<table border=\"1\" class=\"dataframe\">\n",
              "  <thead>\n",
              "    <tr style=\"text-align: right;\">\n",
              "      <th></th>\n",
              "      <th>Gaussian NB A</th>\n",
              "      <th>Gaussian NB B</th>\n",
              "    </tr>\n",
              "  </thead>\n",
              "  <tbody>\n",
              "    <tr>\n",
              "      <th>Accuracy</th>\n",
              "      <td>0.940000</td>\n",
              "      <td>0.940000</td>\n",
              "    </tr>\n",
              "    <tr>\n",
              "      <th>Balanced Accuracy</th>\n",
              "      <td>0.933333</td>\n",
              "      <td>0.946667</td>\n",
              "    </tr>\n",
              "    <tr>\n",
              "      <th>Precision</th>\n",
              "      <td>0.851852</td>\n",
              "      <td>0.827586</td>\n",
              "    </tr>\n",
              "    <tr>\n",
              "      <th>Recall</th>\n",
              "      <td>0.920000</td>\n",
              "      <td>0.960000</td>\n",
              "    </tr>\n",
              "    <tr>\n",
              "      <th>F1 Score</th>\n",
              "      <td>0.884615</td>\n",
              "      <td>0.888889</td>\n",
              "    </tr>\n",
              "    <tr>\n",
              "      <th>ROC AUC</th>\n",
              "      <td>0.987733</td>\n",
              "      <td>0.982133</td>\n",
              "    </tr>\n",
              "  </tbody>\n",
              "</table>\n",
              "</div>"
            ],
            "text/plain": [
              "                   Gaussian NB A  Gaussian NB B\n",
              "Accuracy                0.940000       0.940000\n",
              "Balanced Accuracy       0.933333       0.946667\n",
              "Precision               0.851852       0.827586\n",
              "Recall                  0.920000       0.960000\n",
              "F1 Score                0.884615       0.888889\n",
              "ROC AUC                 0.987733       0.982133"
            ]
          },
          "metadata": {
            "tags": []
          }
        }
      ]
    },
    {
      "cell_type": "code",
      "metadata": {
        "id": "WCDj-bbKRmQX",
        "colab_type": "code",
        "outputId": "323a5ed4-24a8-4755-9928-32332fd4325e",
        "colab": {
          "base_uri": "https://localhost:8080/",
          "height": 645
        }
      },
      "source": [
        "display(gs_clf_gnb_A, gs_clf_gnb_B)\n",
        "metrics_clf_gnb_A, roc_gnb_A, prc_gnb_A = bin_class_metrics(model_A, y_test, pred_clf_gnb_A.y_pred, pred_clf_gnb_A.y_score, print_out=False, plot_out=True)\n",
        "metrics_clf_gnb_B, roc_gnb_B, prc_gnb_B = bin_class_metrics(model_B, y_test, pred_clf_gnb_B.y_pred, pred_clf_gnb_B.y_score, print_out=False, plot_out=False)"
      ],
      "execution_count": 15,
      "outputs": [
        {
          "output_type": "display_data",
          "data": {
            "text/plain": [
              "GaussianNB(priors=None, var_smoothing=1e-09)"
            ]
          },
          "metadata": {
            "tags": []
          }
        },
        {
          "output_type": "display_data",
          "data": {
            "text/plain": [
              "GaussianNB(priors=None, var_smoothing=1e-09)"
            ]
          },
          "metadata": {
            "tags": []
          }
        },
        {
          "output_type": "display_data",
          "data": {
            "image/png": "[encoded data removed]",
            "text/plain": [
              "<Figure size 720x720 with 4 Axes>"
            ]
          },
          "metadata": {
            "tags": []
          }
        }
      ]
    },
    {
      "cell_type": "markdown",
      "metadata": {
        "id": "qWzbc9rdkza3",
        "colab_type": "text"
      },
      "source": [
        "### KNN"
      ]
    },
    {
      "cell_type": "code",
      "metadata": {
        "id": "AWFeB2dGkpwb",
        "colab_type": "code",
        "outputId": "3aa80eb8-7025-417f-e30e-b07d48c49274",
        "colab": {
          "base_uri": "https://localhost:8080/",
          "height": 228
        }
      },
      "source": [
        "gs_params = {'n_neighbors': [9, 10, 11, 12, 13]}\n",
        "gs_score = 'roc_auc'\n",
        "\n",
        "\n",
        "model_A = 'KNN A'\n",
        "clf_KNN_A = KNeighborsClassifier(n_jobs=-1)\n",
        "model_B = 'KNN B'\n",
        "clf_KNN_B = KNeighborsClassifier(n_jobs=-1)\n",
        "\n",
        "gs_clf_KNN_A, pred_clf_KNN_A = grid_search_classifier(model_A, clf_KNN_A, X_train, X_test, y_train, y_test, params=gs_params, score=gs_score)\n",
        "gs_clf_KNN_B, pred_clf_KNN_B = grid_search_classifier(model_B, clf_KNN_B, X_train_fx, X_test_fx, y_train, y_test, params=gs_params, score=gs_score)\n",
        "\n",
        "eval_KNN_A = evaluate_classifier(model_A, gs_clf_KNN_A, X_test, y_test)\n",
        "eval_KNN_B = evaluate_classifier(model_B, gs_clf_KNN_B, X_test_fx, y_test)\n",
        "\n",
        "metrics_KNN = pd.concat([eval_KNN_A, eval_KNN_B], axis=1)\n",
        "display(metrics_KNN)"
      ],
      "execution_count": 16,
      "outputs": [
        {
          "output_type": "display_data",
          "data": {
            "text/html": [
              "<div>\n",
              "<style scoped>\n",
              "    .dataframe tbody tr th:only-of-type {\n",
              "        vertical-align: middle;\n",
              "    }\n",
              "\n",
              "    .dataframe tbody tr th {\n",
              "        vertical-align: top;\n",
              "    }\n",
              "\n",
              "    .dataframe thead th {\n",
              "        text-align: right;\n",
              "    }\n",
              "</style>\n",
              "<table border=\"1\" class=\"dataframe\">\n",
              "  <thead>\n",
              "    <tr style=\"text-align: right;\">\n",
              "      <th></th>\n",
              "      <th>KNN A</th>\n",
              "      <th>KNN B</th>\n",
              "    </tr>\n",
              "  </thead>\n",
              "  <tbody>\n",
              "    <tr>\n",
              "      <th>Accuracy</th>\n",
              "      <td>0.910000</td>\n",
              "      <td>0.920000</td>\n",
              "    </tr>\n",
              "    <tr>\n",
              "      <th>Balanced Accuracy</th>\n",
              "      <td>0.833333</td>\n",
              "      <td>0.853333</td>\n",
              "    </tr>\n",
              "    <tr>\n",
              "      <th>Precision</th>\n",
              "      <td>0.944444</td>\n",
              "      <td>0.947368</td>\n",
              "    </tr>\n",
              "    <tr>\n",
              "      <th>Recall</th>\n",
              "      <td>0.680000</td>\n",
              "      <td>0.720000</td>\n",
              "    </tr>\n",
              "    <tr>\n",
              "      <th>F1 Score</th>\n",
              "      <td>0.790698</td>\n",
              "      <td>0.818182</td>\n",
              "    </tr>\n",
              "    <tr>\n",
              "      <th>ROC AUC</th>\n",
              "      <td>0.935200</td>\n",
              "      <td>0.962400</td>\n",
              "    </tr>\n",
              "  </tbody>\n",
              "</table>\n",
              "</div>"
            ],
            "text/plain": [
              "                      KNN A     KNN B\n",
              "Accuracy           0.910000  0.920000\n",
              "Balanced Accuracy  0.833333  0.853333\n",
              "Precision          0.944444  0.947368\n",
              "Recall             0.680000  0.720000\n",
              "F1 Score           0.790698  0.818182\n",
              "ROC AUC            0.935200  0.962400"
            ]
          },
          "metadata": {
            "tags": []
          }
        }
      ]
    },
    {
      "cell_type": "code",
      "metadata": {
        "id": "uwfnjt4jSXNW",
        "colab_type": "code",
        "outputId": "2ac77d14-58df-4b5d-d5fa-57e4b0692f19",
        "colab": {
          "base_uri": "https://localhost:8080/",
          "height": 718
        }
      },
      "source": [
        "display(gs_clf_KNN_A, gs_clf_KNN_B)\n",
        "metrics_clf_KNN_A, roc_KNN_A, prc_KNN_A = bin_class_metrics(model_A, y_test, pred_clf_KNN_A.y_pred, pred_clf_KNN_A.y_score, print_out=False, plot_out=True)\n",
        "metrics_clf_KNN_B, roc_KNN_B, prc_KNN_B = bin_class_metrics(model_B, y_test, pred_clf_KNN_B.y_pred, pred_clf_KNN_B.y_score, print_out=False, plot_out=False)"
      ],
      "execution_count": 17,
      "outputs": [
        {
          "output_type": "display_data",
          "data": {
            "text/plain": [
              "KNeighborsClassifier(algorithm='auto', leaf_size=30, metric='minkowski',\n",
              "                     metric_params=None, n_jobs=-1, n_neighbors=13, p=2,\n",
              "                     weights='uniform')"
            ]
          },
          "metadata": {
            "tags": []
          }
        },
        {
          "output_type": "display_data",
          "data": {
            "text/plain": [
              "KNeighborsClassifier(algorithm='auto', leaf_size=30, metric='minkowski',\n",
              "                     metric_params=None, n_jobs=-1, n_neighbors=13, p=2,\n",
              "                     weights='uniform')"
            ]
          },
          "metadata": {
            "tags": []
          }
        },
        {
          "output_type": "display_data",
          "data": {
            "image/png": "[encoded data removed]",
            "text/plain": [
              "<Figure size 720x720 with 4 Axes>"
            ]
          },
          "metadata": {
            "tags": []
          }
        }
      ]
    },
    {
      "cell_type": "markdown",
      "metadata": {
        "id": "uKSM8kpKmJiR",
        "colab_type": "text"
      },
      "source": [
        "### Random Forest"
      ]
    },
    {
      "cell_type": "code",
      "metadata": {
        "id": "kAt4PUS1mMxt",
        "colab_type": "code",
        "outputId": "7793922a-71da-4ddf-a60f-b3a4099375db",
        "colab": {
          "base_uri": "https://localhost:8080/",
          "height": 301
        }
      },
      "source": [
        "gs_params = {'max_depth': [4, 5, 6, 7, 8], 'criterion': ['gini', 'entropy']}\n",
        "gs_score = 'roc_auc'\n",
        "\n",
        "\n",
        "model_A = 'Random Forest Classifier A'\n",
        "clf_RF_A = RandomForestClassifier(n_jobs=-1)\n",
        "model_B = 'Random Forest Classifier B'\n",
        "clf_RF_B = RandomForestClassifier(n_jobs=-1)\n",
        "\n",
        "gs_clf_RF_A, pred_clf_RF_A = grid_search_classifier(model_A, clf_RF_A, X_train, X_test, y_train, y_test, params=gs_params, score=gs_score)\n",
        "gs_clf_RF_B, pred_clf_RF_B = grid_search_classifier(model_B, clf_RF_B, X_train_fx, X_test_fx, y_train, y_test, params=gs_params, score=gs_score)\n",
        "\n",
        "eval_RF_A = evaluate_classifier(model_A, gs_clf_RF_A, X_test, y_test)\n",
        "eval_RF_B = evaluate_classifier(model_B, gs_clf_RF_B, X_test_fx, y_test)\n",
        "\n",
        "metrics_RF = pd.concat([eval_RF_A, eval_RF_B], axis=1)\n",
        "display(metrics_RF)"
      ],
      "execution_count": 18,
      "outputs": [
        {
          "output_type": "stream",
          "text": [
            "/usr/local/lib/python3.6/dist-packages/sklearn/ensemble/forest.py:245: FutureWarning: The default value of n_estimators will change from 10 in version 0.20 to 100 in 0.22.\n",
            "  \"10 in version 0.20 to 100 in 0.22.\", FutureWarning)\n",
            "/usr/local/lib/python3.6/dist-packages/sklearn/ensemble/forest.py:245: FutureWarning: The default value of n_estimators will change from 10 in version 0.20 to 100 in 0.22.\n",
            "  \"10 in version 0.20 to 100 in 0.22.\", FutureWarning)\n"
          ],
          "name": "stderr"
        },
        {
          "output_type": "display_data",
          "data": {
            "text/html": [
              "<div>\n",
              "<style scoped>\n",
              "    .dataframe tbody tr th:only-of-type {\n",
              "        vertical-align: middle;\n",
              "    }\n",
              "\n",
              "    .dataframe tbody tr th {\n",
              "        vertical-align: top;\n",
              "    }\n",
              "\n",
              "    .dataframe thead th {\n",
              "        text-align: right;\n",
              "    }\n",
              "</style>\n",
              "<table border=\"1\" class=\"dataframe\">\n",
              "  <thead>\n",
              "    <tr style=\"text-align: right;\">\n",
              "      <th></th>\n",
              "      <th>Random Forest Classifier A</th>\n",
              "      <th>Random Forest Classifier B</th>\n",
              "    </tr>\n",
              "  </thead>\n",
              "  <tbody>\n",
              "    <tr>\n",
              "      <th>Accuracy</th>\n",
              "      <td>0.900000</td>\n",
              "      <td>0.900000</td>\n",
              "    </tr>\n",
              "    <tr>\n",
              "      <th>Balanced Accuracy</th>\n",
              "      <td>0.813333</td>\n",
              "      <td>0.813333</td>\n",
              "    </tr>\n",
              "    <tr>\n",
              "      <th>Precision</th>\n",
              "      <td>0.941176</td>\n",
              "      <td>0.941176</td>\n",
              "    </tr>\n",
              "    <tr>\n",
              "      <th>Recall</th>\n",
              "      <td>0.640000</td>\n",
              "      <td>0.640000</td>\n",
              "    </tr>\n",
              "    <tr>\n",
              "      <th>F1 Score</th>\n",
              "      <td>0.761905</td>\n",
              "      <td>0.761905</td>\n",
              "    </tr>\n",
              "    <tr>\n",
              "      <th>ROC AUC</th>\n",
              "      <td>0.972800</td>\n",
              "      <td>0.974400</td>\n",
              "    </tr>\n",
              "  </tbody>\n",
              "</table>\n",
              "</div>"
            ],
            "text/plain": [
              "                   Random Forest Classifier A  Random Forest Classifier B\n",
              "Accuracy                             0.900000                    0.900000\n",
              "Balanced Accuracy                    0.813333                    0.813333\n",
              "Precision                            0.941176                    0.941176\n",
              "Recall                               0.640000                    0.640000\n",
              "F1 Score                             0.761905                    0.761905\n",
              "ROC AUC                              0.972800                    0.974400"
            ]
          },
          "metadata": {
            "tags": []
          }
        }
      ]
    },
    {
      "cell_type": "code",
      "metadata": {
        "id": "od5ptinMS4QX",
        "colab_type": "code",
        "outputId": "e5593dee-a1d1-4480-c5f0-9e7518b6dec7",
        "colab": {
          "base_uri": "https://localhost:8080/",
          "height": 864
        }
      },
      "source": [
        "display(gs_clf_RF_A, gs_clf_RF_B)\n",
        "metrics_clf_RF_A, roc_RF_A, prc_RF_A = bin_class_metrics(model_A, y_test, pred_clf_RF_A.y_pred, pred_clf_RF_A.y_score, print_out=False, plot_out=True)\n",
        "metrics_clf_RF_B, roc_RF_B, prc_RF_B = bin_class_metrics(model_B, y_test, pred_clf_RF_B.y_pred, pred_clf_RF_B.y_score, print_out=False, plot_out=False)"
      ],
      "execution_count": 19,
      "outputs": [
        {
          "output_type": "display_data",
          "data": {
            "text/plain": [
              "RandomForestClassifier(bootstrap=True, class_weight=None, criterion='entropy',\n",
              "                       max_depth=6, max_features='auto', max_leaf_nodes=None,\n",
              "                       min_impurity_decrease=0.0, min_impurity_split=None,\n",
              "                       min_samples_leaf=1, min_samples_split=2,\n",
              "                       min_weight_fraction_leaf=0.0, n_estimators=10, n_jobs=-1,\n",
              "                       oob_score=False, random_state=None, verbose=0,\n",
              "                       warm_start=False)"
            ]
          },
          "metadata": {
            "tags": []
          }
        },
        {
          "output_type": "display_data",
          "data": {
            "text/plain": [
              "RandomForestClassifier(bootstrap=True, class_weight=None, criterion='entropy',\n",
              "                       max_depth=6, max_features='auto', max_leaf_nodes=None,\n",
              "                       min_impurity_decrease=0.0, min_impurity_split=None,\n",
              "                       min_samples_leaf=1, min_samples_split=2,\n",
              "                       min_weight_fraction_leaf=0.0, n_estimators=10, n_jobs=-1,\n",
              "                       oob_score=False, random_state=None, verbose=0,\n",
              "                       warm_start=False)"
            ]
          },
          "metadata": {
            "tags": []
          }
        },
        {
          "output_type": "display_data",
          "data": {
            "image/png": "[encoded data removed]",
            "text/plain": [
              "<Figure size 720x720 with 4 Axes>"
            ]
          },
          "metadata": {
            "tags": []
          }
        }
      ]
    },
    {
      "cell_type": "markdown",
      "metadata": {
        "id": "Z4SGEDdHgijb",
        "colab_type": "text"
      },
      "source": [
        "### SVM"
      ]
    },
    {
      "cell_type": "code",
      "metadata": {
        "id": "9V2Kpnhrfyny",
        "colab_type": "code",
        "outputId": "03f8d053-fa8e-447d-e75f-b1dd9d35884f",
        "colab": {
          "base_uri": "https://localhost:8080/",
          "height": 357
        }
      },
      "source": [
        "gs_params = {'C': [0.01,0.1,1.0]}\n",
        "gs_score = 'roc_auc'\n",
        "\n",
        "\n",
        "model_A = 'SVM A'\n",
        "clf_svc_A = SVC(kernel='rbf', random_state=123)\n",
        "model_B = 'SVM B'\n",
        "clf_svc_B = SVC(kernel='rbf', random_state=123)\n",
        "\n",
        "gs_clf_svc_A, pred_clf_svc_A = grid_search_classifier(model_A, clf_svc_A, X_train, X_test, y_train, y_test, params=gs_params, score=gs_score)\n",
        "gs_clf_svc_B, pred_clf_svc_B = grid_search_classifier(model_B, clf_svc_B, X_train_fx, X_test_fx, y_train, y_test, params=gs_params, score=gs_score)\n",
        "\n",
        "eval_svc_A = evaluate_classifier(model_A, gs_clf_svc_A, X_test, y_test)\n",
        "eval_svc_B = evaluate_classifier(model_B, gs_clf_svc_B, X_test_fx, y_test)\n",
        "\n",
        "metrics_svc = pd.concat([eval_svc_A, eval_svc_B], axis=1)\n",
        "display(metrics_svc)"
      ],
      "execution_count": 20,
      "outputs": [
        {
          "output_type": "stream",
          "text": [
            "/usr/local/lib/python3.6/dist-packages/joblib/externals/loky/process_executor.py:706: UserWarning: A worker stopped while some jobs were given to the executor. This can be caused by a too short worker timeout or by a memory leak.\n",
            "  \"timeout or by a memory leak.\", UserWarning\n",
            "/usr/local/lib/python3.6/dist-packages/sklearn/svm/base.py:193: FutureWarning: The default value of gamma will change from 'auto' to 'scale' in version 0.22 to account better for unscaled features. Set gamma explicitly to 'auto' or 'scale' to avoid this warning.\n",
            "  \"avoid this warning.\", FutureWarning)\n",
            "/usr/local/lib/python3.6/dist-packages/sklearn/svm/base.py:193: FutureWarning: The default value of gamma will change from 'auto' to 'scale' in version 0.22 to account better for unscaled features. Set gamma explicitly to 'auto' or 'scale' to avoid this warning.\n",
            "  \"avoid this warning.\", FutureWarning)\n"
          ],
          "name": "stderr"
        },
        {
          "output_type": "display_data",
          "data": {
            "text/html": [
              "<div>\n",
              "<style scoped>\n",
              "    .dataframe tbody tr th:only-of-type {\n",
              "        vertical-align: middle;\n",
              "    }\n",
              "\n",
              "    .dataframe tbody tr th {\n",
              "        vertical-align: top;\n",
              "    }\n",
              "\n",
              "    .dataframe thead th {\n",
              "        text-align: right;\n",
              "    }\n",
              "</style>\n",
              "<table border=\"1\" class=\"dataframe\">\n",
              "  <thead>\n",
              "    <tr style=\"text-align: right;\">\n",
              "      <th></th>\n",
              "      <th>SVM A</th>\n",
              "      <th>SVM B</th>\n",
              "    </tr>\n",
              "  </thead>\n",
              "  <tbody>\n",
              "    <tr>\n",
              "      <th>Accuracy</th>\n",
              "      <td>0.810000</td>\n",
              "      <td>0.910000</td>\n",
              "    </tr>\n",
              "    <tr>\n",
              "      <th>Balanced Accuracy</th>\n",
              "      <td>0.620000</td>\n",
              "      <td>0.833333</td>\n",
              "    </tr>\n",
              "    <tr>\n",
              "      <th>Precision</th>\n",
              "      <td>1.000000</td>\n",
              "      <td>0.944444</td>\n",
              "    </tr>\n",
              "    <tr>\n",
              "      <th>Recall</th>\n",
              "      <td>0.240000</td>\n",
              "      <td>0.680000</td>\n",
              "    </tr>\n",
              "    <tr>\n",
              "      <th>F1 Score</th>\n",
              "      <td>0.387097</td>\n",
              "      <td>0.790698</td>\n",
              "    </tr>\n",
              "    <tr>\n",
              "      <th>ROC AUC</th>\n",
              "      <td>0.943467</td>\n",
              "      <td>0.906667</td>\n",
              "    </tr>\n",
              "  </tbody>\n",
              "</table>\n",
              "</div>"
            ],
            "text/plain": [
              "                      SVM A     SVM B\n",
              "Accuracy           0.810000  0.910000\n",
              "Balanced Accuracy  0.620000  0.833333\n",
              "Precision          1.000000  0.944444\n",
              "Recall             0.240000  0.680000\n",
              "F1 Score           0.387097  0.790698\n",
              "ROC AUC            0.943467  0.906667"
            ]
          },
          "metadata": {
            "tags": []
          }
        }
      ]
    },
    {
      "cell_type": "code",
      "metadata": {
        "id": "CzMY5sjRTSQc",
        "colab_type": "code",
        "outputId": "281fb5dc-9240-40f1-8eb7-131bd4d1ee8f",
        "colab": {
          "base_uri": "https://localhost:8080/",
          "height": 755
        }
      },
      "source": [
        "display(gs_clf_svc_A, gs_clf_svc_B)\n",
        "metrics_clf_svc_A, roc_svc_A, prc_svc_A = bin_class_metrics(model_A, y_test, pred_clf_svc_A.y_pred, pred_clf_svc_A.y_score, print_out=False, plot_out=True)\n",
        "metrics_clf_svc_B, roc_svc_B, prc_svc_B = bin_class_metrics(model_B, y_test, pred_clf_svc_B.y_pred, pred_clf_svc_B.y_score, print_out=False, plot_out=False)"
      ],
      "execution_count": 21,
      "outputs": [
        {
          "output_type": "display_data",
          "data": {
            "text/plain": [
              "SVC(C=0.1, cache_size=200, class_weight=None, coef0=0.0,\n",
              "    decision_function_shape='ovr', degree=3, gamma='auto_deprecated',\n",
              "    kernel='rbf', max_iter=-1, probability=False, random_state=123,\n",
              "    shrinking=True, tol=0.001, verbose=False)"
            ]
          },
          "metadata": {
            "tags": []
          }
        },
        {
          "output_type": "display_data",
          "data": {
            "text/plain": [
              "SVC(C=1.0, cache_size=200, class_weight=None, coef0=0.0,\n",
              "    decision_function_shape='ovr', degree=3, gamma='auto_deprecated',\n",
              "    kernel='rbf', max_iter=-1, probability=False, random_state=123,\n",
              "    shrinking=True, tol=0.001, verbose=False)"
            ]
          },
          "metadata": {
            "tags": []
          }
        },
        {
          "output_type": "display_data",
          "data": {
            "image/png": "[encoded data removed]",
            "text/plain": [
              "<Figure size 720x720 with 4 Axes>"
            ]
          },
          "metadata": {
            "tags": []
          }
        }
      ]
    },
    {
      "cell_type": "markdown",
      "metadata": {
        "id": "PHWDoUf1nHKy",
        "colab_type": "text"
      },
      "source": [
        "### Compare All Binary Classifications"
      ]
    },
    {
      "cell_type": "code",
      "metadata": {
        "id": "dv1nrxsTnJVn",
        "colab_type": "code",
        "outputId": "13a2a527-a725-486d-c63c-feb2295a9060",
        "colab": {
          "base_uri": "https://localhost:8080/",
          "height": 263
        }
      },
      "source": [
        "metrics_bn = pd.concat([metrics_lr, metrics_LSVC, metrics_svc,  metrics_gnb, metrics_KNN, metrics_RF], axis=1)\n",
        "display(metrics_bn)"
      ],
      "execution_count": 22,
      "outputs": [
        {
          "output_type": "display_data",
          "data": {
            "text/html": [
              "<div>\n",
              "<style scoped>\n",
              "    .dataframe tbody tr th:only-of-type {\n",
              "        vertical-align: middle;\n",
              "    }\n",
              "\n",
              "    .dataframe tbody tr th {\n",
              "        vertical-align: top;\n",
              "    }\n",
              "\n",
              "    .dataframe thead th {\n",
              "        text-align: right;\n",
              "    }\n",
              "</style>\n",
              "<table border=\"1\" class=\"dataframe\">\n",
              "  <thead>\n",
              "    <tr style=\"text-align: right;\">\n",
              "      <th></th>\n",
              "      <th>Logistic Regression A</th>\n",
              "      <th>Logistic Regression B</th>\n",
              "      <th>Linear SVC A</th>\n",
              "      <th>Linear SVC B</th>\n",
              "      <th>SVM A</th>\n",
              "      <th>SVM B</th>\n",
              "      <th>Gaussian NB A</th>\n",
              "      <th>Gaussian NB B</th>\n",
              "      <th>KNN A</th>\n",
              "      <th>KNN B</th>\n",
              "      <th>Random Forest Classifier A</th>\n",
              "      <th>Random Forest Classifier B</th>\n",
              "    </tr>\n",
              "  </thead>\n",
              "  <tbody>\n",
              "    <tr>\n",
              "      <th>Accuracy</th>\n",
              "      <td>0.910000</td>\n",
              "      <td>0.920000</td>\n",
              "      <td>0.880000</td>\n",
              "      <td>0.940000</td>\n",
              "      <td>0.810000</td>\n",
              "      <td>0.910000</td>\n",
              "      <td>0.940000</td>\n",
              "      <td>0.940000</td>\n",
              "      <td>0.910000</td>\n",
              "      <td>0.920000</td>\n",
              "      <td>0.900000</td>\n",
              "      <td>0.900000</td>\n",
              "    </tr>\n",
              "    <tr>\n",
              "      <th>Balanced Accuracy</th>\n",
              "      <td>0.820000</td>\n",
              "      <td>0.853333</td>\n",
              "      <td>0.773333</td>\n",
              "      <td>0.933333</td>\n",
              "      <td>0.620000</td>\n",
              "      <td>0.833333</td>\n",
              "      <td>0.933333</td>\n",
              "      <td>0.946667</td>\n",
              "      <td>0.833333</td>\n",
              "      <td>0.853333</td>\n",
              "      <td>0.813333</td>\n",
              "      <td>0.813333</td>\n",
              "    </tr>\n",
              "    <tr>\n",
              "      <th>Precision</th>\n",
              "      <td>1.000000</td>\n",
              "      <td>0.947368</td>\n",
              "      <td>0.933333</td>\n",
              "      <td>0.851852</td>\n",
              "      <td>1.000000</td>\n",
              "      <td>0.944444</td>\n",
              "      <td>0.851852</td>\n",
              "      <td>0.827586</td>\n",
              "      <td>0.944444</td>\n",
              "      <td>0.947368</td>\n",
              "      <td>0.941176</td>\n",
              "      <td>0.941176</td>\n",
              "    </tr>\n",
              "    <tr>\n",
              "      <th>Recall</th>\n",
              "      <td>0.640000</td>\n",
              "      <td>0.720000</td>\n",
              "      <td>0.560000</td>\n",
              "      <td>0.920000</td>\n",
              "      <td>0.240000</td>\n",
              "      <td>0.680000</td>\n",
              "      <td>0.920000</td>\n",
              "      <td>0.960000</td>\n",
              "      <td>0.680000</td>\n",
              "      <td>0.720000</td>\n",
              "      <td>0.640000</td>\n",
              "      <td>0.640000</td>\n",
              "    </tr>\n",
              "    <tr>\n",
              "      <th>F1 Score</th>\n",
              "      <td>0.780488</td>\n",
              "      <td>0.818182</td>\n",
              "      <td>0.700000</td>\n",
              "      <td>0.884615</td>\n",
              "      <td>0.387097</td>\n",
              "      <td>0.790698</td>\n",
              "      <td>0.884615</td>\n",
              "      <td>0.888889</td>\n",
              "      <td>0.790698</td>\n",
              "      <td>0.818182</td>\n",
              "      <td>0.761905</td>\n",
              "      <td>0.761905</td>\n",
              "    </tr>\n",
              "    <tr>\n",
              "      <th>ROC AUC</th>\n",
              "      <td>0.980267</td>\n",
              "      <td>0.979200</td>\n",
              "      <td>0.972800</td>\n",
              "      <td>0.977600</td>\n",
              "      <td>0.943467</td>\n",
              "      <td>0.906667</td>\n",
              "      <td>0.987733</td>\n",
              "      <td>0.982133</td>\n",
              "      <td>0.935200</td>\n",
              "      <td>0.962400</td>\n",
              "      <td>0.972800</td>\n",
              "      <td>0.974400</td>\n",
              "    </tr>\n",
              "  </tbody>\n",
              "</table>\n",
              "</div>"
            ],
            "text/plain": [
              "                   Logistic Regression A  ...  Random Forest Classifier B\n",
              "Accuracy                        0.910000  ...                    0.900000\n",
              "Balanced Accuracy               0.820000  ...                    0.813333\n",
              "Precision                       1.000000  ...                    0.941176\n",
              "Recall                          0.640000  ...                    0.640000\n",
              "F1 Score                        0.780488  ...                    0.761905\n",
              "ROC AUC                         0.980267  ...                    0.974400\n",
              "\n",
              "[6 rows x 12 columns]"
            ]
          },
          "metadata": {
            "tags": []
          }
        }
      ]
    },
    {
      "cell_type": "code",
      "metadata": {
        "id": "UiJj0pVLVFxX",
        "colab_type": "code",
        "outputId": "912228de-ce9a-4063-e199-303db114de50",
        "colab": {
          "base_uri": "https://localhost:8080/",
          "height": 254
        }
      },
      "source": [
        "#Let's compare ROC_AUC\n",
        "metrics_bn.loc['ROC AUC', :].sort_values()"
      ],
      "execution_count": 23,
      "outputs": [
        {
          "output_type": "execute_result",
          "data": {
            "text/plain": [
              "SVM B                         0.906667\n",
              "KNN A                         0.935200\n",
              "SVM A                         0.943467\n",
              "KNN B                         0.962400\n",
              "Random Forest Classifier A    0.972800\n",
              "Linear SVC A                  0.972800\n",
              "Random Forest Classifier B    0.974400\n",
              "Linear SVC B                  0.977600\n",
              "Logistic Regression B         0.979200\n",
              "Logistic Regression A         0.980267\n",
              "Gaussian NB B                 0.982133\n",
              "Gaussian NB A                 0.987733\n",
              "Name: ROC AUC, dtype: float64"
            ]
          },
          "metadata": {
            "tags": []
          },
          "execution_count": 23
        }
      ]
    },
    {
      "cell_type": "code",
      "metadata": {
        "id": "sqlkDR4ITjhw",
        "colab_type": "code",
        "outputId": "6bce61b3-6fe6-4332-d4f7-d7c69fe7782a",
        "colab": {
          "base_uri": "https://localhost:8080/",
          "height": 476
        }
      },
      "source": [
        "# Lets draw the consolidated ROC Threshold and Precision-Recall Threshold Curves for all the algrorithms\n",
        "# Plot AUC-ROC and precision-recall curves for best models i.e. GNB_A, RFC_A, LR_A, LSVC_B, KNN_B, SVM_A\n",
        "\n",
        "fig, (ax1, ax2) = plt.subplots(nrows=1, ncols=2, sharex=False, sharey=False )\n",
        "fig.set_size_inches(15,7)\n",
        "\n",
        "ax1.plot(roc_gnb_A.FPR, roc_gnb_A.TPR, color='red', lw=1, label= metrics_clf_gnb_A.columns.values.tolist()[0] + ':  %.3f' % metrics_clf_gnb_A.at['ROC AUC', metrics_clf_gnb_A.columns.values.tolist()[0]])\n",
        "ax1.plot(roc_RF_A.FPR, roc_RF_A.TPR, color='brown', lw=1, label= metrics_clf_RF_A.columns.values.tolist()[0] + ':  %.3f' % metrics_clf_RF_A.at['ROC AUC', metrics_clf_RF_A.columns.values.tolist()[0]])\n",
        "ax1.plot(roc_clf_lr_A.FPR, roc_clf_lr_A.TPR, color='green', lw=1, label= metrics_clf_lr_A.columns.values.tolist()[0] + ':  %.3f' % metrics_clf_lr_A.at['ROC AUC', metrics_clf_lr_A.columns.values.tolist()[0]])\n",
        "ax1.plot(roc_LSVC_B.FPR, roc_LSVC_B.TPR, color='yellow', lw=1, label= metrics_clf_LSVC_B.columns.values.tolist()[0] + ':  %.3f' % metrics_clf_LSVC_B.at['ROC AUC', metrics_clf_LSVC_B.columns.values.tolist()[0]])\n",
        "ax1.plot(roc_KNN_B.FPR, roc_KNN_B.TPR, color='darkmagenta', lw=1, label= metrics_clf_KNN_B.columns.values.tolist()[0] + ':  %.3f' % metrics_clf_KNN_B.at['ROC AUC', metrics_clf_KNN_B.columns.values.tolist()[0]])\n",
        "ax1.plot(roc_svc_A.FPR, roc_svc_A.TPR, color='sandybrown', lw=1, label= metrics_clf_svc_A.columns.values.tolist()[0] + ':  %.3f' % metrics_clf_svc_A.at['ROC AUC', metrics_clf_svc_A.columns.values.tolist()[0]])\n",
        "ax1.plot([0, 1], [0, 1], color='navy', lw=2, linestyle='--')\n",
        "\n",
        "ax1.set_xlim([-0.05, 1.0])\n",
        "ax1.set_ylim([0.0, 1.05])\n",
        "ax1.set_xlabel('False Positive Rate')\n",
        "ax1.set_ylabel('True Positive Rate')\n",
        "ax1.legend(loc=\"lower right\", fontsize='small')\n",
        "ax1.set_title('AUC ROC')\n",
        "\n",
        "\n",
        "\n",
        "ax2.plot(prc_gnb_A.Recall, prc_gnb_A.Precision, color='red', lw=1, label= metrics_clf_gnb_A.columns.values.tolist()[0] + ':  %.3f' % metrics_clf_gnb_A.at['F1 Score', metrics_clf_gnb_A.columns.values.tolist()[0]])\n",
        "ax2.plot(prc_RF_A.Recall, prc_RF_A.Precision, color='brown', lw=1, label= metrics_clf_RF_A.columns.values.tolist()[0] + ':  %.3f' % metrics_clf_RF_A.at['F1 Score', metrics_clf_RF_A.columns.values.tolist()[0]])\n",
        "ax2.plot(prc_clf_lr_A.Recall, prc_clf_lr_A.Precision, color='green', lw=1, label= metrics_clf_lr_A.columns.values.tolist()[0] + ':  %.3f' % metrics_clf_lr_A.at['F1 Score', metrics_clf_lr_A.columns.values.tolist()[0]])\n",
        "ax2.plot(prc_LSVC_B.Recall, prc_LSVC_B.Precision, color='yellow', lw=1, label= metrics_clf_LSVC_B.columns.values.tolist()[0] + ':  %.3f' % metrics_clf_LSVC_B.at['F1 Score', metrics_clf_LSVC_B.columns.values.tolist()[0]])\n",
        "ax2.plot(prc_KNN_B.Recall, prc_KNN_B.Precision, color='darkmagenta', lw=1, label= metrics_clf_KNN_B.columns.values.tolist()[0] + ':  %.3f' % metrics_clf_KNN_B.at['F1 Score', metrics_clf_KNN_B.columns.values.tolist()[0]])\n",
        "ax2.plot(prc_svc_A.Recall, prc_svc_A.Precision, color='sandybrown', lw=1, label= metrics_clf_svc_A.columns.values.tolist()[0] + ':  %.3f' % metrics_clf_svc_A.at['F1 Score', metrics_clf_svc_A.columns.values.tolist()[0]])\n",
        "\n",
        "\n",
        "ax2.set_xlim([0.0, 1.0])\n",
        "ax2.set_ylim([0.0, 1.05])\n",
        "ax2.set_xlabel('Recall')\n",
        "ax2.set_ylabel('Precision')\n",
        "ax2.legend(loc=\"lower left\", fontsize='small')\n",
        "ax2.set_title('Precision Recall Curve')"
      ],
      "execution_count": 24,
      "outputs": [
        {
          "output_type": "execute_result",
          "data": {
            "text/plain": [
              "Text(0.5, 1.0, 'Precision Recall Curve')"
            ]
          },
          "metadata": {
            "tags": []
          },
          "execution_count": 24
        },
        {
          "output_type": "display_data",
          "data": {
            "image/png": "[encoded data removed]",
            "text/plain": [
              "<Figure size 1080x504 with 2 Axes>"
            ]
          },
          "metadata": {
            "tags": []
          }
        }
      ]
    },
    {
      "cell_type": "markdown",
      "metadata": {
        "id": "-xiOULPStwCf",
        "colab_type": "text"
      },
      "source": [
        "### BINARY CLASSIFICATION ALGORITHMS - SUMMARY\n",
        "\n",
        "* With respect to ROC AUC evaluation which basically measures \n",
        "> * Same Performance: Random Forest Classifier and Naive Bayes\n",
        "> * Better Performance: Linear SVC, KNN, \n",
        "> * Performance Degraded:Logistics Regression, SVM, \n",
        "\n",
        "* With respect to Recalls (which also consider's the False Negative measurements in performance evaluation)\n",
        "> * All the models have performed better after including additional features in modelling\n",
        "> * Linear SVC and Naive Bayes have performed better than other models in the harness\n",
        "\n",
        "* With respect to F1 Score which is the harmonic mean of Precision and Recall \n",
        "> * All of the models have performed better after including additional features\n",
        "> * Linear SVC and GNB have performed better than all other classifiers\n",
        "\n",
        "\n",
        "\n",
        "So this raises a question which model to select to predict whether or not a turbine will fail or not, in our scenario in next 30 cycles \n",
        "\n",
        "\n",
        "**Based on the ROC AUC and Precision Recall curve - Gaussian Naive Bayes has performed best in this situation**\n",
        "\n",
        "For this we need to perform the COST BENEFIT analysis by comparing:\n",
        "* the benefits of correct predictions\n",
        "* vs the penalties of wrong perdiction (i.e. predicting that machine will fail and thus incuring maintenance cost and lost production opportunity)\n",
        "\n",
        "Such a cost benefit metrics are usually designed by Business Domain Experts / Maintenance Experts. Intuitively speaking it will have weights associated with True Positives, True Negative, False Positives as well as False Negatives and should also consider the constrained operational and maintenance thresholds (we will not go into details of the threshold values in this notebook, but will rather focus on modeling cost benefit matrix assuming some threshold values)\n",
        "\n",
        "Let's discuss this aspect in details in the next section"
      ]
    },
    {
      "cell_type": "markdown",
      "metadata": {
        "id": "_HmhXhM-zOP8",
        "colab_type": "text"
      },
      "source": [
        "### EXPECTED BENEFIT CALCULATION\n",
        "\n",
        "According to the book DATA SCIENCE for BUSINESS, a cost benefit matrix can be calculated inline with confusion matrix and than converting the model performance to a single monetary value by mutiplying the confusion matrix with the weights for TP, TN, FP and FN.\n",
        "\n",
        "So a formulae for this could be:\n",
        "\n",
        "**Expected Profit = (+ve probability)* [TPR x Benefit(TP) + FNR x Cost(FN)]   +  (-ve probability)[TNR x Benefit(TN) + FPR x Cost(FP)]**\n",
        "\n",
        "Let's assume the following numbers:\n",
        "* True Positive (TP) has benefit of EUR 300 K: the engine's that needs maintenance have been correctly selected by the model\n",
        "* True Negative (TN) has benefit of EUR 50 K: the engine's that are OK and not selected by model, thus ensuring that we are not doing early maintenance\n",
        "\n",
        "* False Positive (FP) has cost of EUR -100K: engines that are OK but have been predicted to fail by model, this incuring maintenance cost and loss in productino time\n",
        "* False Negative (FN) has cost of EUR  -200K: engines that need maintenance but not selected by model, this will mean that we will have do some urgent maintenance activities which will cost more than the planned maintenance"
      ]
    },
    {
      "cell_type": "code",
      "metadata": {
        "id": "9eJfKlDWtRp_",
        "colab_type": "code",
        "outputId": "2010acc6-5ed4-4fbe-d1a7-8e2ebfb13b5d",
        "colab": {
          "base_uri": "https://localhost:8080/",
          "height": 72
        }
      },
      "source": [
        "#Let's look at the distribution of test data\n",
        "print(y_test.value_counts())"
      ],
      "execution_count": 25,
      "outputs": [
        {
          "output_type": "stream",
          "text": [
            "0    75\n",
            "1    25\n",
            "Name: label_bnc, dtype: int64\n"
          ],
          "name": "stdout"
        }
      ]
    },
    {
      "cell_type": "markdown",
      "metadata": {
        "id": "yHzjgvrq07WL",
        "colab_type": "text"
      },
      "source": [
        "No of class instances with Positive Prediction (i.e. MAINTENANCE REQUIRED) = 25\n",
        "\n",
        "No of class instances with Negative Prediction (i.e NO MAINTENANCE REQUIRED) = 75"
      ]
    },
    {
      "cell_type": "markdown",
      "metadata": {
        "id": "jnLSsR7V2RRA",
        "colab_type": "text"
      },
      "source": [
        "We will now calculate the ROC threshold values for all the classifiers. Once that is done we will calculate the maximum possible profit across the models to select which model to pick\n"
      ]
    },
    {
      "cell_type": "code",
      "metadata": {
        "id": "V-LAPhE825xS",
        "colab_type": "code",
        "outputId": "d46b0630-388b-45ba-b1de-1681107f867d",
        "colab": {
          "base_uri": "https://localhost:8080/",
          "height": 408
        }
      },
      "source": [
        "TPB = 300\n",
        "TNB = 50\n",
        "FPC = -100\n",
        "FNC = -200\n",
        "\n",
        "probability_positive = 0.25\n",
        "probability_negative = 0.75\n",
        "\n",
        "df_max_profit = pd.DataFrame()\n",
        "\n",
        "roc_df = [roc_clf_lr_A, roc_clf_lr_B, roc_LSVC_A, roc_LSVC_B, roc_gnb_A, roc_gnb_B, roc_KNN_A, roc_KNN_B, roc_RF_A, roc_RF_A, roc_svc_A, roc_svc_B]\n",
        "\n",
        "for df in roc_df:\n",
        "  df['Profit'] = probability_positive*(df.TPR*TPB + df.FNR*FNC) + probability_negative*(df.TNR*TNB + df.FPR*FPC)\n",
        "  df_max = df[df.Profit == df.Profit.max()]\n",
        "  df_max_profit = pd.concat([df_max_profit, df_max], ignore_index=True)\n",
        "  \n",
        "col_names = ['Profit', 'Model', 'Que', 'Threshold', 'TP', 'FP', 'TN', 'FN', 'TPR', 'FPR', 'TNR', 'FNR']\n",
        "\n",
        "#Sort results by Profit\n",
        "df_max_profit = df_max_profit[col_names].sort_values(by='Profit', ascending=False).reset_index(drop=True)\n",
        "display(df_max_profit)"
      ],
      "execution_count": 26,
      "outputs": [
        {
          "output_type": "display_data",
          "data": {
            "text/html": [
              "<div>\n",
              "<style scoped>\n",
              "    .dataframe tbody tr th:only-of-type {\n",
              "        vertical-align: middle;\n",
              "    }\n",
              "\n",
              "    .dataframe tbody tr th {\n",
              "        vertical-align: top;\n",
              "    }\n",
              "\n",
              "    .dataframe thead th {\n",
              "        text-align: right;\n",
              "    }\n",
              "</style>\n",
              "<table border=\"1\" class=\"dataframe\">\n",
              "  <thead>\n",
              "    <tr style=\"text-align: right;\">\n",
              "      <th></th>\n",
              "      <th>Profit</th>\n",
              "      <th>Model</th>\n",
              "      <th>Que</th>\n",
              "      <th>Threshold</th>\n",
              "      <th>TP</th>\n",
              "      <th>FP</th>\n",
              "      <th>TN</th>\n",
              "      <th>FN</th>\n",
              "      <th>TPR</th>\n",
              "      <th>FPR</th>\n",
              "      <th>TNR</th>\n",
              "      <th>FNR</th>\n",
              "    </tr>\n",
              "  </thead>\n",
              "  <tbody>\n",
              "    <tr>\n",
              "      <th>0</th>\n",
              "      <td>53.500000</td>\n",
              "      <td>Gaussian NB A</td>\n",
              "      <td>0.31</td>\n",
              "      <td>0.039856</td>\n",
              "      <td>25</td>\n",
              "      <td>0</td>\n",
              "      <td>69</td>\n",
              "      <td>6</td>\n",
              "      <td>1.00</td>\n",
              "      <td>0.080000</td>\n",
              "      <td>0.920000</td>\n",
              "      <td>1.000000</td>\n",
              "    </tr>\n",
              "    <tr>\n",
              "      <th>1</th>\n",
              "      <td>52.704225</td>\n",
              "      <td>Gaussian NB B</td>\n",
              "      <td>0.29</td>\n",
              "      <td>0.791340</td>\n",
              "      <td>24</td>\n",
              "      <td>1</td>\n",
              "      <td>70</td>\n",
              "      <td>5</td>\n",
              "      <td>0.96</td>\n",
              "      <td>0.066667</td>\n",
              "      <td>0.933333</td>\n",
              "      <td>0.985915</td>\n",
              "    </tr>\n",
              "    <tr>\n",
              "      <th>2</th>\n",
              "      <td>52.473684</td>\n",
              "      <td>Logistic Regression A</td>\n",
              "      <td>0.24</td>\n",
              "      <td>0.211685</td>\n",
              "      <td>22</td>\n",
              "      <td>3</td>\n",
              "      <td>73</td>\n",
              "      <td>2</td>\n",
              "      <td>0.88</td>\n",
              "      <td>0.026667</td>\n",
              "      <td>0.973333</td>\n",
              "      <td>0.960526</td>\n",
              "    </tr>\n",
              "    <tr>\n",
              "      <th>3</th>\n",
              "      <td>51.869863</td>\n",
              "      <td>Linear SVC B</td>\n",
              "      <td>0.27</td>\n",
              "      <td>0.036588</td>\n",
              "      <td>23</td>\n",
              "      <td>2</td>\n",
              "      <td>71</td>\n",
              "      <td>4</td>\n",
              "      <td>0.92</td>\n",
              "      <td>0.053333</td>\n",
              "      <td>0.946667</td>\n",
              "      <td>0.972603</td>\n",
              "    </tr>\n",
              "    <tr>\n",
              "      <th>4</th>\n",
              "      <td>51.214286</td>\n",
              "      <td>SVM A</td>\n",
              "      <td>0.30</td>\n",
              "      <td>-0.901244</td>\n",
              "      <td>24</td>\n",
              "      <td>1</td>\n",
              "      <td>69</td>\n",
              "      <td>6</td>\n",
              "      <td>0.96</td>\n",
              "      <td>0.080000</td>\n",
              "      <td>0.920000</td>\n",
              "      <td>0.985714</td>\n",
              "    </tr>\n",
              "    <tr>\n",
              "      <th>5</th>\n",
              "      <td>51.000000</td>\n",
              "      <td>Logistic Regression B</td>\n",
              "      <td>0.25</td>\n",
              "      <td>0.117968</td>\n",
              "      <td>22</td>\n",
              "      <td>3</td>\n",
              "      <td>72</td>\n",
              "      <td>3</td>\n",
              "      <td>0.88</td>\n",
              "      <td>0.040000</td>\n",
              "      <td>0.960000</td>\n",
              "      <td>0.960000</td>\n",
              "    </tr>\n",
              "    <tr>\n",
              "      <th>6</th>\n",
              "      <td>50.097403</td>\n",
              "      <td>KNN B</td>\n",
              "      <td>0.23</td>\n",
              "      <td>0.307692</td>\n",
              "      <td>21</td>\n",
              "      <td>4</td>\n",
              "      <td>73</td>\n",
              "      <td>2</td>\n",
              "      <td>0.84</td>\n",
              "      <td>0.026667</td>\n",
              "      <td>0.973333</td>\n",
              "      <td>0.948052</td>\n",
              "    </tr>\n",
              "    <tr>\n",
              "      <th>7</th>\n",
              "      <td>50.097403</td>\n",
              "      <td>SVM B</td>\n",
              "      <td>0.23</td>\n",
              "      <td>-0.540192</td>\n",
              "      <td>21</td>\n",
              "      <td>4</td>\n",
              "      <td>73</td>\n",
              "      <td>2</td>\n",
              "      <td>0.84</td>\n",
              "      <td>0.026667</td>\n",
              "      <td>0.973333</td>\n",
              "      <td>0.948052</td>\n",
              "    </tr>\n",
              "    <tr>\n",
              "      <th>8</th>\n",
              "      <td>49.724638</td>\n",
              "      <td>Random Forest Classifier A</td>\n",
              "      <td>0.31</td>\n",
              "      <td>0.128068</td>\n",
              "      <td>24</td>\n",
              "      <td>1</td>\n",
              "      <td>68</td>\n",
              "      <td>7</td>\n",
              "      <td>0.96</td>\n",
              "      <td>0.093333</td>\n",
              "      <td>0.906667</td>\n",
              "      <td>0.985507</td>\n",
              "    </tr>\n",
              "    <tr>\n",
              "      <th>9</th>\n",
              "      <td>49.724638</td>\n",
              "      <td>Random Forest Classifier A</td>\n",
              "      <td>0.31</td>\n",
              "      <td>0.128068</td>\n",
              "      <td>24</td>\n",
              "      <td>1</td>\n",
              "      <td>68</td>\n",
              "      <td>7</td>\n",
              "      <td>0.96</td>\n",
              "      <td>0.093333</td>\n",
              "      <td>0.906667</td>\n",
              "      <td>0.985507</td>\n",
              "    </tr>\n",
              "    <tr>\n",
              "      <th>10</th>\n",
              "      <td>49.527027</td>\n",
              "      <td>Linear SVC A</td>\n",
              "      <td>0.26</td>\n",
              "      <td>-0.314730</td>\n",
              "      <td>22</td>\n",
              "      <td>3</td>\n",
              "      <td>71</td>\n",
              "      <td>4</td>\n",
              "      <td>0.88</td>\n",
              "      <td>0.053333</td>\n",
              "      <td>0.946667</td>\n",
              "      <td>0.959459</td>\n",
              "    </tr>\n",
              "    <tr>\n",
              "      <th>11</th>\n",
              "      <td>46.246753</td>\n",
              "      <td>KNN A</td>\n",
              "      <td>0.23</td>\n",
              "      <td>0.384615</td>\n",
              "      <td>20</td>\n",
              "      <td>5</td>\n",
              "      <td>72</td>\n",
              "      <td>3</td>\n",
              "      <td>0.80</td>\n",
              "      <td>0.040000</td>\n",
              "      <td>0.960000</td>\n",
              "      <td>0.935065</td>\n",
              "    </tr>\n",
              "  </tbody>\n",
              "</table>\n",
              "</div>"
            ],
            "text/plain": [
              "       Profit                       Model   Que  ...       FPR       TNR       FNR\n",
              "0   53.500000               Gaussian NB A  0.31  ...  0.080000  0.920000  1.000000\n",
              "1   52.704225               Gaussian NB B  0.29  ...  0.066667  0.933333  0.985915\n",
              "2   52.473684       Logistic Regression A  0.24  ...  0.026667  0.973333  0.960526\n",
              "3   51.869863                Linear SVC B  0.27  ...  0.053333  0.946667  0.972603\n",
              "4   51.214286                       SVM A  0.30  ...  0.080000  0.920000  0.985714\n",
              "5   51.000000       Logistic Regression B  0.25  ...  0.040000  0.960000  0.960000\n",
              "6   50.097403                       KNN B  0.23  ...  0.026667  0.973333  0.948052\n",
              "7   50.097403                       SVM B  0.23  ...  0.026667  0.973333  0.948052\n",
              "8   49.724638  Random Forest Classifier A  0.31  ...  0.093333  0.906667  0.985507\n",
              "9   49.724638  Random Forest Classifier A  0.31  ...  0.093333  0.906667  0.985507\n",
              "10  49.527027                Linear SVC A  0.26  ...  0.053333  0.946667  0.959459\n",
              "11  46.246753                       KNN A  0.23  ...  0.040000  0.960000  0.935065\n",
              "\n",
              "[12 rows x 12 columns]"
            ]
          },
          "metadata": {
            "tags": []
          }
        }
      ]
    },
    {
      "cell_type": "markdown",
      "metadata": {
        "id": "uZnyEMcj6BHa",
        "colab_type": "text"
      },
      "source": [
        "Gaussian Naive Bayes has the best profit per engine (EUR 52 ~ 53 K) if the company has the capacity to maintain 31% of the engines per period (Queue)\n",
        "\n",
        "For scenario where there are maintenance operational contraints - the same method can be applied"
      ]
    },
    {
      "cell_type": "code",
      "metadata": {
        "id": "ZebHh50u6ALr",
        "colab_type": "code",
        "outputId": "b386876e-edfd-49d6-d548-6b561061ec59",
        "colab": {
          "base_uri": "https://localhost:8080/",
          "height": 408
        }
      },
      "source": [
        "df_max_profit = df_max_profit[col_names].sort_values(by=['Que','Profit'], ascending=[True, False]).reset_index(drop=True)\n",
        "display(df_max_profit)"
      ],
      "execution_count": 27,
      "outputs": [
        {
          "output_type": "display_data",
          "data": {
            "text/html": [
              "<div>\n",
              "<style scoped>\n",
              "    .dataframe tbody tr th:only-of-type {\n",
              "        vertical-align: middle;\n",
              "    }\n",
              "\n",
              "    .dataframe tbody tr th {\n",
              "        vertical-align: top;\n",
              "    }\n",
              "\n",
              "    .dataframe thead th {\n",
              "        text-align: right;\n",
              "    }\n",
              "</style>\n",
              "<table border=\"1\" class=\"dataframe\">\n",
              "  <thead>\n",
              "    <tr style=\"text-align: right;\">\n",
              "      <th></th>\n",
              "      <th>Profit</th>\n",
              "      <th>Model</th>\n",
              "      <th>Que</th>\n",
              "      <th>Threshold</th>\n",
              "      <th>TP</th>\n",
              "      <th>FP</th>\n",
              "      <th>TN</th>\n",
              "      <th>FN</th>\n",
              "      <th>TPR</th>\n",
              "      <th>FPR</th>\n",
              "      <th>TNR</th>\n",
              "      <th>FNR</th>\n",
              "    </tr>\n",
              "  </thead>\n",
              "  <tbody>\n",
              "    <tr>\n",
              "      <th>0</th>\n",
              "      <td>50.097403</td>\n",
              "      <td>KNN B</td>\n",
              "      <td>0.23</td>\n",
              "      <td>0.307692</td>\n",
              "      <td>21</td>\n",
              "      <td>4</td>\n",
              "      <td>73</td>\n",
              "      <td>2</td>\n",
              "      <td>0.84</td>\n",
              "      <td>0.026667</td>\n",
              "      <td>0.973333</td>\n",
              "      <td>0.948052</td>\n",
              "    </tr>\n",
              "    <tr>\n",
              "      <th>1</th>\n",
              "      <td>50.097403</td>\n",
              "      <td>SVM B</td>\n",
              "      <td>0.23</td>\n",
              "      <td>-0.540192</td>\n",
              "      <td>21</td>\n",
              "      <td>4</td>\n",
              "      <td>73</td>\n",
              "      <td>2</td>\n",
              "      <td>0.84</td>\n",
              "      <td>0.026667</td>\n",
              "      <td>0.973333</td>\n",
              "      <td>0.948052</td>\n",
              "    </tr>\n",
              "    <tr>\n",
              "      <th>2</th>\n",
              "      <td>46.246753</td>\n",
              "      <td>KNN A</td>\n",
              "      <td>0.23</td>\n",
              "      <td>0.384615</td>\n",
              "      <td>20</td>\n",
              "      <td>5</td>\n",
              "      <td>72</td>\n",
              "      <td>3</td>\n",
              "      <td>0.80</td>\n",
              "      <td>0.040000</td>\n",
              "      <td>0.960000</td>\n",
              "      <td>0.935065</td>\n",
              "    </tr>\n",
              "    <tr>\n",
              "      <th>3</th>\n",
              "      <td>52.473684</td>\n",
              "      <td>Logistic Regression A</td>\n",
              "      <td>0.24</td>\n",
              "      <td>0.211685</td>\n",
              "      <td>22</td>\n",
              "      <td>3</td>\n",
              "      <td>73</td>\n",
              "      <td>2</td>\n",
              "      <td>0.88</td>\n",
              "      <td>0.026667</td>\n",
              "      <td>0.973333</td>\n",
              "      <td>0.960526</td>\n",
              "    </tr>\n",
              "    <tr>\n",
              "      <th>4</th>\n",
              "      <td>51.000000</td>\n",
              "      <td>Logistic Regression B</td>\n",
              "      <td>0.25</td>\n",
              "      <td>0.117968</td>\n",
              "      <td>22</td>\n",
              "      <td>3</td>\n",
              "      <td>72</td>\n",
              "      <td>3</td>\n",
              "      <td>0.88</td>\n",
              "      <td>0.040000</td>\n",
              "      <td>0.960000</td>\n",
              "      <td>0.960000</td>\n",
              "    </tr>\n",
              "    <tr>\n",
              "      <th>5</th>\n",
              "      <td>49.527027</td>\n",
              "      <td>Linear SVC A</td>\n",
              "      <td>0.26</td>\n",
              "      <td>-0.314730</td>\n",
              "      <td>22</td>\n",
              "      <td>3</td>\n",
              "      <td>71</td>\n",
              "      <td>4</td>\n",
              "      <td>0.88</td>\n",
              "      <td>0.053333</td>\n",
              "      <td>0.946667</td>\n",
              "      <td>0.959459</td>\n",
              "    </tr>\n",
              "    <tr>\n",
              "      <th>6</th>\n",
              "      <td>51.869863</td>\n",
              "      <td>Linear SVC B</td>\n",
              "      <td>0.27</td>\n",
              "      <td>0.036588</td>\n",
              "      <td>23</td>\n",
              "      <td>2</td>\n",
              "      <td>71</td>\n",
              "      <td>4</td>\n",
              "      <td>0.92</td>\n",
              "      <td>0.053333</td>\n",
              "      <td>0.946667</td>\n",
              "      <td>0.972603</td>\n",
              "    </tr>\n",
              "    <tr>\n",
              "      <th>7</th>\n",
              "      <td>52.704225</td>\n",
              "      <td>Gaussian NB B</td>\n",
              "      <td>0.29</td>\n",
              "      <td>0.791340</td>\n",
              "      <td>24</td>\n",
              "      <td>1</td>\n",
              "      <td>70</td>\n",
              "      <td>5</td>\n",
              "      <td>0.96</td>\n",
              "      <td>0.066667</td>\n",
              "      <td>0.933333</td>\n",
              "      <td>0.985915</td>\n",
              "    </tr>\n",
              "    <tr>\n",
              "      <th>8</th>\n",
              "      <td>51.214286</td>\n",
              "      <td>SVM A</td>\n",
              "      <td>0.30</td>\n",
              "      <td>-0.901244</td>\n",
              "      <td>24</td>\n",
              "      <td>1</td>\n",
              "      <td>69</td>\n",
              "      <td>6</td>\n",
              "      <td>0.96</td>\n",
              "      <td>0.080000</td>\n",
              "      <td>0.920000</td>\n",
              "      <td>0.985714</td>\n",
              "    </tr>\n",
              "    <tr>\n",
              "      <th>9</th>\n",
              "      <td>53.500000</td>\n",
              "      <td>Gaussian NB A</td>\n",
              "      <td>0.31</td>\n",
              "      <td>0.039856</td>\n",
              "      <td>25</td>\n",
              "      <td>0</td>\n",
              "      <td>69</td>\n",
              "      <td>6</td>\n",
              "      <td>1.00</td>\n",
              "      <td>0.080000</td>\n",
              "      <td>0.920000</td>\n",
              "      <td>1.000000</td>\n",
              "    </tr>\n",
              "    <tr>\n",
              "      <th>10</th>\n",
              "      <td>49.724638</td>\n",
              "      <td>Random Forest Classifier A</td>\n",
              "      <td>0.31</td>\n",
              "      <td>0.128068</td>\n",
              "      <td>24</td>\n",
              "      <td>1</td>\n",
              "      <td>68</td>\n",
              "      <td>7</td>\n",
              "      <td>0.96</td>\n",
              "      <td>0.093333</td>\n",
              "      <td>0.906667</td>\n",
              "      <td>0.985507</td>\n",
              "    </tr>\n",
              "    <tr>\n",
              "      <th>11</th>\n",
              "      <td>49.724638</td>\n",
              "      <td>Random Forest Classifier A</td>\n",
              "      <td>0.31</td>\n",
              "      <td>0.128068</td>\n",
              "      <td>24</td>\n",
              "      <td>1</td>\n",
              "      <td>68</td>\n",
              "      <td>7</td>\n",
              "      <td>0.96</td>\n",
              "      <td>0.093333</td>\n",
              "      <td>0.906667</td>\n",
              "      <td>0.985507</td>\n",
              "    </tr>\n",
              "  </tbody>\n",
              "</table>\n",
              "</div>"
            ],
            "text/plain": [
              "       Profit                       Model   Que  ...       FPR       TNR       FNR\n",
              "0   50.097403                       KNN B  0.23  ...  0.026667  0.973333  0.948052\n",
              "1   50.097403                       SVM B  0.23  ...  0.026667  0.973333  0.948052\n",
              "2   46.246753                       KNN A  0.23  ...  0.040000  0.960000  0.935065\n",
              "3   52.473684       Logistic Regression A  0.24  ...  0.026667  0.973333  0.960526\n",
              "4   51.000000       Logistic Regression B  0.25  ...  0.040000  0.960000  0.960000\n",
              "5   49.527027                Linear SVC A  0.26  ...  0.053333  0.946667  0.959459\n",
              "6   51.869863                Linear SVC B  0.27  ...  0.053333  0.946667  0.972603\n",
              "7   52.704225               Gaussian NB B  0.29  ...  0.066667  0.933333  0.985915\n",
              "8   51.214286                       SVM A  0.30  ...  0.080000  0.920000  0.985714\n",
              "9   53.500000               Gaussian NB A  0.31  ...  0.080000  0.920000  1.000000\n",
              "10  49.724638  Random Forest Classifier A  0.31  ...  0.093333  0.906667  0.985507\n",
              "11  49.724638  Random Forest Classifier A  0.31  ...  0.093333  0.906667  0.985507\n",
              "\n",
              "[12 rows x 12 columns]"
            ]
          },
          "metadata": {
            "tags": []
          }
        }
      ]
    },
    {
      "cell_type": "markdown",
      "metadata": {
        "id": "Tada0i6L640V",
        "colab_type": "text"
      },
      "source": [
        "For constrained operations:\n",
        "* Working at capacity of 27% -> Linear SVC gives Best Profit of 51.86K EUR per engine\n",
        "* Working at capacity of 23% -> KNN gives Best Profit of 50.09K EUR per engine\n",
        "\n"
      ]
    },
    {
      "cell_type": "markdown",
      "metadata": {
        "id": "TToYSqP07Z9Z",
        "colab_type": "text"
      },
      "source": [
        "#**Summary**\n",
        "With the use of Expected Benefit Value method to calculate business gain in monetary units - we can compare different classification methods and support decision making in different operating conditions"
      ]
    }
  ]
}